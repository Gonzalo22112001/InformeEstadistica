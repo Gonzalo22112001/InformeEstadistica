{
 "cells": [
  {
   "cell_type": "markdown",


   "metadata": {},
   "source": [
    "# INFORME ESTADÍSTICO: DATASET CURSOS UDEMY\n",
    "Gonzalo López Blanquer y Eduardo Abad Zabala\n"
   ]
  },
  {
   "cell_type": "markdown",
   "metadata": {},
   "source": [
    "Como primer paso, hemos importado todas las librerías que usaremos para el documento"
   ]
  },
  {
   "cell_type": "code",
   "execution_count": 4,

   "metadata": {},
   "source": [

    "# INFORME ESTADÍSTICO \n",
    "A continuación vamos a analizar una base de datos de UDEMY ,donde tenemos mucha información sobre los diferentes cursos y sus características"

    "import pandas as pd\n",
    "import numpy as np\n",
    "import scipy.stats as st\n",
    "import seaborn as sns\n",
    "import matplotlib.pyplot as plt\n",
    "import statsmodels.api as sm\n",
    "from fitter import Fitter\n",
    "\n",
    "# Cargamos nuestro dataset\n",
    "df=pd.read_csv('udemy_courses_dataset.csv')\n",
    "\n"
   ]
  },
  {
   "cell_type": "markdown",
   "metadata": {},
   "source": [
    "Vemos las columnas del dataset"

   ]
  },
  {
   "cell_type": "code",

   "execution_count": 1,

   "execution_count": 5,
   "metadata": {},
   "outputs": [
    {
     "data": {
      "text/plain": [
       "Index(['course_id', 'course_title', 'url', 'is_paid', 'price',\n",
       "       'num_subscribers', 'num_reviews', 'num_lectures', 'level',\n",
       "       'content_duration', 'published_timestamp', 'subject'],\n",
       "      dtype='object')"
      ]
     },
     "execution_count": 5,
     "metadata": {},
     "output_type": "execute_result"
    }
   ],
   "source": [
    "df.columns"
   ]
  },
  {
   "cell_type": "markdown",
   "metadata": {},
   "source": [
    "Consideramos que la url y la fecha de publicación, no nos da información relevante, por lo que la eliminamos"
   ]
  },
  {
   "cell_type": "code",
   "execution_count": 6,

   "metadata": {},
   "outputs": [
    {
     "data": {
      "text/html": [
       "<div>\n",
       "<style scoped>\n",
       "    .dataframe tbody tr th:only-of-type {\n",
       "        vertical-align: middle;\n",
       "    }\n",
       "\n",
       "    .dataframe tbody tr th {\n",
       "        vertical-align: top;\n",
       "    }\n",
       "\n",
       "    .dataframe thead th {\n",
       "        text-align: right;\n",
       "    }\n",
       "</style>\n",
       "<table border=\"1\" class=\"dataframe\">\n",
       "  <thead>\n",
       "    <tr style=\"text-align: right;\">\n",
       "      <th></th>\n",
       "      <th>course_id</th>\n",
       "      <th>course_title</th>\n",
       "      <th>is_paid</th>\n",
       "      <th>price</th>\n",
       "      <th>num_subscribers</th>\n",
       "      <th>num_reviews</th>\n",
       "      <th>num_lectures</th>\n",
       "      <th>level</th>\n",
       "      <th>content_duration</th>\n",
       "      <th>subject</th>\n",
       "    </tr>\n",
       "  </thead>\n",
       "  <tbody>\n",
       "    <tr>\n",
       "      <th>0</th>\n",
       "      <td>1070968</td>\n",
       "      <td>Ultimate Investment Banking Course</td>\n",
       "      <td>True</td>\n",
       "      <td>200</td>\n",
       "      <td>2147</td>\n",
       "      <td>23</td>\n",
       "      <td>51</td>\n",
       "      <td>All Levels</td>\n",
       "      <td>1.5</td>\n",
       "      <td>Business Finance</td>\n",
       "    </tr>\n",
       "    <tr>\n",
       "      <th>1</th>\n",
       "      <td>1113822</td>\n",
       "      <td>Complete GST Course &amp; Certification - Grow You...</td>\n",
       "      <td>True</td>\n",
       "      <td>75</td>\n",
       "      <td>2792</td>\n",
       "      <td>923</td>\n",
       "      <td>274</td>\n",
       "      <td>All Levels</td>\n",
       "      <td>39.0</td>\n",
       "      <td>Business Finance</td>\n",
       "    </tr>\n",
       "    <tr>\n",
       "      <th>2</th>\n",
       "      <td>1006314</td>\n",
       "      <td>Financial Modeling for Business Analysts and C...</td>\n",
       "      <td>True</td>\n",
       "      <td>45</td>\n",
       "      <td>2174</td>\n",
       "      <td>74</td>\n",
       "      <td>51</td>\n",
       "      <td>Intermediate Level</td>\n",
       "      <td>2.5</td>\n",
       "      <td>Business Finance</td>\n",
       "    </tr>\n",
       "    <tr>\n",
       "      <th>3</th>\n",
       "      <td>1210588</td>\n",
       "      <td>Beginner to Pro - Financial Analysis in Excel ...</td>\n",
       "      <td>True</td>\n",
       "      <td>95</td>\n",
       "      <td>2451</td>\n",
       "      <td>11</td>\n",
       "      <td>36</td>\n",
       "      <td>All Levels</td>\n",
       "      <td>3.0</td>\n",
       "      <td>Business Finance</td>\n",
       "    </tr>\n",
       "    <tr>\n",
       "      <th>4</th>\n",
       "      <td>1011058</td>\n",
       "      <td>How To Maximize Your Profits Trading Options</td>\n",
       "      <td>True</td>\n",
       "      <td>200</td>\n",
       "      <td>1276</td>\n",
       "      <td>45</td>\n",
       "      <td>26</td>\n",
       "      <td>Intermediate Level</td>\n",
       "      <td>2.0</td>\n",
       "      <td>Business Finance</td>\n",
       "    </tr>\n",
       "    <tr>\n",
       "      <th>...</th>\n",
       "      <td>...</td>\n",
       "      <td>...</td>\n",
       "      <td>...</td>\n",
       "      <td>...</td>\n",
       "      <td>...</td>\n",
       "      <td>...</td>\n",
       "      <td>...</td>\n",
       "      <td>...</td>\n",
       "      <td>...</td>\n",
       "      <td>...</td>\n",
       "    </tr>\n",
       "    <tr>\n",
       "      <th>3673</th>\n",
       "      <td>775618</td>\n",
       "      <td>Learn jQuery from Scratch - Master of JavaScri...</td>\n",
       "      <td>True</td>\n",
       "      <td>100</td>\n",
       "      <td>1040</td>\n",
       "      <td>14</td>\n",
       "      <td>21</td>\n",
       "      <td>All Levels</td>\n",
       "      <td>2.0</td>\n",
       "      <td>Web Development</td>\n",
       "    </tr>\n",
       "    <tr>\n",
       "      <th>3674</th>\n",
       "      <td>1088178</td>\n",
       "      <td>How To Design A WordPress Website With No Codi...</td>\n",
       "      <td>True</td>\n",
       "      <td>25</td>\n",
       "      <td>306</td>\n",
       "      <td>3</td>\n",
       "      <td>42</td>\n",
       "      <td>Beginner Level</td>\n",
       "      <td>3.5</td>\n",
       "      <td>Web Development</td>\n",
       "    </tr>\n",
       "    <tr>\n",
       "      <th>3675</th>\n",
       "      <td>635248</td>\n",
       "      <td>Learn and Build using Polymer</td>\n",
       "      <td>True</td>\n",
       "      <td>40</td>\n",
       "      <td>513</td>\n",
       "      <td>169</td>\n",
       "      <td>48</td>\n",
       "      <td>All Levels</td>\n",
       "      <td>3.5</td>\n",
       "      <td>Web Development</td>\n",
       "    </tr>\n",
       "    <tr>\n",
       "      <th>3676</th>\n",
       "      <td>905096</td>\n",
       "      <td>CSS Animations: Create Amazing Effects on Your...</td>\n",
       "      <td>True</td>\n",
       "      <td>50</td>\n",
       "      <td>300</td>\n",
       "      <td>31</td>\n",
       "      <td>38</td>\n",
       "      <td>All Levels</td>\n",
       "      <td>3.0</td>\n",
       "      <td>Web Development</td>\n",
       "    </tr>\n",
       "    <tr>\n",
       "      <th>3677</th>\n",
       "      <td>297602</td>\n",
       "      <td>Using MODX CMS to Build Websites: A Beginner's...</td>\n",
       "      <td>True</td>\n",
       "      <td>45</td>\n",
       "      <td>901</td>\n",
       "      <td>36</td>\n",
       "      <td>20</td>\n",
       "      <td>Beginner Level</td>\n",
       "      <td>2.0</td>\n",
       "      <td>Web Development</td>\n",
       "    </tr>\n",
       "  </tbody>\n",
       "</table>\n",
       "<p>3678 rows × 10 columns</p>\n",
       "</div>"
      ],
      "text/plain": [
       "      course_id                                       course_title  is_paid  \\\n",
       "0       1070968                 Ultimate Investment Banking Course     True   \n",
       "1       1113822  Complete GST Course & Certification - Grow You...     True   \n",
       "2       1006314  Financial Modeling for Business Analysts and C...     True   \n",
       "3       1210588  Beginner to Pro - Financial Analysis in Excel ...     True   \n",
       "4       1011058       How To Maximize Your Profits Trading Options     True   \n",
       "...         ...                                                ...      ...   \n",
       "3673     775618  Learn jQuery from Scratch - Master of JavaScri...     True   \n",
       "3674    1088178  How To Design A WordPress Website With No Codi...     True   \n",
       "3675     635248                      Learn and Build using Polymer     True   \n",
       "3676     905096  CSS Animations: Create Amazing Effects on Your...     True   \n",
       "3677     297602  Using MODX CMS to Build Websites: A Beginner's...     True   \n",
       "\n",
       "      price  num_subscribers  num_reviews  num_lectures               level  \\\n",
       "0       200             2147           23            51          All Levels   \n",
       "1        75             2792          923           274          All Levels   \n",
       "2        45             2174           74            51  Intermediate Level   \n",
       "3        95             2451           11            36          All Levels   \n",
       "4       200             1276           45            26  Intermediate Level   \n",
       "...     ...              ...          ...           ...                 ...   \n",
       "3673    100             1040           14            21          All Levels   \n",
       "3674     25              306            3            42      Beginner Level   \n",
       "3675     40              513          169            48          All Levels   \n",
       "3676     50              300           31            38          All Levels   \n",
       "3677     45              901           36            20      Beginner Level   \n",
       "\n",
       "      content_duration           subject  \n",
       "0                  1.5  Business Finance  \n",
       "1                 39.0  Business Finance  \n",
       "2                  2.5  Business Finance  \n",
       "3                  3.0  Business Finance  \n",
       "4                  2.0  Business Finance  \n",
       "...                ...               ...  \n",
       "3673               2.0   Web Development  \n",
       "3674               3.5   Web Development  \n",
       "3675               3.5   Web Development  \n",
       "3676               3.0   Web Development  \n",
       "3677               2.0   Web Development  \n",
       "\n",

       "      content_duration   published_timestamp           subject  \n",
       "0                  1.5  2017-01-18T20:58:58Z  Business Finance  \n",
       "1                 39.0  2017-03-09T16:34:20Z  Business Finance  \n",
       "2                  2.5  2016-12-19T19:26:30Z  Business Finance  \n",
       "3                  3.0  2017-05-30T20:07:24Z  Business Finance  \n",
       "4                  2.0  2016-12-13T14:57:18Z  Business Finance  \n",
       "...                ...                   ...               ...  \n",
       "3673               2.0  2016-06-14T17:36:46Z   Web Development  \n",
       "3674               3.5  2017-03-10T22:24:30Z   Web Development  \n",
       "3675               3.5  2015-12-30T16:41:42Z   Web Development  \n",
       "3676               3.0  2016-08-11T19:06:15Z   Web Development  \n",
       "3677               2.0  2014-09-28T19:51:11Z   Web Development  \n",
       "\n",
       "[3678 rows x 12 columns]"
      ]
     },
     "execution_count": 1,
     "metadata": {},
     "output_type": "execute_result"
    }
   ],
   "source": [
    "import pandas as pd\n",
    "\n",
    "data=pd.read_csv('udemy_courses_dataset.csv')\n",
    "data\n"
   ]
  },
  {
   "cell_type": "code",
   "execution_count": 3,
   "metadata": {},
   "outputs": [
    {
     "name": "stdout",
     "output_type": "stream",
     "text": [
      "<class 'pandas.core.frame.DataFrame'>\n",
      "RangeIndex: 3678 entries, 0 to 3677\n",
      "Data columns (total 12 columns):\n",
      " #   Column               Non-Null Count  Dtype  \n",
      "---  ------               --------------  -----  \n",
      " 0   course_id            3678 non-null   int64  \n",
      " 1   course_title         3678 non-null   object \n",
      " 2   url                  3678 non-null   object \n",
      " 3   is_paid              3678 non-null   bool   \n",
      " 4   price                3678 non-null   int64  \n",
      " 5   num_subscribers      3678 non-null   int64  \n",
      " 6   num_reviews          3678 non-null   int64  \n",
      " 7   num_lectures         3678 non-null   int64  \n",
      " 8   level                3678 non-null   object \n",
      " 9   content_duration     3678 non-null   float64\n",
      " 10  published_timestamp  3678 non-null   object \n",
      " 11  subject              3678 non-null   object \n",
      "dtypes: bool(1), float64(1), int64(5), object(5)\n",
      "memory usage: 319.8+ KB\n"
     ]
    }
   ],
   "source": [
    "# Describimos las columnas\n",
    "data.info()"
   ]
  },
  {
   "cell_type": "markdown",
   "metadata": {},
   "source": [
    "## DESCRIPCIÓN DEL DATO\n"
   ]
  },
  {
   "cell_type": "markdown",
   "metadata": {},
   "source": [
    "Como podemos observar, tenemos 11 variables diferentes y cada una nos ofrece una información distinta.\n",
    "\n",
    "En cuanto al tipo de dato/variable, podemos diferenciar entre :\n",
    "\n",
    ". CUANTITATIVAS : variables que se muestran con números \n",
    "    -Discretas : números enteros \n",
    "    -Continuas : numeros con decimales\n",
    "\n",
    ". CATEGÓRICAS : variables que se muestran con etiquetas o nombres \n",
    "    -Nominativas: etiquetas\n",
    "    -Ordinales: etiquetas con un orden\n",
    "\n",
    "Analizando la tipología de las variables de nuestro dataset observamos que :\n",
    "\n",
    "- Categóricas: subject, level, is_paid, course_id, course_title, url, published_timestamp\n",
    "\n",
    "- Cuantitativas: price, num_subscribers, num_reviews, num_lectures, content_duration\n",
    "\n",
    "\n",
    "\n"
   ]
  },
  {
   "cell_type": "markdown",
   "metadata": {},
   "source": [
    "# LIMPIEZA DEL DATO\n",
    "Hemos visto que en nuestro dataset hay alguna variable que no nos aporta ningún valor, como es el caso de 'published_timestamp','course_id'y 'url'. Por tanto vamos a eliminarlas de nuestro dataset ."
   ]
  },
  {
   "cell_type": "code",
   "execution_count": null,
   "metadata": {},
   "outputs": [],
   "source": [
    "data=data.drop(columns={'course_id','published_timestamp','url'})\n"
   ]
  },
  {
   "cell_type": "code",
   "execution_count": 4,
   "metadata": {},
   "outputs": [
    {
     "data": {
      "text/html": [
       "<div>\n",
       "<style scoped>\n",
       "    .dataframe tbody tr th:only-of-type {\n",
       "        vertical-align: middle;\n",
       "    }\n",
       "\n",
       "    .dataframe tbody tr th {\n",
       "        vertical-align: top;\n",
       "    }\n",
       "\n",
       "    .dataframe thead th {\n",
       "        text-align: right;\n",
       "    }\n",
       "</style>\n",
       "<table border=\"1\" class=\"dataframe\">\n",
       "  <thead>\n",
       "    <tr style=\"text-align: right;\">\n",
       "      <th></th>\n",
       "      <th>course_title</th>\n",
       "      <th>is_paid</th>\n",
       "      <th>price</th>\n",
       "      <th>num_subscribers</th>\n",
       "      <th>num_reviews</th>\n",
       "      <th>num_lectures</th>\n",
       "      <th>level</th>\n",
       "      <th>content_duration</th>\n",
       "      <th>subject</th>\n",
       "    </tr>\n",
       "  </thead>\n",
       "  <tbody>\n",
       "    <tr>\n",
       "      <th>0</th>\n",
       "      <td>Ultimate Investment Banking Course</td>\n",
       "      <td>True</td>\n",
       "      <td>200</td>\n",
       "      <td>2147</td>\n",
       "      <td>23</td>\n",
       "      <td>51</td>\n",
       "      <td>All Levels</td>\n",
       "      <td>1.5</td>\n",
       "      <td>Business Finance</td>\n",
       "    </tr>\n",
       "    <tr>\n",
       "      <th>1</th>\n",
       "      <td>Complete GST Course &amp; Certification - Grow You...</td>\n",
       "      <td>True</td>\n",
       "      <td>75</td>\n",
       "      <td>2792</td>\n",
       "      <td>923</td>\n",
       "      <td>274</td>\n",
       "      <td>All Levels</td>\n",
       "      <td>39.0</td>\n",
       "      <td>Business Finance</td>\n",
       "    </tr>\n",
       "    <tr>\n",
       "      <th>2</th>\n",
       "      <td>Financial Modeling for Business Analysts and C...</td>\n",
       "      <td>True</td>\n",
       "      <td>45</td>\n",
       "      <td>2174</td>\n",
       "      <td>74</td>\n",
       "      <td>51</td>\n",
       "      <td>Intermediate Level</td>\n",
       "      <td>2.5</td>\n",
       "      <td>Business Finance</td>\n",
       "    </tr>\n",
       "    <tr>\n",
       "      <th>3</th>\n",
       "      <td>Beginner to Pro - Financial Analysis in Excel ...</td>\n",
       "      <td>True</td>\n",
       "      <td>95</td>\n",
       "      <td>2451</td>\n",
       "      <td>11</td>\n",
       "      <td>36</td>\n",
       "      <td>All Levels</td>\n",
       "      <td>3.0</td>\n",
       "      <td>Business Finance</td>\n",
       "    </tr>\n",
       "    <tr>\n",
       "      <th>4</th>\n",
       "      <td>How To Maximize Your Profits Trading Options</td>\n",
       "      <td>True</td>\n",
       "      <td>200</td>\n",
       "      <td>1276</td>\n",
       "      <td>45</td>\n",
       "      <td>26</td>\n",
       "      <td>Intermediate Level</td>\n",
       "      <td>2.0</td>\n",
       "      <td>Business Finance</td>\n",
       "    </tr>\n",
       "    <tr>\n",
       "      <th>...</th>\n",
       "      <td>...</td>\n",
       "      <td>...</td>\n",
       "      <td>...</td>\n",
       "      <td>...</td>\n",
       "      <td>...</td>\n",
       "      <td>...</td>\n",
       "      <td>...</td>\n",
       "      <td>...</td>\n",
       "      <td>...</td>\n",
       "    </tr>\n",
       "    <tr>\n",
       "      <th>3673</th>\n",
       "      <td>Learn jQuery from Scratch - Master of JavaScri...</td>\n",
       "      <td>True</td>\n",
       "      <td>100</td>\n",
       "      <td>1040</td>\n",
       "      <td>14</td>\n",
       "      <td>21</td>\n",
       "      <td>All Levels</td>\n",
       "      <td>2.0</td>\n",
       "      <td>Web Development</td>\n",
       "    </tr>\n",
       "    <tr>\n",
       "      <th>3674</th>\n",
       "      <td>How To Design A WordPress Website With No Codi...</td>\n",
       "      <td>True</td>\n",
       "      <td>25</td>\n",
       "      <td>306</td>\n",
       "      <td>3</td>\n",
       "      <td>42</td>\n",
       "      <td>Beginner Level</td>\n",
       "      <td>3.5</td>\n",
       "      <td>Web Development</td>\n",
       "    </tr>\n",
       "    <tr>\n",
       "      <th>3675</th>\n",
       "      <td>Learn and Build using Polymer</td>\n",
       "      <td>True</td>\n",
       "      <td>40</td>\n",
       "      <td>513</td>\n",
       "      <td>169</td>\n",
       "      <td>48</td>\n",
       "      <td>All Levels</td>\n",
       "      <td>3.5</td>\n",
       "      <td>Web Development</td>\n",
       "    </tr>\n",
       "    <tr>\n",
       "      <th>3676</th>\n",
       "      <td>CSS Animations: Create Amazing Effects on Your...</td>\n",
       "      <td>True</td>\n",
       "      <td>50</td>\n",
       "      <td>300</td>\n",
       "      <td>31</td>\n",
       "      <td>38</td>\n",
       "      <td>All Levels</td>\n",
       "      <td>3.0</td>\n",
       "      <td>Web Development</td>\n",
       "    </tr>\n",
       "    <tr>\n",
       "      <th>3677</th>\n",
       "      <td>Using MODX CMS to Build Websites: A Beginner's...</td>\n",
       "      <td>True</td>\n",
       "      <td>45</td>\n",
       "      <td>901</td>\n",
       "      <td>36</td>\n",
       "      <td>20</td>\n",
       "      <td>Beginner Level</td>\n",
       "      <td>2.0</td>\n",
       "      <td>Web Development</td>\n",
       "    </tr>\n",
       "  </tbody>\n",
       "</table>\n",
       "<p>3678 rows × 9 columns</p>\n",
       "</div>"
      ],
      "text/plain": [
       "                                           course_title  is_paid  price  \\\n",
       "0                    Ultimate Investment Banking Course     True    200   \n",
       "1     Complete GST Course & Certification - Grow You...     True     75   \n",
       "2     Financial Modeling for Business Analysts and C...     True     45   \n",
       "3     Beginner to Pro - Financial Analysis in Excel ...     True     95   \n",
       "4          How To Maximize Your Profits Trading Options     True    200   \n",
       "...                                                 ...      ...    ...   \n",
       "3673  Learn jQuery from Scratch - Master of JavaScri...     True    100   \n",
       "3674  How To Design A WordPress Website With No Codi...     True     25   \n",
       "3675                      Learn and Build using Polymer     True     40   \n",
       "3676  CSS Animations: Create Amazing Effects on Your...     True     50   \n",
       "3677  Using MODX CMS to Build Websites: A Beginner's...     True     45   \n",
       "\n",
       "      num_subscribers  num_reviews  num_lectures               level  \\\n",
       "0                2147           23            51          All Levels   \n",
       "1                2792          923           274          All Levels   \n",
       "2                2174           74            51  Intermediate Level   \n",
       "3                2451           11            36          All Levels   \n",
       "4                1276           45            26  Intermediate Level   \n",
       "...               ...          ...           ...                 ...   \n",
       "3673             1040           14            21          All Levels   \n",
       "3674              306            3            42      Beginner Level   \n",
       "3675              513          169            48          All Levels   \n",
       "3676              300           31            38          All Levels   \n",
       "3677              901           36            20      Beginner Level   \n",
       "\n",
       "      content_duration           subject  \n",
       "0                  1.5  Business Finance  \n",
       "1                 39.0  Business Finance  \n",
       "2                  2.5  Business Finance  \n",
       "3                  3.0  Business Finance  \n",
       "4                  2.0  Business Finance  \n",
       "...                ...               ...  \n",
       "3673               2.0   Web Development  \n",
       "3674               3.5   Web Development  \n",
       "3675               3.5   Web Development  \n",
       "3676               3.0   Web Development  \n",
       "3677               2.0   Web Development  \n",
       "\n",
       "[3678 rows x 9 columns]"
      ]
     },
     "execution_count": 4,

       "[3678 rows x 10 columns]"
      ]
     },
     "execution_count": 6,

     "metadata": {},
     "output_type": "execute_result"
    }
   ],
   "source": [

    "data"
   ]
  },
  {
   "cell_type": "markdown",
   "metadata": {},
   "source": [
    "# DESCRIPCIÓN UNIVARIANTE\n"
   ]
  },
  {
   "cell_type": "markdown",
   "metadata": {},
   "source": [
    "Vamos a analizar cada variable por separado para ver características de cada una. Dependiendo del tipo de variable que sea la analizaremos de una determinada manera. En el caso de las variables categóricas en análisis se centra en el conteo y la distribución que siguen.\n",
    "Y, en el caso de las variables cuantitativas vamos a describir características como la media,moda, mediana, cuartiles,desviación típica...\n",
    "\n",
    "Primero vamos a hacer una breve descripción de cada variable, y después vamos a verlas representadas en distintos tipos de gráficos.\n",
    "\n",
    "Las variables cuantitativas se suelen ver representadas en gráficos como  histogramas (ver la forma de la distribución), gráficos de densidad, boxplot(para ver dispersión y outliers=valores atípicos).\n",
    "\n",
    "Las variables categóricas se suelen ver representadas en gráficos como gráfico de barras, pie-chart."
   ]
  },
  {
   "cell_type": "code",
   "execution_count": null,
   "metadata": {},
   "outputs": [],
   "source": []
  },
  {
   "cell_type": "markdown",
   "metadata": {},
   "source": [
    "# DESCRIPCIÓN BIVARIANTE"
=======
    "data= df.drop(columns=['url', 'published_timestamp'], axis=1)\n",
    "data\n"

   ]
  },
  {
   "cell_type": "markdown",
   "metadata": {},

   "source": []
  },
  {
   "cell_type": "code",
   "execution_count": 4,
   "metadata": {},
   "outputs": [
    {
     "name": "stdout",
     "output_type": "stream",
     "text": [
      "Requirement already satisfied: fitter in c:\\users\\usuario\\appdata\\local\\programs\\python\\python312\\lib\\site-packages (1.7.1)Note: you may need to restart the kernel to use updated packages.\n",
      "\n",
      "Requirement already satisfied: click<9.0.0,>=8.1.6 in c:\\users\\usuario\\appdata\\local\\programs\\python\\python312\\lib\\site-packages (from fitter) (8.1.7)\n",
      "Requirement already satisfied: joblib<2.0.0,>=1.3.1 in c:\\users\\usuario\\appdata\\local\\programs\\python\\python312\\lib\\site-packages (from fitter) (1.4.2)\n",
      "Requirement already satisfied: loguru<0.8.0,>=0.7.2 in c:\\users\\usuario\\appdata\\local\\programs\\python\\python312\\lib\\site-packages (from fitter) (0.7.2)\n",
      "Requirement already satisfied: matplotlib<4.0.0,>=3.7.2 in c:\\users\\usuario\\appdata\\local\\programs\\python\\python312\\lib\\site-packages (from fitter) (3.9.2)\n",
      "Requirement already satisfied: numpy<2.0.0,>=1.20.0 in c:\\users\\usuario\\appdata\\local\\programs\\python\\python312\\lib\\site-packages (from fitter) (1.26.4)\n",
      "Requirement already satisfied: pandas<3.0.0,>=0.23.4 in c:\\users\\usuario\\appdata\\local\\programs\\python\\python312\\lib\\site-packages (from fitter) (2.2.3)\n",
      "Requirement already satisfied: rich-click<2.0.0,>=1.7.2 in c:\\users\\usuario\\appdata\\local\\programs\\python\\python312\\lib\\site-packages (from fitter) (1.8.4)\n",
      "Requirement already satisfied: scipy<2.0.0,>=0.18.0 in c:\\users\\usuario\\appdata\\local\\programs\\python\\python312\\lib\\site-packages (from fitter) (1.13.1)\n",
      "Requirement already satisfied: tqdm<5.0.0,>=4.65.1 in c:\\users\\usuario\\appdata\\local\\programs\\python\\python312\\lib\\site-packages (from fitter) (4.67.0)\n",
      "Requirement already satisfied: colorama in c:\\users\\usuario\\appdata\\local\\programs\\python\\python312\\lib\\site-packages (from click<9.0.0,>=8.1.6->fitter) (0.4.6)\n",
      "Requirement already satisfied: win32-setctime>=1.0.0 in c:\\users\\usuario\\appdata\\local\\programs\\python\\python312\\lib\\site-packages (from loguru<0.8.0,>=0.7.2->fitter) (1.1.0)\n",
      "Requirement already satisfied: contourpy>=1.0.1 in c:\\users\\usuario\\appdata\\local\\programs\\python\\python312\\lib\\site-packages (from matplotlib<4.0.0,>=3.7.2->fitter) (1.3.1)\n",
      "Requirement already satisfied: cycler>=0.10 in c:\\users\\usuario\\appdata\\local\\programs\\python\\python312\\lib\\site-packages (from matplotlib<4.0.0,>=3.7.2->fitter) (0.12.1)\n",
      "Requirement already satisfied: fonttools>=4.22.0 in c:\\users\\usuario\\appdata\\local\\programs\\python\\python312\\lib\\site-packages (from matplotlib<4.0.0,>=3.7.2->fitter) (4.54.1)\n",
      "Requirement already satisfied: kiwisolver>=1.3.1 in c:\\users\\usuario\\appdata\\local\\programs\\python\\python312\\lib\\site-packages (from matplotlib<4.0.0,>=3.7.2->fitter) (1.4.7)\n",
      "Requirement already satisfied: packaging>=20.0 in c:\\users\\usuario\\appdata\\local\\programs\\python\\python312\\lib\\site-packages (from matplotlib<4.0.0,>=3.7.2->fitter) (24.1)\n",
      "Requirement already satisfied: pillow>=8 in c:\\users\\usuario\\appdata\\local\\programs\\python\\python312\\lib\\site-packages (from matplotlib<4.0.0,>=3.7.2->fitter) (11.0.0)\n",
      "Requirement already satisfied: pyparsing>=2.3.1 in c:\\users\\usuario\\appdata\\local\\programs\\python\\python312\\lib\\site-packages (from matplotlib<4.0.0,>=3.7.2->fitter) (3.2.0)\n",
      "Requirement already satisfied: python-dateutil>=2.7 in c:\\users\\usuario\\appdata\\local\\programs\\python\\python312\\lib\\site-packages (from matplotlib<4.0.0,>=3.7.2->fitter) (2.9.0.post0)\n",
      "Requirement already satisfied: pytz>=2020.1 in c:\\users\\usuario\\appdata\\local\\programs\\python\\python312\\lib\\site-packages (from pandas<3.0.0,>=0.23.4->fitter) (2024.2)\n",
      "Requirement already satisfied: tzdata>=2022.7 in c:\\users\\usuario\\appdata\\local\\programs\\python\\python312\\lib\\site-packages (from pandas<3.0.0,>=0.23.4->fitter) (2024.2)\n",
      "Requirement already satisfied: rich>=10.7 in c:\\users\\usuario\\appdata\\local\\programs\\python\\python312\\lib\\site-packages (from rich-click<2.0.0,>=1.7.2->fitter) (13.9.4)\n",
      "Requirement already satisfied: typing-extensions>=4 in c:\\users\\usuario\\appdata\\local\\programs\\python\\python312\\lib\\site-packages (from rich-click<2.0.0,>=1.7.2->fitter) (4.12.2)\n",
      "Requirement already satisfied: six>=1.5 in c:\\users\\usuario\\appdata\\local\\programs\\python\\python312\\lib\\site-packages (from python-dateutil>=2.7->matplotlib<4.0.0,>=3.7.2->fitter) (1.16.0)\n",
      "Requirement already satisfied: markdown-it-py>=2.2.0 in c:\\users\\usuario\\appdata\\local\\programs\\python\\python312\\lib\\site-packages (from rich>=10.7->rich-click<2.0.0,>=1.7.2->fitter) (3.0.0)\n",
      "Requirement already satisfied: pygments<3.0.0,>=2.13.0 in c:\\users\\usuario\\appdata\\local\\programs\\python\\python312\\lib\\site-packages (from rich>=10.7->rich-click<2.0.0,>=1.7.2->fitter) (2.18.0)\n",
      "Requirement already satisfied: mdurl~=0.1 in c:\\users\\usuario\\appdata\\local\\programs\\python\\python312\\lib\\site-packages (from markdown-it-py>=2.2.0->rich>=10.7->rich-click<2.0.0,>=1.7.2->fitter) (0.1.2)\n"
     ]
    },

   "source": [
    "## 1. Elección de datos y breve descripción de su naturaleza"
   ]
  },
  {
   "cell_type": "code",
   "execution_count": 35,
   "metadata": {},
   "outputs": [
    {
     "data": {
      "text/html": [
       "<div>\n",
       "<style scoped>\n",
       "    .dataframe tbody tr th:only-of-type {\n",
       "        vertical-align: middle;\n",
       "    }\n",
       "\n",
       "    .dataframe tbody tr th {\n",
       "        vertical-align: top;\n",
       "    }\n",
       "\n",
       "    .dataframe thead th {\n",
       "        text-align: right;\n",
       "    }\n",
       "</style>\n",
       "<table border=\"1\" class=\"dataframe\">\n",
       "  <thead>\n",
       "    <tr style=\"text-align: right;\">\n",
       "      <th></th>\n",
       "      <th>course_id</th>\n",
       "      <th>price</th>\n",
       "      <th>num_subscribers</th>\n",
       "      <th>num_reviews</th>\n",
       "      <th>num_lectures</th>\n",
       "      <th>content_duration</th>\n",
       "    </tr>\n",
       "  </thead>\n",
       "  <tbody>\n",
       "    <tr>\n",
       "      <th>count</th>\n",
       "      <td>3.678000e+03</td>\n",
       "      <td>3678.000000</td>\n",
       "      <td>3678.000000</td>\n",
       "      <td>3678.000000</td>\n",
       "      <td>3678.000000</td>\n",
       "      <td>3678.000000</td>\n",
       "    </tr>\n",
       "    <tr>\n",
       "      <th>mean</th>\n",
       "      <td>6.759720e+05</td>\n",
       "      <td>66.049483</td>\n",
       "      <td>3197.150625</td>\n",
       "      <td>156.259108</td>\n",
       "      <td>40.108755</td>\n",
       "      <td>4.094517</td>\n",
       "    </tr>\n",
       "    <tr>\n",
       "      <th>std</th>\n",
       "      <td>3.432732e+05</td>\n",
       "      <td>61.005755</td>\n",
       "      <td>9504.117010</td>\n",
       "      <td>935.452044</td>\n",
       "      <td>50.383346</td>\n",
       "      <td>6.053840</td>\n",
       "    </tr>\n",
       "    <tr>\n",
       "      <th>min</th>\n",
       "      <td>8.324000e+03</td>\n",
       "      <td>0.000000</td>\n",
       "      <td>0.000000</td>\n",
       "      <td>0.000000</td>\n",
       "      <td>0.000000</td>\n",
       "      <td>0.000000</td>\n",
       "    </tr>\n",
       "    <tr>\n",
       "      <th>25%</th>\n",
       "      <td>4.076925e+05</td>\n",
       "      <td>20.000000</td>\n",
       "      <td>111.000000</td>\n",
       "      <td>4.000000</td>\n",
       "      <td>15.000000</td>\n",
       "      <td>1.000000</td>\n",
       "    </tr>\n",
       "    <tr>\n",
       "      <th>50%</th>\n",
       "      <td>6.879170e+05</td>\n",
       "      <td>45.000000</td>\n",
       "      <td>911.500000</td>\n",
       "      <td>18.000000</td>\n",
       "      <td>25.000000</td>\n",
       "      <td>2.000000</td>\n",
       "    </tr>\n",
       "    <tr>\n",
       "      <th>75%</th>\n",
       "      <td>9.613555e+05</td>\n",
       "      <td>95.000000</td>\n",
       "      <td>2546.000000</td>\n",
       "      <td>67.000000</td>\n",
       "      <td>45.750000</td>\n",
       "      <td>4.500000</td>\n",
       "    </tr>\n",
       "    <tr>\n",
       "      <th>max</th>\n",
       "      <td>1.282064e+06</td>\n",
       "      <td>200.000000</td>\n",
       "      <td>268923.000000</td>\n",
       "      <td>27445.000000</td>\n",
       "      <td>779.000000</td>\n",
       "      <td>78.500000</td>\n",
       "    </tr>\n",
       "  </tbody>\n",
       "</table>\n",
       "</div>"
      ],
      "text/plain": [
       "          course_id        price  num_subscribers   num_reviews  num_lectures  \\\n",
       "count  3.678000e+03  3678.000000      3678.000000   3678.000000   3678.000000   \n",
       "mean   6.759720e+05    66.049483      3197.150625    156.259108     40.108755   \n",
       "std    3.432732e+05    61.005755      9504.117010    935.452044     50.383346   \n",
       "min    8.324000e+03     0.000000         0.000000      0.000000      0.000000   \n",
       "25%    4.076925e+05    20.000000       111.000000      4.000000     15.000000   \n",
       "50%    6.879170e+05    45.000000       911.500000     18.000000     25.000000   \n",
       "75%    9.613555e+05    95.000000      2546.000000     67.000000     45.750000   \n",
       "max    1.282064e+06   200.000000    268923.000000  27445.000000    779.000000   \n",
       "\n",
       "       content_duration  \n",
       "count       3678.000000  \n",
       "mean           4.094517  \n",
       "std            6.053840  \n",
       "min            0.000000  \n",
       "25%            1.000000  \n",
       "50%            2.000000  \n",
       "75%            4.500000  \n",
       "max           78.500000  "
      ]
     },
     "execution_count": 35,
     "metadata": {},
     "output_type": "execute_result"
    }
   ],
   "source": [
    "data.describe()"
   ]
  },
  {
   "cell_type": "code",
   "execution_count": 36,
   "metadata": {},
   "outputs": [

    {
     "name": "stdout",
     "output_type": "stream",
     "text": [

      "WARNING: Ignoring invalid distribution ~ (c:\\Users\\Usuario\\AppData\\Local\\Programs\\Python\\Python312\\Lib\\site-packages)\n",
      "WARNING: Ignoring invalid distribution ~weetviz (c:\\Users\\Usuario\\AppData\\Local\\Programs\\Python\\Python312\\Lib\\site-packages)\n",
      "WARNING: Ignoring invalid distribution ~ (c:\\Users\\Usuario\\AppData\\Local\\Programs\\Python\\Python312\\Lib\\site-packages)\n",
      "WARNING: Ignoring invalid distribution ~weetviz (c:\\Users\\Usuario\\AppData\\Local\\Programs\\Python\\Python312\\Lib\\site-packages)\n",
      "WARNING: Ignoring invalid distribution ~ (c:\\Users\\Usuario\\AppData\\Local\\Programs\\Python\\Python312\\Lib\\site-packages)\n",
      "WARNING: Ignoring invalid distribution ~weetviz (c:\\Users\\Usuario\\AppData\\Local\\Programs\\Python\\Python312\\Lib\\site-packages)\n"

      "<class 'pandas.core.frame.DataFrame'>\n",
      "RangeIndex: 3678 entries, 0 to 3677\n",
      "Data columns (total 10 columns):\n",
      " #   Column            Non-Null Count  Dtype  \n",
      "---  ------            --------------  -----  \n",
      " 0   course_id         3678 non-null   int64  \n",
      " 1   course_title      3678 non-null   object \n",
      " 2   is_paid           3678 non-null   bool   \n",
      " 3   price             3678 non-null   int64  \n",
      " 4   num_subscribers   3678 non-null   int64  \n",
      " 5   num_reviews       3678 non-null   int64  \n",
      " 6   num_lectures      3678 non-null   int64  \n",
      " 7   level             3678 non-null   object \n",
      " 8   content_duration  3678 non-null   float64\n",
      " 9   subject           3678 non-null   object \n",
      "dtypes: bool(1), float64(1), int64(5), object(3)\n",
      "memory usage: 262.3+ KB\n"

     ]
    }
   ],
   "source": [
    "data.info()"
   ]
  },
  {
   "cell_type": "markdown",
   "metadata": {},
   "source": [
    "### Naturaleza de los datos\n",
    "\n",
    "- Variables categóricas --> is_paid, level, subject\n",
    "- Variables cuantitativas:\n",
    "  - Variables discretas --> price, num_suscribers, num_reviews, num_lectures \n",
    "  - Variables continuas --> content_duration\n"
   ]
  },
  {
   "cell_type": "code",
   "execution_count": null,
   "metadata": {},
   "outputs": [],
   "source": []
  },
  {
   "cell_type": "code",
   "execution_count": null,
   "metadata": {},
   "outputs": [
    {
     "data": {
      "text/html": [
       "<div>\n",
       "<style scoped>\n",
       "    .dataframe tbody tr th:only-of-type {\n",
       "        vertical-align: middle;\n",
       "    }\n",
       "\n",
       "    .dataframe tbody tr th {\n",
       "        vertical-align: top;\n",
       "    }\n",
       "\n",
       "    .dataframe thead th {\n",
       "        text-align: right;\n",
       "    }\n",
       "</style>\n",
       "<table border=\"1\" class=\"dataframe\">\n",
       "  <thead>\n",
       "    <tr style=\"text-align: right;\">\n",
       "      <th></th>\n",
       "      <th>sumsquare_error</th>\n",
       "      <th>aic</th>\n",
       "      <th>bic</th>\n",
       "      <th>kl_div</th>\n",
       "      <th>ks_statistic</th>\n",
       "      <th>ks_pvalue</th>\n",
       "    </tr>\n",
       "  </thead>\n",
       "  <tbody>\n",
       "    <tr>\n",
       "      <th>beta</th>\n",
       "      <td>0.020286</td>\n",
       "      <td>1090.469969</td>\n",
       "      <td>1115.310466</td>\n",
       "      <td>inf</td>\n",
       "      <td>0.211177</td>\n",
       "      <td>2.147902e-144</td>\n",
       "    </tr>\n",
       "    <tr>\n",
       "      <th>expon</th>\n",
       "      <td>0.020328</td>\n",
       "      <td>1144.884119</td>\n",
       "      <td>1157.304367</td>\n",
       "      <td>inf</td>\n",
       "      <td>0.176971</td>\n",
       "      <td>3.123042e-101</td>\n",
       "    </tr>\n",
       "    <tr>\n",
       "      <th>norm</th>\n",
       "      <td>0.021396</td>\n",
       "      <td>1130.513440</td>\n",
       "      <td>1142.933689</td>\n",
       "      <td>inf</td>\n",
       "      <td>0.241073</td>\n",
       "      <td>1.272299e-188</td>\n",
       "    </tr>\n",
       "    <tr>\n",
       "      <th>gamma</th>\n",
       "      <td>0.023157</td>\n",
       "      <td>1272.842744</td>\n",
       "      <td>1291.473118</td>\n",
       "      <td>inf</td>\n",
       "      <td>0.468402</td>\n",
       "      <td>0.000000e+00</td>\n",
       "    </tr>\n",
       "  </tbody>\n",
       "</table>\n",
       "</div>"
      ],
      "text/plain": [
       "       sumsquare_error          aic          bic  kl_div  ks_statistic  \\\n",
       "beta          0.020286  1090.469969  1115.310466     inf      0.211177   \n",
       "expon         0.020328  1144.884119  1157.304367     inf      0.176971   \n",
       "norm          0.021396  1130.513440  1142.933689     inf      0.241073   \n",
       "gamma         0.023157  1272.842744  1291.473118     inf      0.468402   \n",
       "\n",
       "           ks_pvalue  \n",
       "beta   2.147902e-144  \n",
       "expon  3.123042e-101  \n",
       "norm   1.272299e-188  \n",
       "gamma   0.000000e+00  "
      ]
     },
     "execution_count": 15,
     "metadata": {},
     "output_type": "execute_result"
    },
    {
     "data": {
      "image/png": "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",
      "text/plain": [
       "<Figure size 640x480 with 1 Axes>"
      ]
     },
     "metadata": {},
     "output_type": "display_data"
    }
   ],
   "source": []
  },
  {
   "cell_type": "code",
   "execution_count": 14,
   "metadata": {},
   "outputs": [
    {
     "name": "stderr",
     "output_type": "stream",
     "text": [
      "c:\\Users\\eduab\\AppData\\Local\\Programs\\Python\\Python312\\Lib\\site-packages\\scipy\\stats\\_continuous_distns.py:716: RuntimeWarning: invalid value encountered in sqrt\n",
      "  sk = 2*(b-a)*np.sqrt(a + b + 1) / (a + b + 2) / np.sqrt(a*b)\n",
      "c:\\Users\\eduab\\AppData\\Local\\Programs\\Python\\Python312\\Lib\\site-packages\\scipy\\stats\\_continuous_distns.py:6554: RuntimeWarning: overflow encountered in divide\n",
      "  return np.sum((1 + np.log(shifted/scale)/shape**2)/shifted)\n",

      "c:\\Users\\Usuario\\AppData\\Local\\Programs\\Python\\Python312\\Lib\\site-packages\\numpy\\core\\fromnumeric.py:88: RuntimeWarning: overflow encountered in reduce\n",

      "c:\\Users\\eduab\\AppData\\Local\\Programs\\Python\\Python312\\Lib\\site-packages\\numpy\\core\\fromnumeric.py:88: RuntimeWarning: overflow encountered in reduce\n",

      "  return ufunc.reduce(obj, axis, dtype, out, **passkwargs)\n"
     ]
    },
    {
     "name": "stdout",
     "output_type": "stream",
     "text": [
      "Mejor distribución: beta\n",
      "Parámetros: (0.6062736129649037, 0.9921910509055593, -1.740427898558937e-27, 202.5832648612008)\n"
     ]
    },
    {
     "data": {
      "image/png": "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",
      "text/plain": [
       "<Figure size 640x480 with 1 Axes>"
      ]
     },
     "metadata": {},
     "output_type": "display_data"
    }
   ],
   "source": [
    "# PARA VER QUÉ DISTRIBUCIÓN ES LA MÁS PARECIDA A LOS DATOS\n",

    "import numpy as np\n",
    "import scipy.stats as st\n",
    "import matplotlib.pyplot as plt\n",

    "\n",
    "\n",

    "# Definir la función best_fit_distribution\n",
    "def best_fit_distribution(data, bins=200, plot=False):\n",
    "    DISTRIBUTIONS = [st.norm, st.expon, st.gamma, st.weibull_min, st.weibull_max, st.beta, st.lognorm]\n",
    "\n",
    "    y, x = np.histogram(data, bins=bins, density=True)\n",
    "    x = (x + np.roll(x, -1))[:-1] / 2.0\n",
    "\n",
    "    best_distribution = None\n",
    "    best_params = None\n",
    "    best_sse = np.inf\n",
    "\n",
    "    for distribution in DISTRIBUTIONS:\n",
    "        try:\n",
    "            params = distribution.fit(data)\n",
    "            pdf = distribution.pdf(x, *params[:-2], loc=params[-2], scale=params[-1])\n",
    "            sse = np.sum(np.power(y - pdf, 2.0))\n",
    "\n",
    "            if best_sse > sse > 0:\n",
    "                best_distribution = distribution\n",
    "                best_params = params\n",
    "                best_sse = sse\n",
    "        except Exception:\n",
    "            pass\n",
    "    if best_distribution:\n",
    "        print(f\"Mejor distribución: {best_distribution.name}\")\n",
    "        print(f\"Parámetros: {best_params}\")\n",
    "\n",
    "        if plot:\n",
    "            plt.hist(data, bins=bins, density=True, alpha=0.5, color='b')\n",
    "            pdf = best_distribution.pdf(x, *best_params[:-2], loc=best_params[-2], scale=best_params[-1])\n",
    "            plt.plot(x, pdf, 'r--', label=f'{best_distribution.name}')\n",
    "            plt.legend()\n",
    "            plt.show()\n",
    "\n",
    "    return best_distribution, best_params\n",
    "\n",
    "# Llamada a la función con una columna específica\n",
    "mejor_distribucion, parametros = best_fit_distribution(data[\"price\"], plot=True)\n",
    "\n"
   ]
  },
  {
   "cell_type": "code",

   "execution_count": 6,

   "execution_count": 15,
   "metadata": {},
   "outputs": [
    {
     "data": {
      "text/html": [
       "<div>\n",
       "<style scoped>\n",
       "    .dataframe tbody tr th:only-of-type {\n",
       "        vertical-align: middle;\n",
       "    }\n",
       "\n",
       "    .dataframe tbody tr th {\n",
       "        vertical-align: top;\n",
       "    }\n",
       "\n",
       "    .dataframe thead th {\n",
       "        text-align: right;\n",
       "    }\n",
       "</style>\n",
       "<table border=\"1\" class=\"dataframe\">\n",
       "  <thead>\n",
       "    <tr style=\"text-align: right;\">\n",
       "      <th></th>\n",
       "      <th>course_id</th>\n",
       "      <th>course_title</th>\n",
       "      <th>is_paid</th>\n",
       "      <th>price</th>\n",
       "      <th>num_subscribers</th>\n",
       "      <th>num_reviews</th>\n",
       "      <th>num_lectures</th>\n",
       "      <th>level</th>\n",
       "      <th>content_duration</th>\n",
       "      <th>subject</th>\n",
       "    </tr>\n",
       "  </thead>\n",
       "  <tbody>\n",
       "    <tr>\n",
       "      <th>0</th>\n",
       "      <td>1070968</td>\n",
       "      <td>Ultimate Investment Banking Course</td>\n",
       "      <td>True</td>\n",
       "      <td>200</td>\n",
       "      <td>2147</td>\n",
       "      <td>23</td>\n",
       "      <td>51</td>\n",
       "      <td>All Levels</td>\n",
       "      <td>1.5</td>\n",
       "      <td>Business Finance</td>\n",
       "    </tr>\n",
       "    <tr>\n",
       "      <th>1</th>\n",
       "      <td>1113822</td>\n",
       "      <td>Complete GST Course &amp; Certification - Grow You...</td>\n",
       "      <td>True</td>\n",
       "      <td>75</td>\n",
       "      <td>2792</td>\n",
       "      <td>923</td>\n",
       "      <td>274</td>\n",
       "      <td>All Levels</td>\n",
       "      <td>39.0</td>\n",
       "      <td>Business Finance</td>\n",
       "    </tr>\n",
       "    <tr>\n",
       "      <th>2</th>\n",
       "      <td>1006314</td>\n",
       "      <td>Financial Modeling for Business Analysts and C...</td>\n",
       "      <td>True</td>\n",
       "      <td>45</td>\n",
       "      <td>2174</td>\n",
       "      <td>74</td>\n",
       "      <td>51</td>\n",
       "      <td>Intermediate Level</td>\n",
       "      <td>2.5</td>\n",
       "      <td>Business Finance</td>\n",
       "    </tr>\n",
       "    <tr>\n",
       "      <th>3</th>\n",
       "      <td>1210588</td>\n",
       "      <td>Beginner to Pro - Financial Analysis in Excel ...</td>\n",
       "      <td>True</td>\n",
       "      <td>95</td>\n",
       "      <td>2451</td>\n",
       "      <td>11</td>\n",
       "      <td>36</td>\n",
       "      <td>All Levels</td>\n",
       "      <td>3.0</td>\n",
       "      <td>Business Finance</td>\n",
       "    </tr>\n",
       "    <tr>\n",
       "      <th>4</th>\n",
       "      <td>1011058</td>\n",
       "      <td>How To Maximize Your Profits Trading Options</td>\n",
       "      <td>True</td>\n",
       "      <td>200</td>\n",
       "      <td>1276</td>\n",
       "      <td>45</td>\n",
       "      <td>26</td>\n",
       "      <td>Intermediate Level</td>\n",
       "      <td>2.0</td>\n",
       "      <td>Business Finance</td>\n",
       "    </tr>\n",
       "    <tr>\n",
       "      <th>...</th>\n",
       "      <td>...</td>\n",
       "      <td>...</td>\n",
       "      <td>...</td>\n",
       "      <td>...</td>\n",
       "      <td>...</td>\n",
       "      <td>...</td>\n",
       "      <td>...</td>\n",
       "      <td>...</td>\n",
       "      <td>...</td>\n",
       "      <td>...</td>\n",
       "    </tr>\n",
       "    <tr>\n",
       "      <th>3673</th>\n",
       "      <td>775618</td>\n",
       "      <td>Learn jQuery from Scratch - Master of JavaScri...</td>\n",
       "      <td>True</td>\n",
       "      <td>100</td>\n",
       "      <td>1040</td>\n",
       "      <td>14</td>\n",
       "      <td>21</td>\n",
       "      <td>All Levels</td>\n",
       "      <td>2.0</td>\n",
       "      <td>Web Development</td>\n",
       "    </tr>\n",
       "    <tr>\n",
       "      <th>3674</th>\n",
       "      <td>1088178</td>\n",
       "      <td>How To Design A WordPress Website With No Codi...</td>\n",
       "      <td>True</td>\n",
       "      <td>25</td>\n",
       "      <td>306</td>\n",
       "      <td>3</td>\n",
       "      <td>42</td>\n",
       "      <td>Beginner Level</td>\n",
       "      <td>3.5</td>\n",
       "      <td>Web Development</td>\n",
       "    </tr>\n",
       "    <tr>\n",
       "      <th>3675</th>\n",
       "      <td>635248</td>\n",
       "      <td>Learn and Build using Polymer</td>\n",
       "      <td>True</td>\n",
       "      <td>40</td>\n",
       "      <td>513</td>\n",
       "      <td>169</td>\n",
       "      <td>48</td>\n",
       "      <td>All Levels</td>\n",
       "      <td>3.5</td>\n",
       "      <td>Web Development</td>\n",
       "    </tr>\n",
       "    <tr>\n",
       "      <th>3676</th>\n",
       "      <td>905096</td>\n",
       "      <td>CSS Animations: Create Amazing Effects on Your...</td>\n",
       "      <td>True</td>\n",
       "      <td>50</td>\n",
       "      <td>300</td>\n",
       "      <td>31</td>\n",
       "      <td>38</td>\n",
       "      <td>All Levels</td>\n",
       "      <td>3.0</td>\n",
       "      <td>Web Development</td>\n",
       "    </tr>\n",
       "    <tr>\n",
       "      <th>3677</th>\n",
       "      <td>297602</td>\n",
       "      <td>Using MODX CMS to Build Websites: A Beginner's...</td>\n",
       "      <td>True</td>\n",
       "      <td>45</td>\n",
       "      <td>901</td>\n",
       "      <td>36</td>\n",
       "      <td>20</td>\n",
       "      <td>Beginner Level</td>\n",
       "      <td>2.0</td>\n",
       "      <td>Web Development</td>\n",
       "    </tr>\n",
       "  </tbody>\n",
       "</table>\n",
       "<p>3678 rows × 10 columns</p>\n",
       "</div>"
      ],
      "text/plain": [
       "      course_id                                       course_title  is_paid  \\\n",
       "0       1070968                 Ultimate Investment Banking Course     True   \n",
       "1       1113822  Complete GST Course & Certification - Grow You...     True   \n",
       "2       1006314  Financial Modeling for Business Analysts and C...     True   \n",
       "3       1210588  Beginner to Pro - Financial Analysis in Excel ...     True   \n",
       "4       1011058       How To Maximize Your Profits Trading Options     True   \n",
       "...         ...                                                ...      ...   \n",
       "3673     775618  Learn jQuery from Scratch - Master of JavaScri...     True   \n",
       "3674    1088178  How To Design A WordPress Website With No Codi...     True   \n",
       "3675     635248                      Learn and Build using Polymer     True   \n",
       "3676     905096  CSS Animations: Create Amazing Effects on Your...     True   \n",
       "3677     297602  Using MODX CMS to Build Websites: A Beginner's...     True   \n",
       "\n",
       "      price  num_subscribers  num_reviews  num_lectures               level  \\\n",
       "0       200             2147           23            51          All Levels   \n",
       "1        75             2792          923           274          All Levels   \n",
       "2        45             2174           74            51  Intermediate Level   \n",
       "3        95             2451           11            36          All Levels   \n",
       "4       200             1276           45            26  Intermediate Level   \n",
       "...     ...              ...          ...           ...                 ...   \n",
       "3673    100             1040           14            21          All Levels   \n",
       "3674     25              306            3            42      Beginner Level   \n",
       "3675     40              513          169            48          All Levels   \n",
       "3676     50              300           31            38          All Levels   \n",
       "3677     45              901           36            20      Beginner Level   \n",
       "\n",
       "      content_duration           subject  \n",
       "0                  1.5  Business Finance  \n",
       "1                 39.0  Business Finance  \n",
       "2                  2.5  Business Finance  \n",
       "3                  3.0  Business Finance  \n",
       "4                  2.0  Business Finance  \n",
       "...                ...               ...  \n",
       "3673               2.0   Web Development  \n",
       "3674               3.5   Web Development  \n",
       "3675               3.5   Web Development  \n",
       "3676               3.0   Web Development  \n",
       "3677               2.0   Web Development  \n",
       "\n",
       "[3678 rows x 10 columns]"
      ]
     },
     "execution_count": 15,
     "metadata": {},
     "output_type": "execute_result"
    }
   ],
   "source": [
    "data"
   ]
  },
  {
   "cell_type": "code",
   "execution_count": 16,
   "metadata": {},
   "outputs": [
    {
     "ename": "KeyError",
     "evalue": "\"['num_reviewers'] not in index\"",
     "output_type": "error",
     "traceback": [
      "\u001b[1;31m---------------------------------------------------------------------------\u001b[0m",
      "\u001b[1;31mKeyError\u001b[0m                                  Traceback (most recent call last)",
      "Cell \u001b[1;32mIn[16], line 13\u001b[0m\n\u001b[0;32m     11\u001b[0m \u001b[38;5;66;03m# Seleccionar las variables para la matriz de correlación\u001b[39;00m\n\u001b[0;32m     12\u001b[0m variables_correlacion \u001b[38;5;241m=\u001b[39m [\u001b[38;5;124m'\u001b[39m\u001b[38;5;124mis_paid\u001b[39m\u001b[38;5;124m'\u001b[39m, \u001b[38;5;124m'\u001b[39m\u001b[38;5;124mnum_subscribers\u001b[39m\u001b[38;5;124m'\u001b[39m, \u001b[38;5;124m'\u001b[39m\u001b[38;5;124mnum_reviewers\u001b[39m\u001b[38;5;124m'\u001b[39m, \u001b[38;5;124m'\u001b[39m\u001b[38;5;124mlevel\u001b[39m\u001b[38;5;124m'\u001b[39m]\n\u001b[1;32m---> 13\u001b[0m correlation_matrix \u001b[38;5;241m=\u001b[39m \u001b[43mdata\u001b[49m\u001b[43m[\u001b[49m\u001b[43mvariables_correlacion\u001b[49m\u001b[43m]\u001b[49m\u001b[38;5;241m.\u001b[39mcorr()\n\u001b[0;32m     15\u001b[0m \u001b[38;5;66;03m# Mostrar la matriz de correlación\u001b[39;00m\n\u001b[0;32m     16\u001b[0m \u001b[38;5;28mprint\u001b[39m(\u001b[38;5;124m\"\u001b[39m\u001b[38;5;124mMatriz de correlación:\u001b[39m\u001b[38;5;124m\"\u001b[39m)\n",
      "File \u001b[1;32mc:\\Users\\Usuario\\AppData\\Local\\Programs\\Python\\Python312\\Lib\\site-packages\\pandas\\core\\frame.py:4108\u001b[0m, in \u001b[0;36mDataFrame.__getitem__\u001b[1;34m(self, key)\u001b[0m\n\u001b[0;32m   4106\u001b[0m     \u001b[38;5;28;01mif\u001b[39;00m is_iterator(key):\n\u001b[0;32m   4107\u001b[0m         key \u001b[38;5;241m=\u001b[39m \u001b[38;5;28mlist\u001b[39m(key)\n\u001b[1;32m-> 4108\u001b[0m     indexer \u001b[38;5;241m=\u001b[39m \u001b[38;5;28;43mself\u001b[39;49m\u001b[38;5;241;43m.\u001b[39;49m\u001b[43mcolumns\u001b[49m\u001b[38;5;241;43m.\u001b[39;49m\u001b[43m_get_indexer_strict\u001b[49m\u001b[43m(\u001b[49m\u001b[43mkey\u001b[49m\u001b[43m,\u001b[49m\u001b[43m \u001b[49m\u001b[38;5;124;43m\"\u001b[39;49m\u001b[38;5;124;43mcolumns\u001b[39;49m\u001b[38;5;124;43m\"\u001b[39;49m\u001b[43m)\u001b[49m[\u001b[38;5;241m1\u001b[39m]\n\u001b[0;32m   4110\u001b[0m \u001b[38;5;66;03m# take() does not accept boolean indexers\u001b[39;00m\n\u001b[0;32m   4111\u001b[0m \u001b[38;5;28;01mif\u001b[39;00m \u001b[38;5;28mgetattr\u001b[39m(indexer, \u001b[38;5;124m\"\u001b[39m\u001b[38;5;124mdtype\u001b[39m\u001b[38;5;124m\"\u001b[39m, \u001b[38;5;28;01mNone\u001b[39;00m) \u001b[38;5;241m==\u001b[39m \u001b[38;5;28mbool\u001b[39m:\n",
      "File \u001b[1;32mc:\\Users\\Usuario\\AppData\\Local\\Programs\\Python\\Python312\\Lib\\site-packages\\pandas\\core\\indexes\\base.py:6200\u001b[0m, in \u001b[0;36mIndex._get_indexer_strict\u001b[1;34m(self, key, axis_name)\u001b[0m\n\u001b[0;32m   6197\u001b[0m \u001b[38;5;28;01melse\u001b[39;00m:\n\u001b[0;32m   6198\u001b[0m     keyarr, indexer, new_indexer \u001b[38;5;241m=\u001b[39m \u001b[38;5;28mself\u001b[39m\u001b[38;5;241m.\u001b[39m_reindex_non_unique(keyarr)\n\u001b[1;32m-> 6200\u001b[0m \u001b[38;5;28;43mself\u001b[39;49m\u001b[38;5;241;43m.\u001b[39;49m\u001b[43m_raise_if_missing\u001b[49m\u001b[43m(\u001b[49m\u001b[43mkeyarr\u001b[49m\u001b[43m,\u001b[49m\u001b[43m \u001b[49m\u001b[43mindexer\u001b[49m\u001b[43m,\u001b[49m\u001b[43m \u001b[49m\u001b[43maxis_name\u001b[49m\u001b[43m)\u001b[49m\n\u001b[0;32m   6202\u001b[0m keyarr \u001b[38;5;241m=\u001b[39m \u001b[38;5;28mself\u001b[39m\u001b[38;5;241m.\u001b[39mtake(indexer)\n\u001b[0;32m   6203\u001b[0m \u001b[38;5;28;01mif\u001b[39;00m \u001b[38;5;28misinstance\u001b[39m(key, Index):\n\u001b[0;32m   6204\u001b[0m     \u001b[38;5;66;03m# GH 42790 - Preserve name from an Index\u001b[39;00m\n",
      "File \u001b[1;32mc:\\Users\\Usuario\\AppData\\Local\\Programs\\Python\\Python312\\Lib\\site-packages\\pandas\\core\\indexes\\base.py:6252\u001b[0m, in \u001b[0;36mIndex._raise_if_missing\u001b[1;34m(self, key, indexer, axis_name)\u001b[0m\n\u001b[0;32m   6249\u001b[0m     \u001b[38;5;28;01mraise\u001b[39;00m \u001b[38;5;167;01mKeyError\u001b[39;00m(\u001b[38;5;124mf\u001b[39m\u001b[38;5;124m\"\u001b[39m\u001b[38;5;124mNone of [\u001b[39m\u001b[38;5;132;01m{\u001b[39;00mkey\u001b[38;5;132;01m}\u001b[39;00m\u001b[38;5;124m] are in the [\u001b[39m\u001b[38;5;132;01m{\u001b[39;00maxis_name\u001b[38;5;132;01m}\u001b[39;00m\u001b[38;5;124m]\u001b[39m\u001b[38;5;124m\"\u001b[39m)\n\u001b[0;32m   6251\u001b[0m not_found \u001b[38;5;241m=\u001b[39m \u001b[38;5;28mlist\u001b[39m(ensure_index(key)[missing_mask\u001b[38;5;241m.\u001b[39mnonzero()[\u001b[38;5;241m0\u001b[39m]]\u001b[38;5;241m.\u001b[39munique())\n\u001b[1;32m-> 6252\u001b[0m \u001b[38;5;28;01mraise\u001b[39;00m \u001b[38;5;167;01mKeyError\u001b[39;00m(\u001b[38;5;124mf\u001b[39m\u001b[38;5;124m\"\u001b[39m\u001b[38;5;132;01m{\u001b[39;00mnot_found\u001b[38;5;132;01m}\u001b[39;00m\u001b[38;5;124m not in index\u001b[39m\u001b[38;5;124m\"\u001b[39m)\n",
      "\u001b[1;31mKeyError\u001b[0m: \"['num_reviewers'] not in index\""
     ]
    }
   ],
   "source": [
    "# MATRIZ CORRELACIONAL\n",
    "import pandas as pd\n",
    "import seaborn as sns\n",
    "import matplotlib.pyplot as plt\n",
    "\n",
    "# Asegúrate de que tus variables son numéricas donde sea necesario\n",
    "# Convertir 'is_paid' y 'level' si son categóricas, por ejemplo:\n",
    "data['is_paid'] = data['is_paid'].astype(int)  # 1 para True, 0 para False\n",
    "data['level'] = data['level'].astype('category').cat.codes  # Convertir a códigos numéricos\n",
    "\n",
    "# Seleccionar las variables para la matriz de correlación\n",
    "variables_correlacion = ['is_paid', 'num_subscribers', 'num_reviewers', 'level']\n",
    "correlation_matrix = data[variables_correlacion].corr()\n",
    "\n",
    "# Mostrar la matriz de correlación\n",
    "print(\"Matriz de correlación:\")\n",
    "print(correlation_matrix)\n",
    "\n",
    "# Visualizar la matriz de correlación con un heatmap\n",
    "plt.figure(figsize=(8, 6))\n",
    "sns.heatmap(correlation_matrix, annot=True, cmap='coolwarm', fmt='.2f', square=True)\n",
    "plt.title('Matriz de Correlación')\n",
    "plt.show()\n"
   ]
  },
  {
   "cell_type": "code",
   "execution_count": 7,

   "metadata": {},
   "outputs": [
    {
     "data": {
      "text/plain": [
       "count    3678.000000\n",
       "mean       66.049483\n",
       "std        61.005755\n",
       "min         0.000000\n",
       "25%        20.000000\n",
       "50%        45.000000\n",
       "75%        95.000000\n",
       "max       200.000000\n",
       "Name: price, dtype: float64"
      ]
     },
     "execution_count": 6,
     "metadata": {},
     "output_type": "execute_result"
    }
   ],
   "source": [
    "data['price'].describe()"
   ]
  },
  {
   "cell_type": "markdown",
   "metadata": {},
   "source": [
    "En PRICE : no sigue una D. Normal ( media y mediana no coinciden, histograma,boxplot y  densityplot no són simétricas)\n",
    "Hemos visto que hay muchos más valores a la derecha que a la izq= hay más precios altos que bajos.\n",
    "Podría seguir una D. Poisson ( por los valores atípicos)\n",
    "\n",
    "en NUM_SUBSCRIBERS :  no sigue una Normal, media y mediana muy diferentes, y el histograma y boxplot no muestran una forma d enormal. \n",
    "Podría seguir una D.Poisson ( por muchos outliers)\n",
    "\n",
    "en NUM_REVIEWS : LO MISMO\n",
    "\n",
    "NUM_LECTURES :  LO MISMO\n",
    "\n",
    "\n",
    "\n",
    "\n",
    "\n"
   ]
  },
  {
   "cell_type": "code",


   "execution_count": null,
   "metadata": {},
   "outputs": [],
   "source": []
  },
  {
   "cell_type": "code",
   "execution_count": 8,
   "metadata": {},
   "outputs": [
    {
     "data": {
      "text/plain": [
       "count           3678\n",
       "unique             4\n",
       "top       All Levels\n",
       "freq            1929\n",
       "Name: level, dtype: object"
      ]
     },
     "execution_count": 8,
     "metadata": {},
     "output_type": "execute_result"
    }
   ],
   "source": [
    "data['level'].describe()"
   ]
  },
  {
   "cell_type": "code",
   "execution_count": 14,
   "metadata": {},
   "outputs": [
    {
     "data": {
      "text/plain": [
       "subject\n",
       "Business Finance       1195\n",
       "Graphic Design          603\n",
       "Musical Instruments     680\n",
       "Web Development        1200\n",
       "Name: subject, dtype: int64"
      ]
     },
     "execution_count": 14,
     "metadata": {},
     "output_type": "execute_result"
    }
   ],
   "source": [
    "data.groupby('subject')['subject'].count()"
   ]
  },
  {
   "cell_type": "code",

   "execution_count": 4,
   "metadata": {},
   "outputs": [
    {
     "data": {
      "text/plain": [
       "count    3678.000000\n",
       "mean       66.049483\n",
       "std        61.005755\n",
       "min         0.000000\n",
       "25%        20.000000\n",
       "50%        45.000000\n",
       "75%        95.000000\n",
       "max       200.000000\n",
       "Name: price, dtype: float64"
      ]
     },
     "execution_count": 4,
     "metadata": {},
     "output_type": "execute_result"
    }
   ],
   "source": [
    "# Describimos la variable price ( v.cuantitativa)\n",
    "data['price'].describe()"
   ]
  },
  {
   "cell_type": "code",
   "execution_count": 45,
   "metadata": {},
   "outputs": [
    {
     "data": {
      "image/png": "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",
      "text/plain": [
       "<Figure size 640x480 with 1 Axes>"
      ]
     },
     "metadata": {},
     "output_type": "display_data"
    }
   ],
   "source": [
    "# Visualizamos variable price en DensityPlot\n",
    "import seaborn as sns\n",
    "import matplotlib.pyplot as plt\n",
    "\n",
    "# Gráfico de densidad para la variable 'price'\n",
    "sns.kdeplot(data=data, x='price', fill=True, color=\"blue\", alpha=0.6)\n",
    "plt.title(\"Gráfico de Densidad de la Variable 'Price'\")\n",
    "plt.xlabel(\"Price\")\n",
    "plt.ylabel(\"Densidad\")\n",
    "plt.show()\n",
    "\n"
   ]
  },
  {
   "cell_type": "markdown",
   "metadata": {},
   "source": [
    "#"
   ]
  },
  {
   "cell_type": "code",

   "execution_count": 9,
=======
   "execution_count": 8,

   "metadata": {},
   "outputs": [
    {
     "data": {
      "text/plain": [
       "<Axes: >"
      ]
     },

     "execution_count": 9,
=======
     "execution_count": 8,

     "metadata": {},
     "output_type": "execute_result"
    },
    {
     "data": {
      "image/png": "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",
      "text/plain": [
       "<Figure size 640x480 with 1 Axes>"
      ]
     },
     "metadata": {},
     "output_type": "display_data"
    }
   ],
   "source": [
    "# Visualizamos PRICE en boxplot\n",
    "data.boxplot(column=\"price\")"
   ]
  },
  {
   "cell_type": "markdown",
   "metadata": {},
   "source": [
    "NUM_SUBSCRIBERS: media!=mediana"
   ]
  },
  {
   "cell_type": "code",

   "execution_count": 8,

   "execution_count": 9,

   "metadata": {},
   "outputs": [
    {
     "data": {
      "text/plain": [
       "<Axes: title={'center': 'Histograma con pandas'}, ylabel='Frequency'>"
      ]
     },

     "execution_count": 8,

     "execution_count": 9,

     "metadata": {},
     "output_type": "execute_result"
    },
    {
     "data": {
      "image/png": "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",
      "text/plain": [
       "<Figure size 640x480 with 1 Axes>"
      ]
     },
     "metadata": {},
     "output_type": "display_data"
    }
   ],
   "source": [
    "# Visualizamos PRICE en histograma\n",
    "data[\"price\"].plot(kind='hist',bins=40, linewidth=0.5, edgecolor=\"white\", title = \"Histograma con pandas\", xlim=(0, 80))"
   ]
  },
  {
   "cell_type": "code",

   "execution_count": 7,

   "execution_count": 10,

   "metadata": {},
   "outputs": [
    {
     "data": {
      "image/png": "iVBORw0KGgoAAAANSUhEUgAAAkcAAAHHCAYAAAC1G/yyAAAAOXRFWHRTb2Z0d2FyZQBNYXRwbG90bGliIHZlcnNpb24zLjkuMiwgaHR0cHM6Ly9tYXRwbG90bGliLm9yZy8hTgPZAAAACXBIWXMAAA9hAAAPYQGoP6dpAABnJElEQVR4nO3dd1yV5f/H8dcBZMlQFByJuNJyzxw5y9LUyra5cGTmyMzMtOUoM3NUmqssV46+pmZm7r3KFWquzJ1bERCVff/+uH+eIFDPwQOH8X4+Hjz0uueHE8W7677u67IYhmEgIiIiIgC4OLsAERERkaxE4UhEREQkGYUjERERkWQUjkRERESSUTgSERERSUbhSERERCQZhSMRERGRZBSORERERJJROBIRERFJRuFIJBeyWCwMGTLEaffv1KkTJUqUcNj1hgwZgsVicdj1MtP06dOxWCycOHHC7nMbN25MxYoV73rciRMnsFgsTJ8+3f4CM5Gjfy5E0kvhSCSd9u/fT/v27bnvvvvw8PCgaNGitG/fngMHDjjlerd+Ad76cnV1pXjx4jzzzDOEhYWlq6b/OnDgAEOGDEnXL/LsonLlyhQvXpw7raz08MMPU6hQIRISEjKxsqzlv2HrVsi79eXp6UnZsmXp3bs3Fy5ccF6hyXTq1InGjRs7uwzJBhSORNJh4cKFVK9enTVr1tC5c2cmTpxI165dWbt2LdWrV2fx4sVOu97LL7/MrFmz+O6772jbti1r166lTp06DglIBw4cYOjQoTk6HLVr147Tp0+zadOmNPefOHGCbdu28dJLL+Hm5nbP9+vQoQM3b94kJCTknq+VFQwbNoxZs2bx1VdfUa9ePSZNmkTdunW5cePGXc/95ptvOHz4cCZUKXJn9/5vtkguc/ToUTp06ECpUqXYuHEjgYGB1n1vvPEGDRo0oH379uzdu5eSJUtm+vWqV69O+/btre2HH36Yp556ikmTJjFlyhQ7v9vcp23btgwaNIg5c+bQsGHDVPvnzp2LYRi0a9funu5z/fp18ubNi6urK66urvd0razkiSeeoGbNmgC88sorFChQgLFjx7J48WJefvnlNM+59VnkyZMnM0sVuS31HInYadSoUdy4cYOvv/46RZABKFiwIFOmTCE6OppRo0Y55Xr/9cgjjwBw/PjxOx73xx9/8MQTT+Dn54ePjw+PPvoov/32m3X/9OnTeeGFFwBo0qSJ9fHJ+vXr73jdn376iYoVK+Lp6UnFihVZtGhRmsclJSXxxRdfUKFCBTw9PSlUqBDdu3fn6tWrdny3/5o2bRqPPPIIQUFBeHh4UL58eSZNmnTX84KDg2nYsCE//vgj8fHxqfbPmTOH0qVLU7t2bU6ePEnPnj0pV64cXl5eFChQgBdeeCFVz9qtR04bNmygZ8+eBAUFUaxYsRT7kp+zePFiWrZsSdGiRfHw8KB06dJ89NFHJCYmplnzrl27qFevHl5eXpQsWZLJkyfb9BkdOnSI559/noCAADw9PalZsyY///yzTefa6r8/f506dcLHx4ejR4/SokULfH19rUEzrTFHSUlJfPnll1SqVAlPT08CAwNp3rw5O3fuTHHc999/T40aNfDy8iIgIIA2bdpw+vRph34vknsoHInYacmSJZQoUYIGDRqkub9hw4aUKFGCJUuWOOV6/3X06FEAChQocNtj9u/fT4MGDdizZw8DBgzggw8+4Pjx4zRu3Jjff//dWkefPn0AePfdd5k1axazZs3iwQcfvO11V65cyXPPPYfFYmHEiBG0bt2azp07p/rFBtC9e3fefvttHn74Yb788ks6d+7M7NmzadasWZoh5W4mTZpESEgI7777LmPGjCE4OJiePXsyYcKEu57brl07rly5wooVK1Js37dvH3/++af1l/mOHTvYunUrbdq0Ydy4cbz22musWbOGxo0bp/kYqWfPnhw4cIAPP/yQgQMH3vb+06dPx8fHh379+vHll19So0aN255z9epVWrRoQY0aNfjss88oVqwYPXr04Lvvvrvj97h//37q1KnDwYMHGThwIGPGjCFv3ry0bt36tgE2PdL6+UtISKBZs2YEBQUxevRonnvuudue37VrV/r27UtwcDAjR45k4MCBeHp6pgjuw4cPp2PHjtx///2MHTuWvn37smbNGho2bEhERITDvhfJRQwRsVlERIQBGE8//fQdj3vqqacMwIiKisq06x0/ftwAjKFDhxqXLl0yzp8/b6xfv96oVq2aARgLFiywHgsYgwcPtrZbt25tuLu7G0ePHrVuO3v2rOHr62s0bNjQum3+/PkGYKxbt+6O9d5StWpVo0iRIkZERIR128qVKw3ACAkJsW7btGmTARizZ89Ocf7y5cvT3P5fgwcPNv77n7MbN26kOq5Zs2ZGqVKl7lp3eHi44eHhYbz88ssptg8cONAAjMOHD9/2Htu2bTMAY+bMmdZt06ZNMwCjfv36RkJCQorjb+07fvz4HWvv3r274e3tbcTExFi3NWrUyACMMWPGWLfFxsYaVatWNYKCgoy4uDjDMP792Zg2bZr1uEcffdSoVKlSiuslJSUZ9erVM+6///47fTxpuvV9rF692rh06ZJx+vRpY968eUaBAgUMLy8v459//jEMwzBCQ0MNwBg4cGCqa4SGhqb4uVi7dq0BGH369El1bFJSkmEYhnHixAnD1dXVGD58eIr9+/btM9zc3FJtF7GFeo5E7HDt2jUAfH1973jcrf23js+s6wEMHjyYwMBAChcuTOPGjTl69CgjR47k2WefTfP4xMREVq5cSevWrSlVqpR1e5EiRWjbti2bN28mKirqrvf9r3PnzhEWFkZoaCj+/v7W7Y899hjly5dPcez8+fPx9/fnscce4/Lly9avGjVq4OPjw7p16+y+v5eXl/XvkZGRXL58mUaNGnHs2DEiIyPveG7+/Plp0aIFP//8M9evXwfAMAzmzZtHzZo1KVu2bKp7xMfHc+XKFcqUKUO+fPnYvXt3qut269bNpvFFya977do1Ll++TIMGDbhx4waHDh1Kcaybmxvdu3e3tt3d3enevTsXL15k165daV4/PDyctWvX8uKLL1qvf/nyZa5cuUKzZs04cuQIZ86cuWudaWnatCmBgYEEBwfTpk0bfHx8WLRoEffdd1+K43r06HHXay1YsACLxcLgwYNT7bs1dcPChQtJSkrixRdfTPGzU7hwYe6///50/eyIaEC2iB3sCT0Wi4WCBQsC5i+juLg4634vLy/8/f3Tfb07efXVV3nhhRdwcXEhX758VKhQAQ8Pj9sef+nSJW7cuEG5cuVS7XvwwQdJSkri9OnTVKhQ4a73Tu7kyZMA3H///an2lStXLkV4OHLkCJGRkQQFBaV5rYsXL9p1b4AtW7YwePBgtm3bluoRV2RkZIrAlpZ27dqxaNEiFi9eTNu2bdm6dSsnTpzgjTfesB5z8+ZNRowYwbRp0zhz5kyK1//TCmC2DKgH85HX+++/z9q1a1MF0/9et2jRouTNmzfFtlvh7cSJE9SpUyfV9f/++28Mw+CDDz7ggw8+SLOGixcvpgo0tpgwYQJly5bFzc2NQoUKUa5cOVxcUv5/uJubm3XM1Z0cPXqUokWLEhAQcNtjjhw5gmEYaf6cARrkLemicCRiB39/f4oWLcrevXvveNzevXspVqwY7u7uADz77LNs2LDBuj80NJTp06en+3p3cv/999O0aVMbvpusIykpiaCgIGbPnp3m/v8OVL+bo0eP8uijj/LAAw8wduxYgoODcXd359dff+Xzzz8nKSnprtdo1aoV/v7+zJkzh7Zt2zJnzhxcXV1p06aN9ZjXX3+dadOm0bdvX+rWrYu/vz8Wi4U2bdqkeY/kPUK3ExERQaNGjfDz82PYsGGULl0aT09Pdu/ezTvvvGNT7Xdz6xr9+/enWbNmaR5TpkyZdF37oYcesr6tdjseHh6pAlN6JSUlYbFYWLZsWZq9cj4+Pg65j+QuCkcidnryySeZMmUKmzdvpn79+qn2b9q0iRMnTtCvXz/rtjFjxqR466po0aL3dD1HCgwMxNvbO835ZQ4dOoSLiwvBwcEAds1CfWveniNHjqTa9997lS5dmtWrV/Pwww/bFCDuZsmSJcTGxvLzzz9TvHhx63Z7HrF4eHjw/PPPM3PmTC5cuMD8+fN55JFHKFy4sPWYH3/8kdDQUMaMGWPdFhMTc0+DgNevX8+VK1dYuHBhiqkEbve24dmzZ62vwt/y119/Adx2tulbj0/z5MmTpYN06dKlWbFiBeHh4bftPSpdujSGYVCyZElrj5nIvdKYIxE79e/fH29vb7p3786VK1dS7AsPD+e1117Dz8+P3r17W7fXqFGDpk2bWr+Sj7lJz/UcydXVlccff5zFixeneJ38woULzJkzh/r16+Pn5wdg/QVsyy//IkWKULVqVWbMmJHiUdCqVatSzfr94osvkpiYyEcffZTqOgkJCXaHjVs9CP99zDVt2jS7rtOuXTvi4+Pp3r07ly5dSjW3kaura6qZtMePH3/bV+5tkVbtcXFxTJw4Mc3jExISUsxfFRcXx5QpUwgMDKRGjRppnhMUFETjxo2ZMmUK586dS7X/0qVL6a7fkZ577jkMw2Do0KGp9t36fJ599llcXV0ZOnRoqn8WhmGk+ndKxBbqORKxU5kyZZg5cyYvv/wylSpVomvXrpQsWZITJ07w7bffcvXqVebNm2fz+BJHXy89Pv74Y1atWkX9+vXp2bMnbm5uTJkyhdjYWD777DPrcVWrVsXV1ZWRI0cSGRmJh4eHdS6htIwYMYKWLVtSv359unTpQnh4OOPHj6dChQpER0dbj2vUqBHdu3dnxIgRhIWF8fjjj5MnTx6OHDnC/Pnz+fLLL3n++edt/n4ef/xx3N3defLJJ+nevTvR0dF88803BAUFpRkGbqdRo0YUK1aMxYsX4+XllWpQe6tWrZg1axb+/v6UL1+ebdu2sXr16jtOm3A39erVI3/+/ISGhtKnTx8sFguzZs267XImRYsWZeTIkZw4cYKyZcvyww8/EBYWxtdff33H8TYTJkygfv36VKpUiW7dulGqVCkuXLjAtm3b+Oeff9izZ0+6vwdHadKkCR06dGDcuHEcOXKE5s2bk5SUxKZNm2jSpAm9e/emdOnSfPzxxwwaNIgTJ07QunVrfH19OX78OIsWLeLVV1+lf//+zv5WJLtxyjtyIjnAvn37jLZt2xqFCxc2XFxcDMDw9PQ09u/f75Tr3Xpde9SoUXc9lv+8ym8YhrF7926jWbNmho+Pj+Ht7W00adLE2Lp1a6pzv/nmG6NUqVKGq6urTa/1L1iwwHjwwQcNDw8Po3z58sbChQtTvbJ9y9dff23UqFHD8PLyMnx9fY1KlSoZAwYMMM6ePXvHe6T1Kv/PP/9sVK5c2fD09DRKlChhjBw50vjuu+9SvTZ/N2+//bYBGC+++GKqfVevXjU6d+5sFCxY0PDx8TGaNWtmHDp0yAgJCTFCQ0Otx916zX3Hjh2prpHWq/xbtmwx6tSpY3h5eRlFixY1BgwYYKxYsSLV592oUSOjQoUKxs6dO426desanp6eRkhIiPHVV1+luEdar/IbhmEcPXrU6Nixo1G4cGEjT548xn333We0atXK+PHHH23+fGz5HpMLDQ018ubNe9t9//25SEhIMEaNGmU88MADhru7uxEYGGg88cQTxq5du1Ict2DBAqN+/fpG3rx5jbx58xoPPPCA0atXL+u0CyL2sBjGHVZXFBGbzZw5k06dOtG+fXtmzpyZ5a4nIiK20WM1EQfp2LEj586dY+DAgRQrVoxPPvkkS11PRERso54jERERkWT0tpqIiIhIMgpHIiIiIskoHImIiIgko3AkIiIikozeVrNTUlISZ8+exdfX166lFERERMR5DMPg2rVrFC1a9K5r+ykc2ens2bPWdaZEREQkezl9+jTFihW74zEKR3by9fUFzA/31npTIiIikrVFRUURHBxs/T1+JwpHdrr1KM3Pz0/hSEREJJuxZUiMBmSLiIiIJKNwJCIiIpKMwpGIiIhIMgpHIiIiIskoHImIiIgko3AkIiIikozCkYiIiEgyCkciIiIiySgciYiIiCSjcCQiIiKSjMKRiIiISDIKRyIiIiLJKByJiIhI9rZzJ5w757DLKRyJiIhI9pSYCMOHQ9260KULGIZDLuvmkKuIiIiIZKbjx6FDB9iyxWz7+sLNm+Dtfc+XVs+RiIiIZB+GATNnQpUqZjDy9YUZM+CHHxwSjEA9RyIiIpJdhIdDjx7wv/+Z7YcfhlmzoGRJh95GPUciIiKS9a1ZA5Urm8HIzc0ca7Rhg8ODEajnSERERLKy2Fh47z0YM8Zsly0L338PtWpl2C0VjkRERCRr+vNPaNcO9u4126+9BqNHQ968GXpbPVYTERGRrCUpCb78EmrWNINRYCD8/DNMmpThwQjUcyQiIiJZydmz0KkTrFpltlu2hG+/hUKFMq0E9RyJiIhI1rBwIVSqZAYjLy+YOBGWLMnUYATqORIRERFnu3YN3ngDpk0z29Wrw+zZ8MADTilHPUciIiLiPNu2QdWqZjCyWGDQIHObk4IRqOdIREREnCE+Hj7+2PxKSoKQEHNCxwYNnF2ZwpGIiIhksr//hvbt4fffzXb79vDVV+Dv79y6/p8eq4mIiEjmMAyYOtV8jPb775AvH8yda/YYZZFgBOo5EhERkcxw+TJ06wY//WS2Gzc2F5ANDnZmVWlSz5GIiIhkrOXLzVf0f/oJ8uSBUaPMtdKyYDAC9RyJiIhIRrl5E955B8aPN9vly5uv6Fet6tSy7kbhSERERBwvLAzatoWDB83266/DyJHm5I5ZnB6riYiIiOMkJpqPzR56yAxGhQvDsmUwbly2CEagniMRERFxlFOnIDQU1q83261bwzffQMGCzqzKbuo5EhERkXs3bx5UrmwGo7x5zVf2Fy7MdsEI1HMkIiIi9yIiAnr3NgdaA9SuDd9/D2XKOLWse6GeIxEREUmfjRuhShUzGLm4wODBsGlTtg5GoJ4jERERsVdcnBmERo40Z70uVcrsLapb19mVOYTCkYiIiNju0CFo1w527zbbXbrAF1+Ar69Ty3IkPVYTERGRuzMMmDgRqlc3g1FAACxYAN9+m6OCEajnSERERO7mwgWzh+jXX832Y4/B9OlQtKhTy8oo6jkSERGR21uyxFwX7ddfwcMDvvzSXCsthwYjUM+RiIiIpOX6dXjrLZgyxWxXrmy+lVaxonPrygTqORIREZGUduyAatX+DUb9+8P27bkiGIHCkYiIiNySmAjDh0O9enDkCNx3H6xZY66V5uHh7OoyjR6riYiICBw/Dh06wJYtZvvFF2HSJPOttFxGPUciIiK5mWHAzJnmTNdbtpiv5c+caa6VlguDEajnSEREJPcKD4fXXoP58812/fowaxaUKOHUspxNPUciIiK50Zo15hto8+eDm5s51mj9+lwfjEA9RyIiIrlLTAy89x6MHWu2y5Y1X9GvWdO5dWUhCkciIiK5xZ9/Qtu2sG+f2X7tNRg9GvLmdW5dWYweq4mIiOR0SUnm4rA1a5rBKDAQfv7ZfBtNwSgV9RyJiIjkZGfPQqdOsGqV2W7Z0lwstlAhp5aVlannSEREJKdasMBcF23VKvDygokTzbXSFIzuSD1HIiIiOc21a/DGGzBtmtmuXt0cdP3AA86tK5tQz5GIiEhOsnUrVK1qBiOLBQYNgm3bFIzsoJ4jERGRnCA+Hj7+2PxKSoKQEHNCxwYNnF1ZtqNwJCIikt0dOQLt28P27Wa7fXv46ivw93duXdmUHquJiIhkV4YBU6dCtWpmMMqXD+bONXuMFIzSTT1HIiIi2dGlS9CtGyxebLabNIEZMyA42Ll15QDqORIREcluli8310VbvBjy5IFRo2D1agUjB1HPkYiISHZx8yYMGGCOJwIoX958Rb9qVaeWldOo50hERCQ7+OMPqFHj32DUpw/s3KlglAEUjkRERLKyxET47DOoXRsOHoTChc3Hal9+ac56LQ6nx2oiIiJZ1alTEBoK69eb7dat4ZtvoGBBZ1aV46nnSEREJCuaO9ccdL1+PeTNa76yv3ChglEmUM+RiIhIVhIRAb17mwOtwXyc9v33UKaMU8vKTdRzJCIiklVs2ABVqpjByNUVBg+GzZsVjDKZeo5EREScLS7ODEIjR5qzXpcqZfYW1a3r7MpyJYUjERERZzp0CNq1g927zXaXLvDFF+Dr69SycjOFIxERyRKiYxLoMWMbm45HObsUK8v/f93i+v+DUSwWcLWAq4sFFywkYVj/dLW44OoCHm6uWCxpXRUsFgtebhae3f4LXRdPwiM+lmvefox76W12VmtE3Hd/4OHmgmceVwr6eGCxgGEYXI6OIyYhEU83VwJ9PSma35N8Xu5E3Izj7NWb1msXyWduj4qJxzDA3yuP9e/5vd0JyOtOxI048nmn/WeAjwdBPh5ggcvRsRTMm/bfg3w9qRGSn10nr3LxWgxBvp48VDIAgO3Hw1Nsc3WxkJhkpLn9lrvtT0t6zrmbbBOORowYwcKFCzl06BBeXl7Uq1ePkSNHUq5cOesxMTExvPXWW8ybN4/Y2FiaNWvGxIkTKVSokPWYU6dO0aNHD9atW4ePjw+hoaGMGDECN7ds81GIiOQ4T321ib3/ZJ1QdIvx/1+3JCXd6Yhbfyb+58/UCl6/yke/fskjx3YCsLFENfq36MtF3wKQBT+HO3GxQFKyDymfdx4AIm7EW7cV8ffkqSpF+HnPOc5FxqTYPvjJ8jSvWITlf55j6JIDt92flvScYwuLYRjG3Q9zvubNm9OmTRtq1apFQkIC7777Ln/++ScHDhwgb968APTo0YOlS5cyffp0/P396d27Ny4uLmzZsgWAxMREqlatSuHChRk1ahTnzp2jY8eOdOvWjU8++cSmOqKiovD39ycyMhI/P78M+35FRHKLrBqMMsqjf//OyGXjKHgjkljXPIxo3JkZNVphWHLfO1K3+ndebViSrzce57+B5Nb+Se2rpwo7y/88R4/vd9t8jj2/v7NNOPqvS5cuERQUxIYNG2jYsCGRkZEEBgYyZ84cnn/+eQAOHTrEgw8+yLZt26hTpw7Lli2jVatWnD171tqbNHnyZN555x0uXbqEu7v7Xe+rcCQi4jjRMQlUHLLC2WVkCq+4GN5fN5V2YcsBOBhYgjee7M9fgSWcW1gW8N/ep+QsQGF/Tza/84j1cVlikkH9kWtT9Bjd7Rx7fn9n22dJkZGRAAQEmM82d+3aRXx8PE2bNrUe88ADD1C8eHFrONq2bRuVKlVK8ZitWbNm9OjRg/3791OtWrVU94mNjSU2NtbajorKPf93IyKSHtExCXSftoUtJ6OdXUqWUfncX3yxZDSlrp4FYMpDzzKmQQfi3PI4ubKs4XbBCMyHleciY9h+PJy6pQsA5nim2wWj251jj2wZjpKSkujbty8PP/wwFStWBOD8+fO4u7uTL1++FMcWKlSI8+fPW49JHoxu7b+1Ly0jRoxg6NChDv4ORERyptz2iOxuXJMS6fHbfN7YMpc8SYmc8ylAv1b92BZSxdmlZTsXr8Wk+Xdbz7FHtgxHvXr14s8//2Tz5s0Zfq9BgwbRr18/azsqKorg4OAMv6+ISHajYJRSsYjzfP7LWGqdOQDALw804N1mvYjy9HFyZdlTkK9nmn+39Rx7ZLtw1Lt3b3755Rc2btxIsWLFrNsLFy5MXFwcERERKXqPLly4QOHCha3HbN++PcX1Lly4YN2XFg8PDzw8PBz8XYiI5CzRMQkKRrcYBs/9uZYhqyfjG3eTa+5efPhYDxZVaMJt3+3P5Vws5tyXaT1duzV+6NYUAQAPlQygiL8n5yNjbD7HrnrSdZYTGIZB7969WbRoEWvXrqVkyZIp9teoUYM8efKwZs0a67bDhw9z6tQp6v7/DKN169Zl3759XLx40XrMqlWr8PPzo3z58pnzjYiI5EBv/vCHs0vIEvxvXuOrxSMZ8+vn+MbdZHux8jzR5SsWVXxEwSgNt+aR6tagpLX93/0Ag58sn2LuIlcXC4OfLG/XOfbINj1HvXr1Ys6cOSxevBhfX1/rGCF/f3+8vLzw9/ena9eu9OvXj4CAAPz8/Hj99depW7cuderUAeDxxx+nfPnydOjQgc8++4zz58/z/vvv06tXL/UOiYjcg1P/PwFhbvbwiTDGLB1L4ehw4l1c+bx+OybXfo4kF1dnl5ah7mWeo8LJ5iSqVjx/qjmLCt9hzqLmFYswqX11u86xVbZ5ld9ym8Q9bdo0OnXqBPw7CeTcuXNTTAKZ/JHZyZMn6dGjB+vXrydv3ryEhoby6aef2jwJpF7lFxFJrdLg5VyLvf2kh9mVLTNkeybE03vdDDr9tgiAEwXu471nB3As5ME7z5CdxwWPPG64u1qISzRS/akZsh07Q3aumOfIWRSORERSyoy5iv4c0gwfzyz4sGPfPnNdtH37zPZrr8Ho0fD/kxNL1mHP7+9sM+ZIRESypoweb1S5mF/WC0ZJSebisLVqmcEoMBCWLIFJkxSMcoAs9tMmIiLZTUaON6pczI+fezfIsOuny5kz0KkTrF5ttlu2hG+/hf/MoyfZl8KRiIjck+L5vTh8/prDrucC1C9TkInta2S9HqMFC+DVVyE8HLy8YOxY6N5db6LlMFnsp05ERLKbD1pWYNXBi3c/ENj9/mME+Nx9Hcss59o16NMHpk8329Wrw+zZ8MADTi1LMobGHImIyD15Zeb2ux+E+cp3tgxGW7dC1apmMLJY4N13Yds2BaMcTD1HIiJyT45cvG7TcX6e2WyR1fh4+OgjGD7cHIAdEgKzZkGDLDYGShxO4UhERNKt0ai1aS7fkJYg32zUa3TkCLRvD7eWnGrfHr76Cvz9nVuXZAo9VhMRkXSJvBHPySu2v6k2+5W6GViNgxgGTJ0K1aqZwShfPpg71+wxUjDKNdRzJCIi6dJlum1jjW75+1I0gX5ZeKmmS5egWzdYvNhsN2kCM2ZAcLBz65JMp54jERFJl7PJ1rOyxcVr9h2fqZYtg0qVzGCUJw+MGmXOY6RglCup50hERNLlnJ3hKMjXM4MquQc3b8KAAeZ4IoDy5c1X9KtWdWpZ4lzqORIREbudj7AvGAX6elgXJM0y/vgDatT4Nxj16QM7dyoYicKRiIjYr9X4jXYd/9HTFe66unqmSUyEzz6D2rXh4EEoXBiWL4cvvzRnvZZcT4/VRETEblExCTYfm887D80rFsnAauxw6hR07AgbNpjtZ56Br7+GggWdW5dkKeo5EhERu3m42f7ro3TBLLJK/dy5ULmyGYzy5jVf2V+wQMFIUlHPkYiI2CUxyYCERJuP/67TQxlYjQ0iIqB3b3OgNZiP077/HsqUcWpZknWp50hEROyy/Xg412zMRl55XPD3duKyIRs2QJUqZjBydYUhQ2DzZgUjuSP1HImIiF3sma+oeAEnPVKLi4MPPzQHXhsGlCpl9hbVzQazdIvTKRyJiIhd7JmvqHh+J7z9dfAgtGtnvqoP0LUrfP45+Ppmfi2SLemxmoiI2KVMoI/Nx37+UrUMrOQ/DAMmTIDq1c1gFBBgDrieOlXBSOyiniMREbFLu6nbbDrO3c2Cj2cm/Zo5fx66dDGXAQF4/HGYNg2KFs2c+0uOop4jERGxy8VrcTYd550nk4LRzz+b66ItWwYeHuZkjsuWKRhJuqnnSERE7BLk607EzXibjstQ169Dv37mJI5gzmE0Zw5UqJCx95UcTz1HIiJil6kdbZu3yNbj0mXHDqhWzQxGFgv07w/btysYiUMoHImIiF0+WrrfocfZJSEBPv7YfCX/yBEoVgxWr4ZRo8xHaiIOoMdqIiJil1NXbzr0OJsdOwYdOsDWrWb7xRdh8mTIn9+x95FcTz1HIiJil5i4u483AgfOcWQYMGMGVK1qBiM/P5g1C+bNUzCSDKGeIxERsVlcQhInw22bIdshcxyFh0P37vDjj2a7fn0zGJUoce/XFrkNhSMREbmt8Og4Wo5ZxTk7n5AV8fO89zmOVq+G0FA4exbc3GDoUHjnHXONNJEMpHAkIiJpqvXxKi5F2zan0X89VqFQ+m8cEwPvvmsu+QFQtqy5cGzNmum/pogdFI5ERCSVewlGACEB3uk7cd8+c120ffvM9muvwejRkNdJC9hKrqQB2SIikkJ4dNw9BSOAR8rZ2XOUlARffAG1apnBKDAQliyBSZMUjCTTKRyJiEgKbb7ees/XeHriJtsPPnMGmjWDN9+E2Fho2dIMSK1a3XMdIumhcCQiIin8dfH6PV/jemyibQf++KO5Ltrq1eDlZfYULVkChe5hzJLIPdKYIxERsao8ZIVDrpPX4y5vlEVFwRtvwPTpZrtGDXPQdblyDrm/yL1Qz5GIiABwKSqWqJgEh1xrWZ9Gt9+5das5oeP06ea6aO++a25TMJIsQj1HIiICwDMTNzvkOu6uFu4LSGN27Ph4+OgjGD7cHIAdEmJO6NiggUPuK+IoCkciIgJA+HXblgW5E3dXC38Nb5F6x5Ej0L49bN9utjt0gPHjwd//nu8p4mgKRyIiAkBcoo2DqNPg4+7Kir6NUvcYGQZMnQp9+8KNG5Avn7lY7Esv3VOtIhlJ4UhERIiOSSAhyb5zdrzblEA/j9sfcOkSdOsGixeb7SZNzAVkg4PTX6hIJrB7QPbu3bvZd2vmUmDx4sW0bt2ad999l7i4e5s0TEREnOPNH/6w63g/T7c7B6Nly8xX9BcvBnd3c5br1asVjCRbsDscde/enb/++guAY8eO0aZNG7y9vZk/fz4DBgxweIEiIpLxTl21b2XZvUOapb3j5k14/XVo0QIuXIDy5c1xRm+9BS56QVqyB7t/Uv/66y+qVq0KwPz582nYsCFz5sxh+vTpLFiwwNH1iYhIJiieP423y26jbNBtlvP44w9zvqKvvjLbb7wBO3dClSoOqFAk89gdjgzDICnJfDC9evVqWrQw30oIDg7m8uXLjq1OREQyxTvNHrT52Hmv1ku5ITERRo6E2rXh4EEoXBiWLzfXSvOyPXSJZBV2D8iuWbMmH3/8MU2bNmXDhg1MmjQJgOPHj1NI072LiGRLbb6xbT01CxDg4/7vhlOnoGNH2LDBbD/zDHz9NRQs6PgiRTKJ3T1HX3zxBbt376Z379689957lClTBoAff/yRevXq3eVsERHJimydGTuPq+Xfxpw5ULmyGYzy5oVvv4UFCxSMJNuzu+eocuXKKd5Wu2XUqFG4ut5lLR0REcmSXCx3PwbMt9SIiIBevcxwBFCnDnz/PZQunWH1iWSmdL06EBERwdSpUxk0aBDh4eEAHDhwgIsXLzq0OBERyXhxCUnEJBg2HbusKuYA6zlzwNUVhgyBTZsUjCRHsbvnaO/evTz66KPky5ePEydO0K1bNwICAli4cCGnTp1i5syZGVGniIhkkFnbTtz1mDyJ8fTbNJuCny0wZ70uXdrsLapTJ+MLFMlkdvcc9evXj86dO3PkyBE8PT2t21u0aMHGjRsdWpyIiGS8L1b/dcf9pS+fZtGs/vT4/UcshgFdu5qv7SsYSQ5ld8/Rjh07mDJlSqrt9913H+fPn3dIUSIikjkajVrLtdjbrKlmGHT4YynvrfsOz4Q4wr38uDRmPOV6dMzcIkUymd3hyMPDg6ioqFTb//rrLwIDAx1SlIiIZLzIG/GcvJL2zNiB0Vf5bNkXNDm2C4CNJarxyQsDWNpdC8ZKzmf3Y7WnnnqKYcOGER8fD4DFYuHUqVO88847PPfccw4vUEREMkaX6dvT3P7Ykd9Y/l0vmhzbRaxrHoY8+iqhLw7liKsvrra+1iaSjdkdjsaMGUN0dDRBQUHcvHmTRo0aUaZMGXx9fRk+fHhG1CgiIhlg16mIFG2vuBg+WT6ebxZ+TIGbURwIKkmr0C+YXvMpDIsLiba90CaS7dn9WM3f359Vq1axefNm9u7dS3R0NNWrV6dp06YZUZ+IiGSAEgOXpmhXOXuYz38ZQ6mrZ0nCwjcPPcOYBh2Ic8tjPSaP1o2VXMLucHRL/fr1qV+/viNrERGRTHDgn3/HjbomJdLjt/n03TwHNyOJs74Feavlm2wLSb1Y7LI+jTKzTBGnsSkcjRs3zuYL9unTJ93FiIhIxmv11SYAgiPO8/kvY6h55iAAvzzQgHeb9SLK0yfVORagTOHU20VyIpvC0eeff27TxSwWi8KRiEgWl2QYPPfnWoasnoxv3E2i3L358PEe/FS+MVjSHnB9/NOWmVukiBPZFI6OHz+e0XWIiEgmWLN5PxMWf0rLw1sA+L1YBd5q1Y9//Avd9hw/T62bKblLuscciYhI9pK4chUVn2tDoehw4l1c+bx+OybXfo4klzuHH401ktzGpnDUr18/PvroI/LmzUu/fv3ueOzYsWMdUpiIiDhITAy8+y6un39OIeBowH30bdWffUXuv+up7q4W7gvwyvgaRbIQm8LRH3/8YZ308Y8//sjQgkRExIH27YN27cw/gVnVWvBJ4y7cdPe8y4ng6gJ/DW+R0RWKZDk2haN169al+XcREcmikpLgyy9h4ECIi4PAQA4O/4IPjvrbfInvu2phWcmd7J7Sq0uXLly7di3V9uvXr9OlSxeHFCUiIvfgzBlo1gz69TODUcuWsG8ffs89Y/MlCvp48FDJgAwsUiTrsjsczZgxg5s3Uy9UePPmTWbOnOmQokREJJ1+/BEqVYLVq8HLCyZNgiVLoFAhnp6wyebLfNy6gtZRk1zL5rfVoqKiMAwDwzC4du0anp7/Pq9OTEzk119/JSgoKEOKFBGRu4iKgjfegOnTzXaNGjB7NpQr9+8hMQk2XcrNBZpXLJIBRYpkDzaHo3z58mGxWLBYLJQtWzbVfovFwtChQx1anIiI2GDLFujQAY4fBxcXGDQIPvwQ3N1THBZv48qx+bzy3P0gkRzM5nC0bt06DMPgkUceYcGCBQQE/Pss2t3dnZCQEIoWLZohRYqISBri42HYMPjkE3MAdkgIzJoFDRqkOjTyRjy2RSOY2VkDsSV3sxiGYeu/LwCcPHmS4OBgXFxy5/LMUVFR+Pv7ExkZiZ+fn7PLEZHc6q+/oH172LHDbHfoAOPHg78/+05F8uTEzem+dNmgvKzs19gxdYpkEfb8/rY74YSEhBAVFcXKlSv5/vvvmTlzZoqvjLRx40aefPJJihYtisVi4aeffkqx3zAMPvzwQ4oUKYKXlxdNmzblyJEjKY4JDw+nXbt2+Pn5kS9fPrp27Up0dHSG1i0i4jCGAV9/DdWqmcEoXz6YNw9mzgR/f0oMXHpPwQjg4rU4x9Qqkk3ZvXzIkiVLaNeuHdHR0fj5+WFJtkihxWKhY8eODi0wuevXr1OlShW6dOnCs88+m2r/Z599xrhx45gxYwYlS5bkgw8+oFmzZhw4cMA6gLxdu3acO3eOVatWER8fT+fOnXn11VeZM2dOhtUtIuIQly7BK6/Azz+b7UcegRkzoFgxAEoMXOqQ2wT5ut/9IJEczO7HamXLlqVFixZ88skneHt7Z1Rdd2WxWFi0aBGtW7cGzF6jokWL8tZbb9G/f38AIiMjKVSoENOnT6dNmzYcPHiQ8uXLs2PHDmrWrAnA8uXLadGiBf/8849NY6b0WE1EnGLZMujcGS5cMAdaf/IJvPmmOQAb7vlRWnK733+MAB8FJMlZ7Pn9bXfP0ZkzZ+jTp49Tg1Fajh8/zvnz52natKl1m7+/P7Vr12bbtm20adOGbdu2kS9fPmswAmjatCkuLi78/vvvPPNM6gnSYmNjiY2NtbajoqIy9hsREUnuxg0YMAAmTAAgpuyDPPNwDw5eKgXvLsuQWyoYSW5n95ijZs2asXPnzoyo5Z6cP38egEKFCqXYXqhQIeu+8+fPp5qLyc3NjYCAAOsx/zVixAj8/f2tX8HBwRlQvYhIGv74A2rWtAaj72o8RZVWH3MwqFSG3dJV8z6K2N9z1LJlS95++20OHDhApUqVyJMn5XwYTz31lMOKywoGDRpEv379rO2oqCgFJBHJWImJMHo0fPCB+bp+kSJ0aNCDTSWrZ/it83q4Zvg9RLI6u8NRt27dABg2bFiqfRaLhcTExHuvKh0KFy4MwIULFyhS5N+ZXS9cuEDVqlWtx1y8eDHFeQkJCYSHh1vP/y8PDw88PDwypmgRkf86dQo6doQNG8z2M89w4MPRbJp3MFNuv6xPo0y5j0hWZvdjtaSkpNt+OSsYAZQsWZLChQuzZs0a67aoqCh+//136tatC0DdunWJiIhg165d1mPWrl1LUlIStWvXzvSaRURSmDMHKlc2g1HevPDtt7BgAS0zKRi5u1q4L8ArU+4lkpXZ3XPkTNHR0fz999/W9vHjxwkLCyMgIIDixYvTt29fPv74Y+6//37rq/xFixa1vtH24IMP0rx5c7p168bkyZOJj4+nd+/etGnTRrN7i4jzRERAz54wd67ZrlMHvv8eSpcGsHlm63vh7mrhr+EtMuFOIllfusLR9evX2bBhA6dOnSIuLuVkYX369HFIYWnZuXMnTZo0sbZvjQUKDQ1l+vTpDBgwgOvXr/Pqq68SERFB/fr1Wb58eYpFcmfPnk3v3r159NFHcXFx4bnnnmPcuHEZVrOIyB1t2GDObn36NLi6muOM3nsP3DLn/13z5nFh5ZuN1WMkkozd8xz98ccftGjRghs3bnD9+nUCAgK4fPky3t7eBAUFcezYsYyqNUvQPEci4hBxcebisJ99Zs56Xbq02VtUJ+W6ZmEnImg9eYtDblkgrzvb32uKq4teSZPcJ0OXD3nzzTd58sknuXr1Kl5eXvz222+cPHmSGjVqMHr06HQXLSKSaxw8CLVrw8iRZjDq2tV8bb9O6gVfHRWMAIY/U1HBSMQGdoejsLAw3nrrLVxcXHB1dSU2Npbg4GA+++wz3n333YyoUUQkZzAMc86i6tUhLAwKFICFC2HqVPD1zdBbT25fneYVi9z9QBGxf8xRnjx5cPn/6eqDgoI4deoUDz74IP7+/pw+fdrhBYqI5Ajnz0OXLuYyIACPPw7TpsEdXgYpNeje10ob2qoC7euFqMdIxA52h6Nq1aqxY8cO7r//fho1asSHH37I5cuXmTVrFhUrVsyIGkVEsrfFi80FYy9fBg8PGDUKevWyrouWluMXr5Nk52tqB4c1x8tdkziK3Cu7H6t98skn1kkWhw8fTv78+enRoweXLl3i66+/dniBIiLZVnQ0vPoqtG5tBqMqVWDXLnj99TsGI4DmX26w61Zlg3wUjEQcxO6eo+SLtgYFBbF8+XKHFiQikiNs3w7t2sHff4PFAv37w0cfmT1HNohNtK/bqE7pAumpUkTSkK0mgRQRyfISEmDECBg61FwjrVgxmDkTks3RdjfdZu6w+7YhAd52nyMiabM7HJUsWRKL5fYD+3L6PEciIrd17Jg5oePWrWb7pZdg0iTIn9/mS9yMS2TVgYt3PzAZFwt0qFvCrnNE5PbsDkd9+/ZN0Y6Pj+ePP/5g+fLlvP32246qS0Qk+zAMmDHDHEsUHQ1+fuYr++3amY/UbHTq8g0ajl5n9+27NSiJu5vdQ0hF5DbsDkdvvPFGmtsnTJjAzp0777kgEZFs5coVeO01+PFHs92ggfkYrUQJuy5T5t2lJCTZf3s3FwuDWpS3/0QRuS2H/a/GE088wYIFCxx1ORGRrG/VKqhc2QxGbm7wySewbl2mBSOAwn62DfAWEds5bED2jz/+SEBAgKMuJyKSdcXEwKBB8MUXZrtcOZg9G2rUsPtSpy7fSHcwAljUs376TxaRNKVrEsjkA7INw+D8+fNcunSJiRMnOrQ4EZEsZ+9ecyzRn3+a7R49YPRo8E7f22L2zmeUnJ+nG4HqORJxOLvDUevWrVO0XVxcCAwMpHHjxjzwwAOOqktEJGtJSjJ7igYNgrg4CAqC776Dli3v6bI349PfbbR3SLN7ureIpM3ucDR48OCMqENEJOs6cwZCQ2HNGrPdqhV8+60ZkO6RnSuEWGmlNJGMY3c4OnPmDAsWLOCvv/7C3d2dcuXK8eKLL5Lfjnk8RESyjR9/NJcAuXoVvLzg88/Nth2v6N/OrmNX033uzxprJJJh7ApHEydOpF+/fsTFxeHn5wdAVFQU/fr1Y+rUqbz88ssYhkFYWBjVqlXLkIJFRDJFVBT06WPOXwTmYOvZs83B1w7y3Ndb031upeL+DqtDRFKy+VX+pUuX0qdPH3r37s2ZM2eIiIggIiKCM2fO0L17d0JDQ9m8eTPt2rVjyZIlGVmziEjG2rIFqlY1g5GLC7z3Hmzb5tBgdC9OfHpv45xE5M5s7jkaNWoUAwcO5OOPP06xvUiRIowdOxZvb28ee+wxChcuzIgRIxxeqIhIhouPh2HDzPmKkpIgJARmzTIndnSwBz9YZvc5S3rWV4+RSCawuedo9+7ddOjQ4bb7O3ToQGxsLBs2bCAkJMQhxYmIZJq//oKHH4aPPzaDUceOsGdPhgSj8xExdr+ltmXAIwpGIpnE5nCUmJhInjx5brs/T548eHl5Ubx4cYcUJiKSKQwDvv4aqlWDHTsgXz744QfzkZq/48NI5I146n66xq5zXCxwX4CXw2sRkbTZHI4qVKjA4sWLb7v/p59+okKFCg4pSkQkU1y6BK1bQ/fucOMGPPII7NsHL76YIbdrNGotVYattPv1/fZ11BsvkplsHnPUq1cvevTogYeHB6+++ipubuapCQkJTJkyhffff18zZItI9vHrr9ClC1y4AO7u5jijN980B2BngEaj1nLyys10nRsSkL7Zt0UkfWwOR6Ghoezbt4/evXszaNAgSpcujWEYHDt2jOjoaPr06UOnTp0ysFQREQe4cQMGDIAJE8x2hQrmK/pVqmTYLSNvxKc7GLlYoEPdEo4tSETuyK55jkaPHs3zzz/P3LlzOXLkCAANGzbk5Zdfpk6dOhlSoIiIw+zeba6LduiQ2X7jDRgxwpzcMQN1mb493ed2a1ASd7eM6c0SkbTZPUN2nTp1FIREJHtJTDQXh/3gA/N1/SJFYPp0ePzxTLn92ciYdJ87qEV5B1YiIrawOxyJiGQrJ0+ar+Vv3Gi2n3nGfDutYMFMK+FcOsORh6tWUBNxBvXVikjONWeOOZZo40bw8YHvvoMFCzI1GG09dDnd5y5/o5EDKxERW6nnSERynogI6NkT5s4123XqwPffQ+nSdz311OUbNBy9LmPrs4GLBUoG5XV2GSK5ksKRiOQs69ebj9FOnwZXV3Oc0Xvvgdvd/3NX5t2lJNg3cXWGcLHAsRFaP03EWdIVjhISEli/fj1Hjx6lbdu2+Pr6cvbsWfz8/PDx8XF0jSIidxcXZwahUaPMWa9LlzZ7i2x8gSSrBKN1/Rqrx0jEyewORydPnqR58+acOnWK2NhYHnvsMXx9fRk5ciSxsbFMnjw5I+oUEbm9AwfMV/TDwsx2167wxRfmOCMbnLp8I0sEoyU96ysYiWQBdg/IfuONN6hZsyZXr17FK9ncIM888wxr1ti3XpCIyD0xDPjqK6hRwwxGBQrAwoUwdarNweh8REyWGGMEaGFZkSzC7p6jTZs2sXXrVtzd3VNsL1GiBGfOnHFYYSIid3T+PHTuDMuXm+1mzWDaNHMOIxs9+MEybsZngS4j4MSnGmMkklXY3XOUlJREYmJiqu3//PMPvr6+DilKROSOFi+GSpXMYOThAePGmWulZdNgJCJZi93h6PHHH+eLL76wti0WC9HR0QwePJgWLVo4sjYRkZSio6FbN2jdGi5fNucw2rULXn/drgVjz0fEZKlgNKdTbWeXICLJ2P1YbcyYMTRr1ozy5csTExND27ZtOXLkCAULFmTurTlFREQcbft2c9D133+DxQL9+8NHH5k9R2k48E8ULb7alMlFpk+9BzJvUkoRuTuLYRiGvSclJCQwb9489u7dS3R0NNWrV6ddu3YpBmjnVFFRUfj7+xMZGYmfn5+zyxHJ+RISzMVhhw4110grVgxmzoQmTW57SomBSzOxwHujsUYimcOe39/pmufIzc2N9u3bp6s4ERGbHTsG7dvDtm1m+6WXYNIkyJ//tqdkl2A0p1Nt9RiJZFE2haOff/7Z5gs+9dRT6S5GRAQwX9GfMcMcSxQdDX5+MHEitG1rPlK7jQP/RGVoWZqgUSR3sCkctW7d2qaLWSyWNN9kExGx2ZUr0L27uUAsQIMG5mO0EiXSPDzyRjxPjV7JyRsZW5bWOhPJPWwKR0lJWeetDhHJwVatgk6d4OxZcy20jz6Ct98210hLQ6NRazl55WaGl6W1zkRyFy08KyLOFxMDgwaZS34AlCsHs2ebM1/fRmYFIz1KE8l97J7nCGDNmjW0atWK0qVLU7p0aVq1asXq1asdXZuI5AZ790KtWv8Go549YffuOwajyBvxmRKMVvRpqGAkkgvZ3XM0ceJE3njjDZ5//nneeOMNAH777TdatGjB559/Tq9evRxepIjkQElJZiAaNAji4iAoCL77DlqmfHx1JvwmD3+21iklliuqWf9FciO75zkqVqwYAwcOpHfv3im2T5gwgU8++STHr6+meY5EHOCff8yxRbcWq27VCr791gxIyZR971fiEu2eis0hNP+QSM5iz+9vux+rRURE0Lx581TbH3/8cSIjI+29nIjkNvPnQ+XKZjDy8oLJk+Hnn7NEMHLBfJSmYCSSu9n9WO2pp55i0aJFvP322ym2L168mFatWjmsMBHJYaKioE8fc/4igJo14fvvzcHX/3Em/GaGBqMd7zYl0C/tZUdEROwOR+XLl2f48OGsX7+eunXrAuaYoy1btvDWW28xbtw467F9+vRxXKUikn1t2WLOdH3ihLlA7KBBMHgw5MnD+YgY6n66hszqI/LzdFMwEpE7snvMUcmSJW27sMXCsWPH0lVUVqYxRyJ2iI+HYcPgk0/MAdglSsCsWVC/PgAPfrCMm/GZN4+an6cbe4c0y7T7iUjWkaFrqx0/fjzdhYlILvLXX2Zv0Y4dZrtjRxg3Dvz9gcwNRgW987CsbyP1GImITTQJpIg4lmHAN9/Am2/CjRvmIrGTJ8OLL1oPOR8RkynB6KfXHqZqiXwZfh8RyVnsDkeGYfDjjz+ybt06Ll68mGppkYULFzqsOJHcJjHJYOUfZ+k9P4zsuEphwI1IRi4bx2N//w7AlpDKvNWiH+d354XdSzO9HgUjEUkPu8NR3759mTJlCk2aNKFQoUJY7rBCtojYbvmf53jt+93OLiPdGh/dwahlXxJ4PYJYVzdGNezIt7VaY1jSNRH/PdPr+CKSXnaHo1mzZrFw4UJatGiREfWI5ErZORh5xsfw7rppdPzD7Bk6XLA4fZ/sz8GgUk6pR4/SRORe2R2O/P39KVXKOf/RE8mJEpMMBs3PnsGowvm/+XLJaMqE/wPAdzWeYmTjTsS6uWfK/bUorIhkBLv7u4cMGcLQoUO5eTPjF30UyQ22Hw/naqyzq7CPS1IiPX6bz0+z3qJM+D9c8Amgw4vDGNb01UwLRi4WFIxEJEPY3XP04osvMnfuXIKCgihRogR58uRJsX/37uz5f8AiznLxWoyzS7DLfZEXGbt0LLVP/wnAsrL1GNS8NxFemTfvl4sFjo3QmCIRyRh2h6PQ0FB27dpF+/btNSBbxAGCfD2dXYLNnt6/jo9WTsIv7gbR7l4MffRV5ldqCpn034E8LrCyrx6liUjGsjscLV26lBUrVlD//2e4FZF781DJAPJ7kKUfrfnFRPPRykk8fXADALuKPsCbrd7iVP4iGXpfjSkSEWewe8xRcHCwls0QcSBXFwsjXqju7DJuq86pvSz77nWePriBBIsLY+u348V2IzM8GGlMkYg4i93haMyYMQwYMIATJ05kQDkiuVPzikWY3D5rBST3hHgGrp/GnLnvcd+1S5zIV4QX2n3GuIdfJtHFNUPvrTFFIuJMdi88mz9/fm7cuEFCQgLe3t6pBmSHh4c7tMCsRgvPSkbKKjNkl7l8ii+XjKbCRXPx6LmVH+ejR7txw90rQ++rMUUiklEydOHZL774Ir11ichduLpYeKLGfRytcZ9zCjAMmDABvnwbYmKgQAGYOpWXW7fmZedUJCKS6dL1tpqI5EDnzkGXLrB8udlu1gymTYMiGTu2SEQkq7E7HCUXExNDXFxcim161CSSDS1eDK+8Apcvg6cnfPYZ9O6daa/oi4hkJXYPyL5+/Tq9e/cmKCiIvHnzkj9//hRfIpKNREdDt27QurUZjKpUgZ074fXXFYxEJNeyOxwNGDCAtWvXMmnSJDw8PJg6dSpDhw6laNGizJw5MyNqFJGM8PvvUK0aTJ1qBqG33za3Vajg7MpERJzK7sdqS5YsYebMmTRu3JjOnTvToEEDypQpQ0hICLNnz6Zdu3YZUafDTZgwgVGjRnH+/HmqVKnC+PHjeeihhxxy7cQkg+3Hw7l4LYYgX08eKhmAq8ud/y/8bufcbn9a2wHrtoJ5PcACl6NjCfL1pEZIfnadvJpi38WoGMKvxxHg40GQT8pt+bzdibhh/hl+PZaIm/EYBvh75SEq5t+/R9yM41xEDEXyeZLPy52Im3GcvXr79fcMw+BydBwxCYl4urlSIK87V67HcTM+gbgEA3dXC3GJ5p+xCUnEJSRyIz4RCxa88rjg7uZKbHwCV2/Gk5gErhZwd3UhLjGJhCSDJMPABQuJRhJJSZBwm3cyDQMSDbDrlc1MUsTPg597NyDQz8OxF05IgE8+gWHDIDERihWDmTOhSRPH3kdEJJuyOxyFh4dTqlQpwBxfdOvV/fr169OjRw/HVpdBfvjhB/r168fkyZOpXbs2X3zxBc2aNePw4cMEBQXd07WX/3mOoUsOcC7y3/Wyivh7MvjJ8jSvmPbA1rudc7v9T1Upws97zqXYns/bnFoh4kZ8mvdysUBSVkwCDvHfl9+z9zd6LiqWWp+sxs/Tjb1DmjnmokePQocOsG2b2W7TBiZOBD0SFxGxsvuxWqlSpTh+/DgADzzwAP/73/8As0cpX758Di0uo4wdO5Zu3brRuXNnypcvz+TJk/H29ua77767p+su//McPb7fnSKsAJyPjKHH97tZ/uc5u88Z8euBNPefi4xhysbjqbZH3Ii/bTCCnByMcq6omAQqD1lxbxcxDPPNs6pVzWDk5wfffw9z5igYiYj8h93hqHPnzuzZsweAgQMHMmHCBDw9PXnzzTd5++23HV6go8XFxbFr1y6aNm1q3ebi4kLTpk3Zduv/ptMhMclg6JIDafZV3No2dMkBEpOlk7udYwDfbDqezfs/xBGiYhK4FJXOxdeuXIEXXjBf04+OhgYNYO9eaNdOg65FRNJg92O1N9980/r3pk2bcvDgQXbv3k2ZMmWoXLmyQ4vLCJcvXyYxMZFChQql2F6oUCEOHTqU6vjY2FhiY//9pRQVFZXmdbcfD0/Vi5Ocgdnbs/14OHVLF7DpHFBPj/zrmYmb2TzwUftOWrUKOnWCs2fBzQ0++sgceO2asct/iIhkZ/c0zxFAiRIlKFGihANKyZpGjBjB0KFD73rcxWt3DjlpHWfrOSIA4ddv/7g0lZgYGDQIbs1oX64czJ4NNWpkSG0iIjmJzY/Vtm3bxi+//JJi28yZMylZsiRBQUG8+uqrKXpYsqqCBQvi6urKhQsXUmy/cOEChQsXTnX8oEGDiIyMtH6dPn06zesG+XradP/kx9l6jghAQN48dz8IzEdmtWr9G4x69oTduxWMRERsZHM4GjZsGPv377e29+3bR9euXWnatCkDBw5kyZIljBgxIkOKdCR3d3dq1KjBmjVrrNuSkpJYs2YNdevWTXW8h4cHfn5+Kb7S8lDJAIr4e3K7ERwWzDfMbr1qb8s5YL5dplEhArCoZ/07H5CUBGPHmsHozz8hKAh++cVcK83bO3OKFBHJAWwOR2FhYTz66L/jHebNm0ft2rX55ptv6NevH+PGjbO+uZbV9evXj2+++YYZM2Zw8OBBevTowfXr1+ncuXO6r+nqYmHwk+WB1GHmVnvwk+VTzF10t3MsQLcGJdPcL7mLn6fbnec7+ucfePxxeOstiIuDJ5+EffugZcvMK1JEJIewORxdvXo1xSDmDRs28MQTT1jbtWrVuu0jp6zmpZdeYvTo0Xz44YdUrVqVsLAwli9fnmqQtr2aVyzCpPbVKeyf8nFZYX9PJrWvnuY8R3c7Z1CL8mnuL+LvSfeGJSnyn+35vPNY5zpKy13mopQs6K7zHM2fD5Urw5o14OUFkyeba6Xd45xdIiK5lcUwDJvehwoJCWHWrFk0bNiQuLg48uXLx5IlS6y9Sfv27aNRo0bWSSFzqqioKPz9/YmMjLztIzbNkK0Zsh3hrjNkR0WZa6DdWranZk1z7qJy5TKvSBGRbMKW39+32Py2WosWLRg4cCAjR47kp59+wtvbmwYNGlj37927l9KlS6e/6hzE1cVifV3fUefcbv/ttt/pWvbWJlnQli3Qvj2cOAEuLuabaYMHQx4bB22LiMht2RyOPvroI5599lkaNWqEj48PM2bMwN3d3br/u+++4/HHH8+QIkXk/8XHm2uiffKJOQC7RAmYNQvq32WwtoiI2Mzmx2q3REZG4uPjg+t/JpELDw/Hx8cnRWDKiezplhNxqL/+Mme13rnTbHfsCOPGgb+/c+sSEckG7Pn9bffyIf7+/qmCEUBAQECOD0YiTmEY8PXXUK2aGYzy54cffoAZMxSMREQywD3PkC0iGejiRXjlFViyxGw/8ogZiooVc25dIiI5mN09RyKSSX79FSpVMoORuzuMGWOulaZgJCKSodRzJJLV3LhhLg47caLZrlDBXBetShXn1iUikkuo50gkK7m1BtqtYNS3rznOSMFIRCTTKByJZAWJifDpp1C7Nhw6BEWKwMqV8Pnn4KkFikVEMpMeq4k428mT5mv5Gzea7WefNd9OK6DJOkVEnEE9RyLONHu2uS7axo3g4wPffQc//qhgJCLiROo5EnGGq1ehVy+YO9ds161rznStJXhERJxOPUcimW39enOA9dy54OoKQ4eaPUcKRiIiWYJ6jkQyS2wsfPABjB5tznpdpgx8/705CFtERLIMhSORzHDggLkuWliY2X7lFfNNNB8fp5YlIiKp6bGaSEYyDBg/3py7KCzMHGi9aBF8842CkYhIFqWeI5GMcu4cdOkCy5eb7WbNYNo0cw4jERHJstRzJJIRfvrJfEV/+XJzEsfx42HZMgUjEZFsQD1HIo4UHQ1vvglTp5rtqlXNQdcVKji1LBERsZ16jkQc5fffoVo1MxhZLDBgAPz2m4KRiEg2o54jkXuVkACffALDhplrpBUrBjNnQpMmzq5MRETSQeFI5F4cPQodOsC2bWa7TRuYOBHy53duXSIikm56rCaSHoZhvnlWtaoZjPz8zLFFc+cqGImIZHPqORKx15Ur8OqrsHCh2W7QwFwXLSTEuXWJiIhDqOdIxB6rVkGlSmYwcnODESNg3ToFIxGRHEQ9RyK2iImBQYPgiy/MdrlyMGcOVK/u1LJERMTxFI5E7mbvXmjbFvbvN9s9e8KoUeDt7dy6REQkQ+ixmsjtJCXB2LFQq5YZjIKCYOlSmDBBwUhEJAdTz5FIWv75B0JDYe1as/3kk+bkjkFBzq1LREQynHqORP5r/nxzXbS1a80eoilTYPFiBSMRkVxCPUcit0RFweuvm7NbA9SsCbNnQ9myzq1LREQylXqORAA2b4YqVcxg5OIC770HW7cqGImI5ELqOZLcLT4ehg415ytKSoISJcwJHevXd3ZlIiLiJApHknv99Re0awc7d5rtjh1h/HhzKRAREcm19FhNch/DMAdZV6tmBqP8+eGHH2DGDAUjERFRz5HkMhcvwiuvwJIlZvvRR2H6dChWzKlliYhI1qGeI8k9li4110VbsgTc3WHMGFi5UsFIRERSUM+R5Hw3bkD//jBpktmuWNF8Rb9yZefWJSIiWZJ6jiRn27XLXBz2VjDq2xd27FAwEhGR21I4kpwpMdF8Pb9OHTh8GIoUMR+hff45eHo6uzoREcnC9FhNcp6TJ6FDB9i0yWw/+yx8/TUUKODcukREJFtQz5HkHIbx71iiTZvAxwemTYMff1QwEhERm6nnSHKGq1ehZ0+YN89s161rznRdurRz6xIRkWxHPUeS/a1bZ66LNm8euLrCsGGwcaOCkYiIpIt6jiT7io2FDz6A0aPNR2plysD330Pt2s6uTEREsjGFI8meDhww10ULCzPb3brB2LHmOCMREZF7oMdqkr0Yhrk4bI0aZjAqUAAWLTLfRlMwEhERB1DPkWQf585B586wYoXZbt4cvvvOnMNIRETEQdRzJNnDTz+Z66KtWGFO4jh+PPz6q4KRiIg4nHqOJGuLjoY334SpU8121armXEblyzu1LBERybnUcyRZ1++/m2Fo6lSwWGDAAPjtNwUjERHJUOo5kqwnIQE++cScrygxEYKDYeZMaNzY2ZWJiEguoHAkWcvRo9C+vdlDBNCmDUycCPnzO7cuERHJNfRYTbIGwzDXQata1QxGfn7m2KK5cxWMREQkU6nnSJzvyhV49VVYuNBsN2xoPkYLCXFuXSIikiup50ica+VK8xX9hQvBzQ1GjIC1axWMRETEadRzJM4REwMDB8KXX5rtBx4wH6NVr+7cukREJNdTOJLMt2ePuS7a/v1mu2dPGDUKvL2dW5eIiAh6rCaZKSkJxoyBhx4yg1FQECxdChMmKBiJiEiWoZ4jyRz//AOhoeZ4IoAnnzQndwwKcm5dIiIi/6GeI8l4//ufOeh67Vqzh2jKFFi8WMFIRESyJPUcScaJioLevWHWLLNds6Y56LpsWefWJSIicgfqOZKMsXkzVKliBiMXF3j/fdi6VcFIRESyPPUciWPFx8OQIfDpp+YA7BIl4Pvv4eGHnV2ZiIiITRSOxHEOHzbXRdu502yHhsK4ceZSICIiItmEHqvJvTMMc5B19epmMMqf3xyEPX26gpGIiGQ76jmSe3PxInTtCr/8YrYffdQMRcWKObUsERGR9FLPkaTf0qXmK/q//ALu7jB2rLlWmoKRiIhkY+o5EvvduAH9+8OkSWa7YkXzFf3KlZ1bl4iIiANkm56j4cOHU69ePby9vcmXL1+ax5w6dYqWLVvi7e1NUFAQb7/9NgkJCSmOWb9+PdWrV8fDw4MyZcowffr0jC8+J9m1yxxbdCsY9e0LO3YoGImISI6RbcJRXFwcL7zwAj169Ehzf2JiIi1btiQuLo6tW7cyY8YMpk+fzocffmg95vjx47Rs2ZImTZoQFhZG3759eeWVV1ixYkVmfRvZV2IijBgBdeqYb6UVLWo+Qvv8c/D0dHZ1IiIiDmMxDMNwdhH2mD59On379iUiIiLF9mXLltGqVSvOnj1LoUKFAJg8eTLvvPMOly5dwt3dnXfeeYelS5fy559/Ws9r06YNERERLF++3Kb7R0VF4e/vT2RkJH655U2sEyegY0fYtMlsP/ec+XZagQJOLUtERMRW9vz+zjY9R3ezbds2KlWqZA1GAM2aNSMqKor9+/dbj2natGmK85o1a8a2bdtue93Y2FiioqJSfOUahmFO4FilihmMfHxg2jSYP1/BSEREcqwcE47Onz+fIhgB1vb58+fveExUVBQ3b95M87ojRozA39/f+hUcHJwB1WdBV69C27bQoYO5RlrdurBnD3TqBBaLs6sTERHJME4NRwMHDsRisdzx69ChQ84skUGDBhEZGWn9On36tFPryRTr1pkDrOfNA1dXGDYMNm6EUqWcXZmIiEiGc+qr/G+99RadOnW64zGlbPyFXLhwYbZv355i24ULF6z7bv15a1vyY/z8/PDy8krzuh4eHnh4eNhUQ7YXGwsffACjR5uP1MqUMR+r1a7t7MpEREQyjVPDUWBgIIGBgQ65Vt26dRk+fDgXL14kKCgIgFWrVuHn50f58uWtx/z6668pzlu1ahV169Z1SA3Z2v790K6d+egMoFs3c1JHHx/n1iUiIpLJss2Yo1OnThEWFsapU6dITEwkLCyMsLAwoqOjAXj88ccpX748HTp0YM+ePaxYsYL333+fXr16WXt+XnvtNY4dO8aAAQM4dOgQEydO5H//+x9vvvmmM7815zIMGD8eatY0g1GBArBoEXz9tYKRiIjkStnmVf5OnToxY8aMVNvXrVtH48aNATh58iQ9evRg/fr15M2bl9DQUD799FPc3P7tIFu/fj1vvvkmBw4coFixYnzwwQd3fbSXXI56lf/cOejcGW7N89S8OXz3HRQp4ty6REREHMye39/ZJhxlFTkmHC1aZD46u3LFnMRx1Cjo1UtvoomISI5kz+9vra2W20RHm0t+fPut2a5a1VwX7f/HZYmIiOR22WbMkTjAb7+ZYejbb80eogED4PffFYxERESSUc9RbpCQAMOHw0cfmWukBQfDzJnw/2O1RERE5F8KRznd0aPQvr3ZawTw8sswcSLky+fUskRERLIqPVbLqQzDfPOsalUzGPn5mWOL5sxRMBIREbkD9RzlRFeuwKuvwsKFZrthQ/MxWkiIc+sSERHJBtRzlNOsXAmVKpnBKE8e+PRTWLtWwUhERMRG6jnKKW7ehIEDYdw4s/3AA+ZjtOrVnVuXiIhINqNwlBPs2WOui7Z/v9nu2dOc1NHb27l1iYiIZEN6rJadJSXBmDHw0ENmMAoKgqVLYcIEBSMREZF0Us9RdnX6NISGwrp1ZvvJJ2HqVDMgiYiISLqp5yg7+t//oHJlMxh5e8OUKbB4sYKRiIiIA6jnKDuJjITXX4dZs8x2rVrw/fdQtqxz6xIREclB1HOUXWzeDFWqmMHIxQXefx+2bFEwEhERcTD1HGV1cXEwdKg5X1FSEpQsaQakhx92dmUiIiI5ksJRVnb4sPmK/q5dZjs01JzHyM/PuXWJiIjkYHqslhUZBkyeDNWqmcEof35zEPb06QpGIiIiGUw9R1nNxYvQtSv88ovZfvRRMxQVK+bUskRERHIL9RxlJb/8Yq6L9ssv4O4OY8eaa6UpGImIiGQa9RxlBTduQP/+MGmS2a5Y0VwXrXJl59YlIiKSC6nnyNl27TIXh70VjN58E3bsUDASERFxEoUjZ0lMhBEjoE4d8620okXNR2hjx4Knp7OrExERybX0WM0ZTpyAjh1h0yaz/dxz5hIgBQo4tSwRERFRz1HmMgxzuY8qVcxg5OMD06bB/PkKRiIiIlmEeo4yy9Wr0KMH/PCD2a5b1wxKpUo5ty4RERFJQT1HmWHdOnOA9Q8/gKsrDBsGGzcqGImIiGRB6jnKSLGx5gKxY8aYj9TKlDFf0X/oIWdXJiIiIrehcJRR9u8310Xbs8dsd+tmvonm4+PcukREROSOFI4ywqJF0LYtxMRAwYIwdSo8/bSzqxIREREbKBxlhBo1wMMDGjc230YrXNjZFYmIiIiNFI4yQvHisH073H8/WCzOrkZERETsoHCUUcqWdXYFIiIikg56lV9EREQkGYUjERERkWQUjkRERESSUTgSERERSUbhSERERCQZhSMRERGRZBSORERERJJROBIRERFJRuFIREREJBmFIxEREZFkFI5EREREklE4EhEREUlG4UhEREQkGTdnF5DdGIYBQFRUlJMrEREREVvd+r196/f4nSgc2enatWsABAcHO7kSERERsde1a9fw9/e/4zEWw5YIJVZJSUmcPXsWX19fLBaLs8tJU1RUFMHBwZw+fRo/Pz9nl5Ml6DNJTZ9JavpMUtNnkpo+k9Syw2diGAbXrl2jaNGiuLjceVSReo7s5OLiQrFixZxdhk38/Pyy7A+ps+gzSU2fSWr6TFLTZ5KaPpPUsvpncrceo1s0IFtEREQkGYUjERERkWQUjnIgDw8PBg8ejIeHh7NLyTL0maSmzyQ1fSap6TNJTZ9JajntM9GAbBEREZFk1HMkIiIikozCkYiIiEgyCkciIiIiySgciYiIiCSjcJQLPPXUUxQvXhxPT0+KFClChw4dOHv2rLPLcpoTJ07QtWtXSpYsiZeXF6VLl2bw4MHExcU5uzSnGj58OPXq1cPb25t8+fI5uxynmDBhAiVKlMDT05PatWuzfft2Z5fkNBs3buTJJ5+kaNGiWCwWfvrpJ2eX5HQjRoygVq1a+Pr6EhQUROvWrTl8+LCzy3KqSZMmUblyZevkj3Xr1mXZsmXOLuueKRzlAk2aNOF///sfhw8fZsGCBRw9epTnn3/e2WU5zaFDh0hKSmLKlCns37+fzz//nMmTJ/Puu+86uzSniouL44UXXqBHjx7OLsUpfvjhB/r168fgwYPZvXs3VapUoVmzZly8eNHZpTnF9evXqVKlChMmTHB2KVnGhg0b6NWrF7/99hurVq0iPj6exx9/nOvXrzu7NKcpVqwYn376Kbt27WLnzp088sgjPP300+zfv9/Zpd0TvcqfC/3888+0bt2a2NhY8uTJ4+xysoRRo0YxadIkjh075uxSnG769On07duXiIgIZ5eSqWrXrk2tWrX46quvAHMdxeDgYF5//XUGDhzo5Oqcy2KxsGjRIlq3bu3sUrKUS5cuERQUxIYNG2jYsKGzy8kyAgICGDVqFF27dnV2KemmnqNcJjw8nNmzZ1OvXj0Fo2QiIyMJCAhwdhniJHFxcezatYumTZtat7m4uNC0aVO2bdvmxMokK4uMjATQfzv+X2JiIvPmzeP69evUrVvX2eXcE4WjXOKdd94hb968FChQgFOnTrF48WJnl5Rl/P3334wfP57u3bs7uxRxksuXL5OYmEihQoVSbC9UqBDnz593UlWSlSUlJdG3b18efvhhKlas6OxynGrfvn34+Pjg4eHBa6+9xqJFiyhfvryzy7onCkfZ1MCBA7FYLHf8OnTokPX4t99+mz/++IOVK1fi6upKx44dyWlPVO39TADOnDlD8+bNeeGFF+jWrZuTKs846flMROTuevXqxZ9//sm8efOcXYrTlStXjrCwMH7//Xd69OhBaGgoBw4ccHZZ90RjjrKpS5cuceXKlTseU6pUKdzd3VNt/+effwgODmbr1q3ZvuszOXs/k7Nnz9K4cWPq1KnD9OnTcXHJef+vkJ6fk9w45iguLg5vb29+/PHHFONqQkNDiYiIyPU9rRpzlFLv3r1ZvHgxGzdupGTJks4uJ8tp2rQppUuXZsqUKc4uJd3cnF2ApE9gYCCBgYHpOjcpKQmA2NhYR5bkdPZ8JmfOnKFJkybUqFGDadOm5chgBPf2c5KbuLu7U6NGDdasWWMNAElJSaxZs4bevXs7tzjJMgzD4PXXX2fRokWsX79eweg2kpKSsv3vF4WjHO73339nx44d1K9fn/z583P06FE++OADSpcunaN6jexx5swZGjduTEhICKNHj+bSpUvWfYULF3ZiZc516tQpwsPDOXXqFImJiYSFhQFQpkwZfHx8nFtcJujXrx+hoaHUrFmThx56iC+++ILr16/TuXNnZ5fmFNHR0fz999/W9vHjxwkLCyMgIIDixYs7sTLn6dWrF3PmzGHx4sX4+vpax6P5+/vj5eXl5OqcY9CgQTzxxBMUL16ca9euMWfOHNavX8+KFSucXdq9MSRH27t3r9GkSRMjICDA8PDwMEqUKGG89tprxj///OPs0pxm2rRpBpDmV24WGhqa5meybt06Z5eWacaPH28UL17ccHd3Nx566CHjt99+c3ZJTrNu3bo0fx5CQ0OdXZrT3O6/G9OmTXN2aU7TpUsXIyQkxHB3dzcCAwONRx991Fi5cqWzy7pnGnMkIiIikkzOHGghIiIikk4KRyIiIiLJKByJiIiIJKNwJCIiIpKMwpGIiIhIMgpHIiIiIskoHImIiIgko3AkIiIikozCkYhYrV+/HovFku0WnbVYLPz0008Ou16JEiX44osvHHY9Zzlx4gQWi8W6FEx2/ecrktkUjkRyCYvFcsevIUOGOLvEuxoyZAhVq1ZNtf3cuXM88cQTmVpLeHg4ffv2JSQkBHd3d4oWLUqXLl04depUptZxS6dOnayL5t4SHBzMuXPnqFixolNqEsmutPCsSC5x7tw5699/+OEHPvzwQw4fPmzd5uPjw86dO51RGnFxcbi7u6f7/MxeMDg8PJw6derg7u7O5MmTqVChAidOnOD999+nVq1abNu2jVKlSmVqTWlxdXXN1Yspi6SXeo5EconChQtbv/z9/bFYLCm2+fj4WI/dtWsXNWvWxNvbm3r16qUIUQCLFy+mevXqeHp6UqpUKYYOHUpCQoJ1/6lTp3j66afx8fHBz8+PF198kQsXLlj33+oBmjp1KiVLlsTT0xOAiIgIXnnlFQIDA/Hz8+ORRx5hz549AEyfPp2hQ4eyZ88ea2/X9OnTgdSP1f755x9efvllAgICyJs3LzVr1uT3338H4OjRozz99NMUKlQIHx8fatWqxerVq+36LN977z3Onj3L6tWrrSuSN2zYkBUrVpAnTx569eplPTatR3RVq1ZN0VM3duxYKlWqRN68eQkODqZnz55ER0db90+fPp18+fKxYsUKHnzwQXx8fGjevLk18A4ZMoQZM2awePFi62ezfv36VI/V0rJ582YaNGiAl5cXwcHB9OnTh+vXr1v3T5w4kfvvvx9PT08KFSrE888/b9dnJZIdKRyJSCrvvfceY8aMYefOnbi5udGlSxfrvk2bNtGxY0feeOMNDhw4wJQpU5g+fTrDhw8HICkpiaeffprw8HA2bNjAqlWrOHbsGC+99FKKe/z9998sWLCAhQsXWn95v/DCC1y8eJFly5axa9cuqlevzqOPPkp4eDgvvfQSb731FhUqVODcuXOcO3cu1TUBoqOjadSoEWfOnOHnn39mz549DBgwgKSkJOv+Fi1asGbNGv744w+aN2/Ok08+afPjsKSkJObNm0e7du1S9cp4eXnRs2dPVqxYQXh4uM2ft4uLC+PGjWP//v3MmDGDtWvXMmDAgBTH3Lhxg9GjRzNr1iw2btzIqVOn6N+/PwD9+/fnxRdftAamc+fOUa9evbve9+jRozRv3pznnnuOvXv38sMPP7B582Z69+4NwM6dO+nTpw/Dhg3j8OHDLF++nIYNG9r8fYlkW4aI5DrTpk0z/P39U21ft26dARirV6+2blu6dKkBGDdv3jQMwzAeffRR45NPPklx3qxZs4wiRYoYhmEYK1euNFxdXY1Tp05Z9+/fv98AjO3btxuGYRiDBw828uTJY1y8eNF6zKZNmww/Pz8jJiYmxbVLly5tTJkyxXpelSpVUtUNGIsWLTIMwzCmTJli+Pr6GleuXLHx0zCMChUqGOPHj7e2Q0JCjM8//zzNY8+fP28At92/cOFCAzB+//33216rSpUqxuDBg29bz/z5840CBQpY29OmTTMA4++//7ZumzBhglGoUCFrOzQ01Hj66adTXOf48eMGYPzxxx+GYfz7z/fq1auGYRhG165djVdffTXFOZs2bTJcXFyMmzdvGgsWLDD8/PyMqKio29YqkhNpzJGIpFK5cmXr34sUKQLAxYsXKV68OHv27GHLli3WniKAxMREYmJiuHHjBgcPHiQ4OJjg4GDr/vLly5MvXz4OHjxIrVq1AAgJCSEwMNB6zJ49e4iOjqZAgQIparl58yZHjx61ufawsDCqVatGQEBAmvujo6MZMmQIS5cu5dy5cyQkJHDz5k27B1IbhnHH/faMoVq9ejUjRozg0KFDREVFkZCQYP08vb29AfD29qZ06dLWc4oUKcLFixftqvm/9uzZw969e5k9e7Z1m2EYJCUlcfz4cR577DFCQkIoVaoUzZs3p3nz5jzzzDPWmkRyKoUjEUklT5481r9bLBaAFI+lhg4dyrPPPpvqvFtjh2yRN2/eFO3o6GiKFCnC+vXrUx2bL18+m6/r5eV1x/39+/dn1apVjB49mjJlyuDl5cXzzz9PXFycTdcPDAy0Br20HDx4EDc3N0qWLAmYj8z+G6Ti4+Otfz9x4gStWrWiR48eDB8+nICAADZv3kzXrl2Ji4uzBpHk/0zA/Odyt4B2N9HR0XTv3p0+ffqk2le8eHHc3d3ZvXs369evZ+XKlXz44YcMGTKEHTt22PXPRCS7UTgSEbtUr16dw4cPU6ZMmTT3P/jgg5w+fZrTp09be48OHDhAREQE5cuXv+N1z58/j5ubGyVKlEjzGHd3dxITE+9YX+XKlZk6dSrh4eFp9h5t2bKFTp068cwzzwBmQDhx4sQdr5mci4sLL774IrNnz2bYsGEpxh3dvHmTiRMn8swzz+Dv7w+YYSr5m4JRUVEcP37c2t61axdJSUmMGTMGFxdzGOj//vc/m+u5xZbP5r+qV6/OgQMHbvvPEsDNzY2mTZvStGlTBg8eTL58+Vi7dm2a4Vgkp9CAbBGxy4cffsjMmTMZOnQo+/fv5+DBg8ybN4/3338fgKZNm1KpUiXatWvH7t272b59Ox07dqRRo0bUrFnzttdt2rQpdevWpXXr1qxcuZITJ06wdetW3nvvPesUAyVKlOD48eOEhYVx+fJlYmNjU13n5ZdfpnDhwrRu3ZotW7Zw7NgxFixYwLZt2wC4//77rYPA9+zZQ9u2ba29YrYaPnw4hQsX5rHHHmPZsmWcPn2ajRs30qxZM1xcXPjyyy+txz7yyCPMmjWLTZs2sW/fPkJDQ3F1dbXuL1OmDPHx8YwfP55jx44xa9YsJk+ebFc9tz6bvXv3cvjwYS5fvpyid+p23nnnHbZu3Urv3r0JCwvjyJEjLF682Dog+5dffmHcuHGEhYVx8uRJZs6cSVJSEuXKlbO7PpHsROFIROzSrFkzfvnlF1auXEmtWrWoU6cOn3/+OSEhIYD5uGfx4sXkz5+fhg0b0rRpU0qVKsUPP/xwx+taLBZ+/fVXGjZsSOfOnSlbtixt2rTh5MmTFCpUCIDnnnuO5s2b06RJEwIDA5k7d26q67i7u7Ny5UqCgoJo0aIFlSpV4tNPP7UGkrFjx5I/f37q1avHk08+SbNmzahevbpdn0HBggX57bffaNKkCd27d6dkyZI0atSIxMREwsLCrOO0AAYNGkSjRo1o1aoVLVu2pHXr1inGDlWpUoWxY8cycuRIKlasyOzZsxkxYoRd9QB069aNcuXKUbNmTQIDA9myZctdz6lcuTIbNmzgr7/+okGDBlSrVo0PP/yQokWLAubjzIULF/LII4/w4IMPMnnyZObOnUuFChXsrk8kO7EY9/rQWkRE+Pbbb+nZsyc//PBDqpmqRSR7Uc+RiIgDdO3alXnz5nHw4EFu3rzp7HJE5B6o50hEREQkGfUciYiIiCSjcCQiIiKSjMKRiIiISDIKRyIiIiLJKByJiIiIJKNwJCIiIpKMwpGIiIhIMgpHIiIiIskoHImIiIgk83/6h+X2cv6knwAAAABJRU5ErkJggg==",
      "text/plain": [
       "<Figure size 640x480 with 1 Axes>"
      ]
     },
     "metadata": {},
     "output_type": "display_data"
    }
   ],
   "source": [
    "# PROBAR QQPLOT\n",
    "\n",
    "\n",
    "# Q-Q plot para la variable 'price'\n",
    "sm.qqplot(data['price'], line='s')\n",
    "plt.title(\"Q-Q Plot de la Variable 'Price'\")\n",
    "plt.show()\n"
   ]
  },
  {
   "cell_type": "code",

   "execution_count": null,
   "metadata": {},
   "outputs": [],
   "source": [
    "from fitter import Fitter\n",
    "f=Fitter(data['price'],distributions=['norm','expon','gamma','beta'])\n",
    "f.fit()\n",
    "f.summary()"
   ]
  },
  {
   "cell_type": "code",
   "execution_count": 42,
=======
   "execution_count": 14,

   "metadata": {},
   "outputs": [
    {
     "name": "stderr",
     "output_type": "stream",
     "text": [
      "C:\\Users\\Usuario\\AppData\\Local\\Temp\\ipykernel_14532\\2280665242.py:2: FutureWarning: \n",
      "\n",
      "Passing `palette` without assigning `hue` is deprecated and will be removed in v0.14.0. Assign the `x` variable to `hue` and set `legend=False` for the same effect.\n",
      "\n",
      "  sns.countplot(data=data, x='is_paid', palette='viridis')\n"
     ]
    },
    {
     "data": {
      "image/png": "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",
      "text/plain": [
       "<Figure size 640x480 with 1 Axes>"
      ]
     },
     "metadata": {},
     "output_type": "display_data"
    }
   ],
   "source": [
    "\n",
    "\n",
    "\n",
    "# Gráfico de barras: total de cursos por 'is_paid'\n",
    "sns.countplot(data=data, x='is_paid', palette='viridis')\n",
    "plt.title(\"Total de Cursos por Estado de Pago ('is_paid')\")\n",
    "plt.xlabel(\"¿Es de Pago? (is_paid)\")\n",
    "plt.ylabel(\"Total de Cursos\")\n",
    "plt.show()\n"
   ]
  },
  {
   "cell_type": "code",
   "execution_count": null,
   "metadata": {},
   "outputs": [],
   "source": [
    "# IS_PAID seria una variable bernoulli, ya que no sigue una d.normal, y el barplot no muestra que los sucesos tienen las mimsmas probabilidades\n",
    "#(hya mucho +TRUE que false)"
   ]
  },
  {
   "cell_type": "code",
   "execution_count": 14,
   "metadata": {},
   "outputs": [
    {
     "data": {
      "text/plain": [
       "count      3678.000000\n",
       "mean       3197.150625\n",
       "std        9504.117010\n",
       "min           0.000000\n",
       "25%         111.000000\n",
       "50%         911.500000\n",
       "75%        2546.000000\n",
       "max      268923.000000\n",
       "Name: num_subscribers, dtype: float64"
      ]
     },
     "execution_count": 14,
     "metadata": {},
     "output_type": "execute_result"
    }
   ],
   "source": [
    "# Describimos variables cuantitativas\n",
    "data['num_subscribers'].describe()"
   ]
  },
  {
   "cell_type": "code",
   "execution_count": 47,
   "metadata": {},
   "outputs": [
    {
     "data": {
      "image/png": "iVBORw0KGgoAAAANSUhEUgAAAssAAAKSCAYAAAAkiZbkAAAAOXRFWHRTb2Z0d2FyZQBNYXRwbG90bGliIHZlcnNpb24zLjkuMiwgaHR0cHM6Ly9tYXRwbG90bGliLm9yZy8hTgPZAAAACXBIWXMAAA9hAAAPYQGoP6dpAACM70lEQVR4nOzdd3xT1cMG8OcmadOR7pYOVqGltEAZZe+9BGWjCLLEhYqIKOBgCKjoi4obQQEVBRURBRnK3rtsSlsoG7r3THLfP5D8DG2hI+nJeL5++pEmN/c+6Xx6c+45kizLMoiIiIiIqBiF6ABERERERJaKZZmIiIiIqBQsy0REREREpWBZJiIiIiIqBcsyEREREVEpWJaJiIiIiErBskxEREREVAqWZSIiIiKiUrAsE1ExBQUFeOedd7B582bRUYiIiIRiWSa7Nnv2bEiSVCXH6tKlC7p06WJ4f8eOHZAkCb/++muVHP+/JEnC7NmzS71/ypQpWLlyJVq3bl0lecaOHYvg4OAqORZZlqr4Hrz3e+9+srOzUa1aNaxcufK+2wUHB2Ps2LGVD2cCZcny2GOPYfjw4VUTiMjGsCyTzVi+fDkkSTK8OTk5ISgoCL1798Ynn3yCrKwskxznxo0bmD17NqKjo02yP0vz888/4/fff8fGjRvh6ekpOk6lREdHY9SoUahZsybUajW8vb3Ro0cPLFu2DDqdTnQ8m3T3+2/hwoXF7rv7PXrkyBEBycpm0aJFcHNzw2OPPWa4bfbs2Vb1x9zdP8QTEhIMt02bNg1r1qzBiRMnxAUjslIsy2Rz3n77bXz//ff48ssv8eKLLwIAJk+ejMjISJw8edJo2zfffBN5eXnl2v+NGzcwZ86ccpflLVu2YMuWLeV6jLnk5eXhzTffLHa7LMu4du0aNm7ciFq1aglIZjpLly5FixYtsH37dowcORJffPEFZs6cCWdnZzz55JNYsGCB6Ig27YMPPkBubu4Dt6vI96C5FBUVYdGiRZgwYQKUSqXoOCbVrFkztGjRosQ/Yojo/lSiAxCZWt++fdGiRQvD+zNmzMC2bdvQv39/PPLIIzh37hycnZ0BACqVCiqVeb8NcnNz4eLiAkdHR7MepzycnJxKvF2SJEyZMqWK05jegQMH8Oyzz6Jt27b466+/4ObmZrhv8uTJOHLkCE6fPm2SY+Xk5MDV1dUk+7IG+fn5cHR0hEJR+rmWpk2bIjo6Gl999dUDv56q4nuwrNavX4+kpCSbHa4wfPhwzJo1C1988QU0Go3oOERWg2eWyS5069YNb731Fi5fvowffvjBcHtJ4yX//vtvdOjQAZ6entBoNKhfvz5ef/11AHde3mzZsiUAYNy4cYaXnJcvXw7gztjIRo0a4ejRo+jUqRNcXFwMjy1t3KROp8Prr7+OgIAAuLq64pFHHsHVq1eNtiltTGJJ+8zPz8fs2bMRFhYGJycnBAYGYvDgwYiPjzdsU9KY5ePHj6Nv375wd3eHRqNB9+7dceDAAaNt7r6MvnfvXkyZMgV+fn5wdXXFoEGDkJSUVCxfSX7//Xc0atQITk5OaNSoEdauXVvidnq9Hh9//DEaNmwIJycn+Pv745lnnkFaWtoDjzFnzhxIkoSVK1caFeW7WrRoYfh43n3JeseOHUbbJCQkGH1ugTtjqzUaDeLj4/HQQw/Bzc0NI0eOBADExsZiyJAhCAgIgJOTE2rUqIHHHnsMGRkZhsdrtVrMnTsXISEhUKvVCA4Oxuuvv46CggKjYx85cgS9e/eGr68vnJ2dUadOHYwfP/6Bzzs4OBj9+/fHli1b0LRpUzg5OaFBgwb47bffim178eJFDBs2DN7e3nBxcUGbNm2wYcMGo23ufmxWrVqFN998E9WrV4eLiwsyMzPvm6N9+/bo1q0b3n///QeeNb73e7BRo0bo2rVrse30ej2qV6+OoUOHGt1W0a+Rkvz+++8IDg5GSEhIhR6fnp6OyZMnG4b9hIaGYsGCBdDr9QDunLn29vbGuHHjij02MzMTTk5OmDp1quG2goICzJo1C6GhoVCr1ahZsyZee+21Yl8vZdWzZ0/k5OTg77//rtDjieyVZfw5T1QFnnjiCbz++uvYsmULnnrqqRK3OXPmDPr374/GjRvj7bffhlqtRlxcHPbu3QsAiIiIwNtvv42ZM2fi6aefRseOHQEA7dq1M+wjJSUFffv2xWOPPYZRo0bB39//vrnmz58PSZIwbdo0JCYm4uOPP0aPHj0QHR1tOANeVjqdDv3798fWrVvx2GOP4aWXXkJWVhb+/vtvnD59utQScObMGXTs2BHu7u547bXX4ODggMWLF6NLly7YuXNnsQv9XnzxRXh5eWHWrFlISEjAxx9/jBdeeAGrV6++b74tW7ZgyJAhaNCgAd59912kpKRg3LhxqFGjRrFtn3nmGSxfvhzjxo3DpEmTcOnSJXz22Wc4fvw49u7dCwcHhxKPkZubi61bt6JTp05mGUqi1WrRu3dvdOjQAf/3f/8HFxcXFBYWonfv3igoKMCLL76IgIAAXL9+HevXr0d6ejo8PDwAABMmTMCKFSswdOhQvPLKKzh48CDeffddnDt3zvBHQ2JiInr16gU/Pz9Mnz4dnp6eSEhIKLHwliQ2NhaPPvoonn32WYwZMwbLli3DsGHDsGnTJvTs2RMAcPv2bbRr1w65ubmYNGkSfHx8sGLFCjzyyCP49ddfMWjQIKN9zp07F46Ojpg6dSoKCgrK9CrJ7Nmz0alTJ3z55ZflerXi0UcfxezZs3Hr1i0EBAQYbt+zZw9u3LhhNJa4ol8jpdm3bx+ioqLK9Zi7cnNz0blzZ1y/fh3PPPMMatWqhX379mHGjBm4efMmPv74Yzg4OGDQoEH47bffsHjxYqOP4++//46CggLD89Pr9XjkkUewZ88ePP3004iIiMCpU6fw0Ucf4cKFC/j999/LnbFBgwZwdnbG3r17i32Oieg+ZCIbsWzZMhmAfPjw4VK38fDwkJs1a2Z4f9asWfJ/vw0++ugjGYCclJRU6j4OHz4sA5CXLVtW7L7OnTvLAOSvvvqqxPs6d+5seH/79u0yALl69epyZmam4faff/5ZBiAvWrTIcFvt2rXlMWPGPHCf3377rQxA/vDDD4ttq9frDf8GIM+aNcvw/sCBA2VHR0c5Pj7ecNuNGzdkNzc3uVOnTobb7n6Me/ToYbS/l19+WVYqlXJ6enqx4/5X06ZN5cDAQKPttmzZIgOQa9eubbht9+7dMgB55cqVRo/ftGlTibf/14kTJ2QA8ksvvXTfLHfd/Txs377d6PZLly4V+zyPGTNGBiBPnz7daNvjx4/LAORffvml1ONER0fLAOQJEyYY3T516lQZgLxt2zZZlmV57dq1D/w6Lk3t2rVlAPKaNWsMt2VkZMiBgYFGX/eTJ0+WAci7d+823JaVlSXXqVNHDg4OlnU6nSzL//vY1K1bV87NzS1TBgDy888/L8uyLHft2lUOCAgwPLak79F7vwdjYmJkAPKnn35qtN+JEyfKGo3GsK/yfI3c+31SkqKiIlmSJPmVV14p0/O893ty7ty5squrq3zhwgWj7aZPny4rlUr5ypUrsizL8ubNm2UA8p9//mm03UMPPSTXrVvX8P73338vKxQKo8+RLMvyV199JQOQ9+7dW2qW+wkLC5P79u1bpm2J6A4OwyC7otFo7jsrxt3ZH9atW2d46bS81Gp1iS+zlmb06NFGQwWGDh2KwMBA/PXXX+U+9po1a+Dr62u4sPG/SpueS6fTYcuWLRg4cCDq1q1ruD0wMBCPP/449uzZU+xl96efftpofx07doROp8Ply5dLzXbz5k1ER0djzJgxhjOtwJ2Xhhs0aGC07S+//AIPDw/07NkTycnJhrfmzZtDo9Fg+/btpR7nbtaShl+YynPPPWf0/t3ns3nz5lIvarv7+bz3LOsrr7wCAIYhEHe/BtevX4+ioqJyZwsKCjI6a+ju7o7Ro0fj+PHjuHXrliFLq1at0KFDB8N2Go0GTz/9NBISEnD27FmjfY4ZM6bcr3IAMJwh/uqrr8r8mLCwMDRt2tToVQqdTodff/0VDz/8sCFHZb5GSpKamgpZluHl5VWux931yy+/oGPHjvDy8jLK06NHD+h0OuzatQvAnSFhvr6+Rs8vLS0Nf//9Nx599FGj/UVERCA8PNxof926dQOAcj+/u+7mI6KyY1kmu5KdnX3fEvXoo4+iffv2mDBhAvz9/fHYY4/h559/Lldxrl69erku5qtXr57R+5IkITQ01Gjap7KKj49H/fr1y3XBVFJSEnJzc1G/fv1i90VERECv1xcbQ33v8Ia7BeN+Y0XvFul7ny+AYseOjY1FRkYGqlWrBj8/P6O37OxsJCYmlnocd3d3ADDZVIH3UqlUxYaN1KlTB1OmTMHSpUvh6+uL3r174/PPPzcar3z58mUoFAqEhoYaPTYgIACenp6Gj0/nzp0xZMgQzJkzB76+vhgwYACWLVtW5nGqoaGhxf4wCgsLAwDD19Tly5dL/Xzfvf/e51cRnTp1QteuXcs0dvm/Hn30UezduxfXr18HcGfsdGJiolGZrMzXyP3Islyhx8XGxmLTpk3FsvTo0QMADHlUKhWGDBmCdevWGT6nv/32G4qKioo9vzNnzhTb393PZWWeX1XNLU9kKzhmmezGtWvXkJGRUays/JezszN27dqF7du3Y8OGDdi0aRNWr16Nbt26YcuWLWWaTqoiZ+Ae5H5nhUVMcVXaMStaNO6l1+vvuzCEn59fqY8NDQ2FSqXCqVOnynSs+31sS6JWq0ucCWLhwoUYO3Ys1q1bhy1btmDSpEl49913ceDAAaNy/aCicnehmgMHDuDPP//E5s2bMX78eCxcuBAHDhwQMotBZb6mZ82ahS5dumDx4sVlnrf70UcfxYwZM/DLL79g8uTJ+Pnnn+Hh4YE+ffoYtqnM10hJvL29IUlShS8O1Ov16NmzJ1577bUS779bcoE7C4QsXrwYGzduxMCBA/Hzzz8jPDwcTZo0MdpfZGQkPvzwwxL3V7NmzQrlTEtLK/EPViIqHcsy2Y3vv/8eANC7d+/7bqdQKNC9e3d0794dH374Id555x288cYb2L59O3r06GHyszKxsbFG78uyjLi4ODRu3Nhwm5eXF9LT04s99vLly0ZDJ0JCQnDw4EEUFRWV+eImPz8/uLi4ICYmpth958+fh0KhqPAv5v+qXbs2gOLPF0CxY4eEhOCff/5B+/bty13UXFxc0K1bN2zbtg1Xr159YPa7Z8Xv/fjeb0hJaSIjIxEZGYk333wT+/btQ/v27fHVV19h3rx5qF27NvR6PWJjYw1ncIE7F9ulp6cbPj53tWnTBm3atMH8+fPx448/YuTIkVi1ahUmTJhw3wxxcXHFzh5euHABAAwLa9SuXbvUz/fd+02lc+fO6NKlCxYsWICZM2eW6TF16tRBq1atsHr1arzwwgv47bffMHDgQKjVasM2lfkaKYlKpUJISAguXbpUoceHhIQgOzvbcCb5fjp16oTAwECsXr0aHTp0wLZt2/DGG28U29+JEyfQvXt3k/3M0Wq1uHr1Kh555BGT7I/IXnAYBtmFbdu2Ye7cuahTp45hqq+SpKamFrutadOmAGB4yfTunLolldeK+O6774yGDPz666+4efMm+vbta7gtJCQEBw4cQGFhoeG29evXFxseMWTIECQnJ+Ozzz4rdpzSzvoqlUr06tUL69atMxr6cfv2bfz444/o0KGDYWhDZQQGBqJp06ZYsWKF0fCEv//+u9gY2eHDh0On02Hu3LnF9qPVah/4sZ81axZkWcYTTzyB7OzsYvcfPXoUK1asAHCnGCqVSsOY0ru++OKLsj41ZGZmQqvVGt0WGRkJhUJh+Lp56KGHAAAff/yx0XZ3zxz269cPwJ0zf/d+ru79GryfGzduGE3Hl5mZie+++w5NmzY1zC7x0EMP4dChQ9i/f79hu5ycHHz99dcIDg4uNoa8su6OXf7666/L/JhHH30UBw4cwLfffovk5GSjIQpA5b9GStK2bdsKry44fPhw7N+/H5s3by52X3p6utHXh0KhwNChQ/Hnn3/i+++/h1arLfH5Xb9+HUuWLCm2v7y8POTk5JQ749mzZ5Gfn280ew8RPRjPLJPN2bhxI86fPw+tVovbt29j27Zt+Pvvv1G7dm388ccfpS7IAdxZ/W/Xrl3o168fateujcTERHzxxReoUaOG4WKokJAQeHp64quvvoKbmxtcXV3RunXrCo/r9Pb2RocOHTBu3Djcvn0bH3/8MUJDQ42mt5swYQJ+/fVX9OnTB8OHD0d8fDx++OGHYlPBjR49Gt999x2mTJmCQ4cOoWPHjsjJycE///yDiRMnYsCAASVmmDdvnmF+6YkTJ0KlUmHx4sUoKCjA+++/X6HnVZJ3330X/fr1Q4cOHTB+/Hikpqbi008/RcOGDY1KbefOnfHMM8/g3XffRXR0NHr16gUHBwfExsbil19+waJFi4zm271Xu3bt8Pnnn2PixIkIDw/HE088gXr16iErKws7duzAH3/8gXnz5gG4c3HesGHD8Omnn0KSJISEhGD9+vXlGhO6bds2vPDCCxg2bBjCwsKg1Wrx/fffQ6lUYsiQIQCAJk2aYMyYMfj666+Rnp6Ozp0749ChQ1ixYgUGDhxomFt4xYoV+OKLLzBo0CCEhIQgKysLS5Ysgbu7u6Fw309YWBiefPJJHD58GP7+/vj2229x+/ZtLFu2zLDN9OnT8dNPP6Fv376YNGkSvL29sWLFCly6dAlr1qy574IjFdG5c2d07twZO3fuLPNjhg8fjqlTp2Lq1KmGZcrv3WdlvkZKMmDAAHz//fe4cOGC0bCJsnj11Vfxxx9/oH///hg7diyaN2+OnJwcnDp1Cr/++isSEhLg6+tr2P7RRx/Fp59+ilmzZiEyMtLo1QbgzlSXP//8M5599lls374d7du3h06nw/nz5/Hzzz9j8+bNRosvlcXff/8NFxcXwxSCRFRGwubhIDKxu9NS3X1zdHSUAwIC5J49e8qLFi0ymp7trnunrdq6das8YMAAOSgoSHZ0dJSDgoLkESNGFJsOat26dXKDBg1klUplNL1Y586d5YYNG5aYr7Sp43766Sd5xowZcrVq1WRnZ2e5X79+8uXLl4s9fuHChXL16tVltVott2/fXj5y5EiJU2Ll5ubKb7zxhlynTh3ZwcFBDggIkIcOHWo0LRzumTpOlmX52LFjcu/evWWNRiO7uLjIXbt2lfft21fix/jeac1Km36tJGvWrJEjIiJktVotN2jQQP7tt9/kMWPGGE0dd9fXX38tN2/eXHZ2dpbd3NzkyMhI+bXXXpNv3LjxwOPIsiwfPXpUfvzxx+WgoCDZwcFB9vLykrt37y6vWLHCMD2aLMtyUlKSPGTIENnFxUX28vKSn3nmGfn06dMlTh3n6upa7DgXL16Ux48fL4eEhMhOTk6yt7e33LVrV/mff/4x2q6oqEieM2eO4XNTs2ZNecaMGXJ+fr5hm2PHjskjRoyQa9WqJavVarlatWpy//795SNHjjzw+dauXVvu16+fvHnzZrlx48ayWq2Ww8PDS5zSLj4+Xh46dKjs6ekpOzk5ya1atZLXr19vtM3dz+v9psS7F/4zdVxJ+7r36+fe78H/at++fYnT7f1XWb5GyjJ1nCzLckFBgezr6yvPnTv3gduWNF1bVlaWPGPGDDk0NFR2dHSUfX195Xbt2sn/93//JxcWFhptq9fr5Zo1a8oA5Hnz5pV4jMLCQnnBggVyw4YNZbVaLXt5ecnNmzeX58yZI2dkZNw3S0lat24tjxo16oHbEZExSZZNdEUOEREJFRwcjEaNGmH9+vWio1ituXPnYtmyZYiNjRVy8ay5REdHIyoqCseOHTMM6yGisuGYZSIion+9/PLLyM7OxqpVq0RHMan33nsPQ4cOZVEmqgCOWSYiIvqXRqOp8BzGlszWyj9RVeKZZSIiIiKiUnDMMhERERFRKXhmmYiIiIioFCzLRERERESlYFkmIiIiIioFyzIRERERUSlYlomIiIiISsGyTERERERUCpZlIiIiIqJSsCwTEREREZWCZZmIiIiIqBQsy0REREREpWBZJiIiIiIqBcsyEREREVEpWJaJiIiIiErBskxEREREVAqWZSIiIiKiUrAsExERERGVgmWZiIiIiKgULMtERERERKVgWSYiIiIiKgXLMhERERFRKViWiYiIiIhKwbJMRERERFQKlmUiIiIiolKwLBMRERERlYJlmYiIiIioFCzLRERERESlYFkmIiIiIioFyzIRERERUSlYlomIiIiISsGyTERERERUCpZlIiIiIqJSsCwTEREREZWCZZmIiIiIqBQsy0REREREpWBZJiIimydJEn7//XfRMYjICrEsExFZqLFjx0KSpGJvffr0ER0NwJ18AwcONNl2RESWSCU6ABERla5Pnz5YtmyZ0W1qtVpQmjt0Oh0kSRKagYioqvDMMhGRBVOr1QgICDB68/LyAgDs2LEDjo6O2L17t2H7999/H9WqVcPt27cBAF26dMELL7yAF154AR4eHvD19cVbb70FWZYNjykoKMDUqVNRvXp1uLq6onXr1tixY4fh/uXLl8PT0xN//PEHGjRoALVajfHjx2PFihVYt26d4Yz3fx9THqdPn0bfvn2h0Wjg7++PJ554AsnJyQCAr7/+GkFBQdDr9UaPGTBgAMaPH294f926dYiKioKTkxPq1q2LOXPmQKvVVigPEdF/sSwTEVmpLl26YPLkyXjiiSeQkZGB48eP46233sLSpUvh7+9v2G7FihVQqVQ4dOgQFi1ahA8//BBLly413P/CCy9g//79WLVqFU6ePIlhw4ahT58+iI2NNWyTm5uLBQsWYOnSpThz5gw++eQTDB8+HH369MHNmzdx8+ZNtGvXrtzPIT09Hd26dUOzZs1w5MgRbNq0Cbdv38bw4cMBAMOGDUNKSgq2b99ueExqaio2bdqEkSNHAgB2796N0aNH46WXXsLZs2exePFiLF++HPPnzy93HiKiYmQiIrJIY8aMkZVKpezq6mr0Nn/+fMM2BQUFctOmTeXhw4fLDRo0kJ966imjfXTu3FmOiIiQ9Xq94bZp06bJERERsizL8uXLl2WlUilfv37d6HHdu3eXZ8yYIcuyLC9btkwGIEdHRxfLN2DAgDI9j9K2mzt3rtyrVy+j265evSoDkGNiYmRZluUBAwbI48ePN9y/ePFiOSgoSNbpdIas77zzjtE+vv/+ezkwMNDwPgB57dq1D8xKRHQvjlkmIrJgXbt2xZdffml0m7e3t+Hfjo6OWLlyJRo3bozatWvjo48+KraPNm3aGI0xbtu2LRYuXAidTodTp05Bp9MhLCzM6DEFBQXw8fExOk7jxo1N9bQMTpw4ge3bt0Oj0RS7Lz4+HmFhYRg5ciSeeuopfPHFF1Cr1Vi5ciUee+wxKBQKwz727t1rdCZZp9MhPz8fubm5cHFxMXluIrIfLMtERBbM1dUVoaGh991m3759AO4MT0hNTYWrq2uZ95+dnQ2lUomjR49CqVQa3fffAuvs7GyWi/qys7Px8MMPY8GCBcXuCwwMBAA8/PDDkGUZGzZsQMuWLbF7926jPwqys7MxZ84cDB48uNg+nJycTJ6ZiOwLyzIRkRWLj4/Hyy+/jCVLlmD16tUYM2YM/vnnH8NZVwA4ePCg0WMOHDiAevXqQalUolmzZtDpdEhMTETHjh3LdWxHR0fodLpK5Y+KisKaNWsQHBwMlarkX0lOTk4YPHgwVq5cibi4ONSvXx9RUVFG+4iJiXngHxVERBXBskxEZMEKCgpw69Yto9tUKhV8fX2h0+kwatQo9O7dG+PGjUOfPn0QGRmJhQsX4tVXXzVsf+XKFUyZMgXPPPMMjh07hk8//RQLFy4EAMMwh9GjR2PhwoVo1qwZkpKSsHXrVjRu3Bj9+vUrNVtwcDA2b96MmJgY+Pj4wMPDAw4ODiVum5GRgejoaKPbfHx88Pzzz2PJkiUYMWIEXnvtNXh7eyMuLg6rVq3C0qVLDWe7R44cif79++PMmTMYNWqU0X5mzpyJ/v37o1atWhg6dCgUCgVOnDiB06dPY968eWX+WBMRlUj0oGkiIirZmDFjZADF3urXry/LsizPmTNHDgwMlJOTkw2PWbNmjezo6Gi4GK9z587yxIkT5WeffVZ2d3eXvby85Ndff93ogr/CwkJ55syZcnBwsOzg4CAHBgbKgwYNkk+ePCnL8p0L/Dw8PIrlS0xMlHv27ClrNBoZgLx9+/ZyPY8nn3xSlmVZvnDhgjxo0CDZ09NTdnZ2lsPDw+XJkycbZdTpdHJgYKAMQI6Pjy92jE2bNsnt2rWTnZ2dZXd3d7lVq1by119/bbgfvMCPiCpIkuX/TLZJREQ2pUuXLmjatCk+/vhj0VGIiKwS51kmIiIiIioFyzIRERERUSk4DIOIiIiIqBQ8s0xEREREVAqWZSIiIiKiUrAsExERERGVgmWZiIiIiKgULMtERERERKVgWSYiIiIiKgXLMhERERFRKViWiYiIiIhKwbJMRERERFQKlmUiIiIiolKwLBMRERERlYJlmYiIiIioFCzLRERERESlYFkmIiKiMps9ezaaNm1qeH/s2LEYOHCgsDyiSZKE33//XXQMMiOWZSIiokqqSGG0lZK1aNEiLF++vMzbJyQkQJIkREdHV/rY9l7UqWqoRAcgIrIWsiwjPycfOZl5yMvKQ25W/r//z0NBbiH0Oj30ej30Oj1kvQy9XoajsyMK84ugUCqgUEiQJAmSQgGlUgEHJwc4uTjCyVUNtYsaTi5qOLmq4eLmDGc3JygUPJ9BD1ZUVAQHBwdhx/fw8BB2bKKqwLJMRHYrOz0HyddTkXIj9d//pyH5eipSb6UhJyMXuYZSnIe8rHzkZedDluVyHaNRhwicORBX7mySJMHZzQku7s5wdXeBq4cLPHzc4OnvDq9qHvAO8IRnNQ94B9z5t291bzg6OZb7OGQeXbp0QePGjeHk5ISlS5fC0dERzz77LGbPng0ACA4OBgAMGjQIAFC7dm0kJCQAANatW4c5c+bg7NmzCAoKwpgxY/DGG29ApbrzK1uSJHzxxRfYuHEjtm7dildffRUA8Pvvv2PSpEmYPXs2UlNTMXr0aHz66adYuHAhPvzwQ+j1erz00kt44403DDnT09MxdepUrFu3DgUFBWjRogU++ugjNGnSxLDNe++9h48++gi5ubkYPnw4/Pz8jJ7r2LFjkZ6ebjhLvmnTJsybNw+nT5+GUqlE27ZtsWjRIoSEhAAA6tSpAwBo1qwZAKBz587YsWMHAGDp0qVYuHAhLl26hODgYEyaNAkTJ06s8Ofh9OnTePXVV7F79264urqiV69e+Oijj+Dr64uvv/4as2fPxrVr14z+MB0wYAB8fHzw7bfflunzQbaPn2kisknaIi2ux93CtZgbuHUp8U4hvvGfQnwjDfm5BaJjlkqWZeRm5iE3Mw/JSC11OzdvDbJSMgEA7j5u8A3ygk91b/jV8EFQaACq//sWFOLPMl3FVqxYgSlTpuDgwYPYv38/xo4di/bt26Nnz544fPgwqlWrhmXLlqFPnz5QKpUAgN27d2P06NH45JNP0LFjR8THx+Ppp58GAMyaNcuw79mzZ+O9997Dxx9/DJVKhW+//Rbx8fHYuHEjNm3ahPj4eAwdOhQXL15EWFgYdu7ciX379mH8+PHo0aMHWrduDQAYNmwYnJ2dsXHjRnh4eGDx4sXo3r07Lly4AG9vb/z888+YPXs2Pv/8c3To0AHff/89PvnkE9StW7fU552Tk4MpU6agcePGyM7OxsyZMzFo0CBER0dDoVDg0KFDaNWqFf755x80bNgQjo53vi5XrlyJmTNn4rPPPkOzZs1w/PhxPPXUU3B1dcWYMWPK/fFPT09Ht27dMGHCBHz00UfIy8vDtGnTMHz4cGzbtg3Dhg3Diy++iO3bt6N79+4AgNTUVGzatAl//fVXuT4fZNskubynSYiILEhWWjaunr+OK+dv4Or567gacx1Xz1/HzYuJ0Gl1ouNV+MxyWVWvF4DrF248cDuFQoJfTR8EhQYaCnT1egGoHhqIwLrVoHLguZPKuPfsapcuXaDT6bB7927DNq1atUK3bt3w3nvvAbhzhnjt2rVGY2579OiB7t27Y8aMGYbbfvjhB7z22mu4ceOG4XGTJ0/GRx99ZNhm9uzZ+OCDD3Dr1i24ubkBAPr06YOYmBjEx8cbzpyGh4dj7NixmD59Ovbs2YN+/fohMTERarXasK/Q0FC89tprePrpp9GuXTs0a9YMn3/+ueH+Nm3aID8/3zDm+N7nfq/k5GT4+fnh1KlTaNSoERISElCnTh0cP37c6ELB0NBQzJ07FyNGjDDcNm/ePPz111/Yt29fmT7u/zVv3jzs3r0bmzdvNtx27do11KxZEzExMQgLC8PAgQPh4+ODb775BgDw9ddfY86cObh69SoUCkWZPx/3fh7JtvCnIxFZhbycfMQdu4TYoxdx+exVXI25U47TkzJFRxPKxc25TNvp9TJuX07G7cvJOL71lNF9KgclakXUQGjTYIQ0DUZos2CENAku876pZI0bNzZ6PzAwEImJifd9zIkTJ7B3717Mnz/fcJtOp0N+fj5yc3Ph4uICAGjRokWxxwYHBxuKMgD4+/tDqVQaDTHw9/c3ZDhx4gSys7Ph4+NjtJ+8vDzEx8cDAM6dO4dnn33W6P62bdti+/btpT6H2NhYzJw5EwcPHkRycjL0ej0A4MqVK2jUqFGJj8nJyUF8fDyefPJJPPXUU4bbtVpthcdEnzhxAtu3b4dGoyl2X3x8PMLCwjBy5Eg89dRT+OKLL6BWq7Fy5Uo89thjho9ZWT8fZNtYlonI4ui0Olw8eRkxh+MRcygWMUficfnsNeh1etHRLI6jU+Uv7NIW3fl4Xzx5GfhuJ4A7Z8sC61a7U57vluimdeAd4Fnp49mLey+6kyTJUBxLk52djTlz5mDw4MHF7nNycjL829XVtUzHu1+G7OxsBAYGGsYL/5enp+d9c97Pww8/jNq1a2PJkiUICgqCXq9Ho0aNUFhYWOpjsrOzAQBLliwxDBG56+4QlfLKzs7Gww8/jAULFhS7LzAw0JBVlmVs2LABLVu2xO7du43O2Jf180G2jWWZiISSZRnXLtz4txjHIeZIHOKjE1CYXyQ6mlVQKs0zY4Ysy7gRfxs34m9j95qDhtt9q3ujYfv6iGwfjkYdwhHcqCZn7aggBwcH6HTGQ4WioqIQExOD0NBQsx8/KioKt27dgkqlMlxweK+IiAgcPHgQo0ePNtx24MCBUveZkpKCmJgYLFmyBB07dgQA7Nmzx2ibu2OU//vc/f39ERQUhIsXL2LkyJEVfUpGoqKisGbNGgQHB5d6MZ6TkxMGDx6MlStXIi4uDvXr10dUVJTRPqrq80GWi2WZiKqULMu4dOoKjm89hePbTuHM3hhkp+eIjmW1qvqyk+Trqdj5837s/Hk/AEDj6YqG7cLQqEM4GrUPR1iLEDg48ldLWQQHB2Pr1q1o37491Go1vLy8MHPmTPTv3x+1atXC0KFDoVAocOLECZw+fRrz5s0z6fF79OiBtm3bYuDAgXj//fcRFhaGGzduYMOGDRg0aBBatGiBl156CWPHjkWLFi3Qvn17rFy5EmfOnCn1Aj8vLy/4+Pjg66+/RmBgIK5cuYLp06cbbVOtWjU4Oztj06ZNqFGjBpycnODh4YE5c+Zg0qRJ8PDwQJ8+fVBQUIAjR44gLS0NU6ZMKfV5ZGRkFJuz2cfHB88//zyWLFmCESNG4LXXXoO3tzfi4uKwatUqLF261HDGeuTIkejfvz/OnDmDUaNGGe2nKj8fZLn4E42IzO5WQiKO/XOnHEdvO430xAzRkWxGUYHYM/DZ6Tk4+NdxHPzrOABA7eyI+i1D0KhDOJp2bYRG7evz4sFSLFy4EFOmTMGSJUtQvXp1JCQkoHfv3li/fj3efvttLFiwAA4ODggPD8eECRNMfnxJkvDXX3/hjTfewLhx45CUlISAgAB06tQJ/v7+AIBHH30U8fHxeO2115Cfn48hQ4bgueeeM7po7r8UCgVWrVqFSZMmoVGjRqhfvz4++eQTdOnSxbCNSqXCJ598grfffhszZ85Ex44dsWPHDkyYMAEuLi744IMP8Oqrr8LV1RWRkZGYPHnyfZ/Hjh07DNPQ3fXkk09i6dKl2Lt3L6ZNm4ZevXqhoKAAtWvXRp8+fYxeDenWrRu8vb0RExODxx9/3Gg/Vfn5IMvF2TCIyOQykjMRve00jv1zEse3ncbNi7dFRxLG3LNhBDeojoQzV822/8pycXNGs+6N0LJ3U7Tq2wy+1b1FRyIiKheWZSKqNFmWEXM4DnvXHsLhzdG4eOJylQ8PsFTmLsu+QR5Ivp5mtv2bWp1GtdCyTxO06tsMDdvVh1JVsYu3iIiqCssyEVWITqfDqV3nsOe3g9i37jCSrqWIjmSRzF2WVSoJ2iLx80lXhIu7M6K6R6Jln6Zo90gLePi6i45ERFQMyzIRlVlhQRGO/X0Se347iAPrjyAjOUt0JItnzrLs5uWKrFTb+BwoVUo07twAnYe2QYdBreDu4/bgBxERVQGWZSK6r7zsPBzccAx71h7E4Y3RyM3KEx3JqpizLAeF+ONG3E2z7FskpUqJpl0botPQNmg/sBXcvYsvKkFEVFVYlomoGG2RFgc3HMOWFTtweFO08BkXrJk5y3K9qGDEHr1oln1bCpWDEk27Nvq3OLeEmxeLMxFVLZZlIjKIP5GAzcu2Y/tPe+x+GWlTMWdZbtg2DGf2nTfLvi2RykGJln2aovfYrmj9UDNeHEhEVYKTXxLZucyULGxduRubl29HfHSC6DhUDkoH+1o5T1ukw/4/j2L/n0fhHeCJ7iM7os+4rqhZP0h0NCKyYTyzTGSHdFodDm08ji0rduDg+qMoKtSKjmSzzHlmObJDfZzafc4s+7YmDdvVR59xXdFpWBs4uzqJjkNENoZlmciOXDl/HRuXbsXWlbuQdpur6FUFc5bl8FYhOH8w1iz7tkYubs7oPKwt+ozriog29UTHISIbwbJMZOP0ej0ObjiG3z/9C8f+OSU6jt0xZ1kOblgdCactd/U+kWo3rIGBz/dBj1GdoHZ2FB2HiKwYyzKRjcpOz8Gmb7fhjy822/Vy06KZsyz7Bnki+XqqWfZtK9x93NDvqe545Lle8AniUttEVH4sy0Q25nrcTaz5aAP+/m4H8nMKRMexe+YsyyoHBbQcb14mKgclOg5pgyEvPYSwFiGi4xCRFWFZJrIRJ3edxZqP1uPAn0eg1/Pb2lKYqyxrPF2QnZZt8v3ag4bt6mPwSw+h3YCWUCrta0YRIio/Th1HZMV0Oh12/XIAv374Jy4ciRcdh6qQu48by3IFndkXgzP7YuAf7IcBE/ug31Pd4azhLBpEVDKeWSayQjqdDttW7sHK+WtwPdb2lju2JeY6sxzaNBhxx2179b6q4u7jhoEv9sGgF/rC1cNFdBwisjAsy0RWhCXZ+pirLDdsF4Yze+1n9b6q4Orhgkcm9saQlx6Cu4+b6DhEZCE4DIPICrAk070UHGtrcjkZufjp3bVY+8lfGDCxN4ZO6Q8PX3fRsYhIMJZlIgvGkkyl4ouCZpOfU4DVH/yBP77cgkcm9sawKf15ppnIjnEYBpEFYkm2HeYahsHV+6qOs8YJA1/og+FTH+GYZiI7xLJMZGG2r9qLFbNWsyTbCHOV5ToNa+DS6Ssm3y+VzsPXDY+/PhgPP9sTKge+MEtkL1iWiSzE2QMX8NWU5Th3gGcLbYm5yrJfDS8kXU0x+X7pwYJCA/Dk/BHoOLi16ChEVAVYlokES7yShKUzVmLHqn3gt6PtMVdZdlQrUZhfZPL9Utk1aBuGp94biYbt6ouOQkRmxLJMJEhedh5+enct1ny0nqXHhpmjLLt6uCAnnQuSWIoOg1vhyfmPo3pogOgoRGQGLMtEVUyv12Pzsu1Y/tYqpN5KFx2HzMwcZTmwbjXcjL9l0n1S5agclOj3dE+MenMwp5sjsjGcqJOoCkVvP42JLabhw6e+YlGmCnN154wMlkZbpMO6zzdhfMMp2LDkHw6pIrIhLMtEVeBG/C3MGvQ+Xu0+B/HRCaLjkJVzdHYQHYFKkZWajUUTl+KlDm/xe53IRrAsE5mRTqvDqvfW4unGr2DfusOi45CNUDkoRUegBzh/KA7Pt3kdX7y8HDmZuaLjEFElsCwTmUnM4ThMbDkN37z+IwryCkXHIRsi6/kSvzXQ6/T4/bNNeLLRK9i+ep/oOERUQSzLRCaWl52HLyYvw6S2r+Piicui45AN0hZpRUegcki9mYZ3R32C6X3nc7EhIivEskxkQgf/OoYJjaZg7Sd/Qc+zf2Qm+TkFoiNQBRz75xSebvYaVsz+GYUFnC6SyFqwLBOZQFpiBuY//jHe7P8uEq8ki45DNi4ng2NgrVVRQRFWzv8Nz7eegdhjl0THIaIyYFkmqqRN327DkxEvYceqvaKjkJ1IT8oUHYEq6fKZa5jU/k18N+cXDqshsnBclISogm4lJGLhhC8Rve206ChkwUy9KImLmzNyM3NMtj8SL7RpMF79diLqRNYSHYWISsAzy0QVsHXlbjzTdCqLMlU5d1830RHIxOKiE/BCm9fx47trodPpRcchonuwLBOVQ05GDt4dtQjvPfEJcjPzRMchO+Tq7iw6AplBUaEWy2euxuQOb+HKueui4xDRf7AsE5XR6T3n8EzTV7Htxz2io5AdU7s4io5AZhRzJB4TW03HLx/+Cb2eZ5mJLAHLMtED6LQ6LHvzJ7zSdTZuX04SHYfsnFLF1ftsXWF+EZZMW4kZfd9B6q100XGI7B7LMtF9XI+7ickd3sSP7/wGPccSElEVOr7tNJ5rMQ3Htp4SHYXIrrEsE5Vi07fb8FzUazh/yHQzGRBVFqcZsy9ptzPw+kPvYNlbq3jxH5EgLMtE98hKy8bbwxdi4YQvkZedLzoOkRGu3md/9HoZP733O17tPgdJ11JExyGyOyzLRP8RF30JE1tMw+5fD4iOQlSi3AzOsWyvTu+NwXMtpuPAhqOioxDZFZZlon9tXbkbk9u/iVuXEkVHISpVRnKW6AgkUGZKFmYO/ABfTf2OQ3KIqgjLMtk9nVaHz1/6Fu898QkK8gpFxyEqlbPGicMwCADw26K/8HLnWUi8miw6CpHNY1kmu5Z2Ox2v9piD3z/dKDoK0QNx9T76r5jD8XihzRs4vee86ChENo1lmezW2QMXMLHFNJzadU50FKIy0Xi4iI5AFiY9MQPTes/DX0u3io5CZLNYlskurV/8N6Z2mYXk66mioxCVmdqZq/dRcUWFWnz83BJ8+uK30Gl1ouMQ2RyWZbIrhQVFWDjhSyx67msUFfLiGLIuKgeu3kel+/OrLZjWex4ykjNFRyGyKSzLZDeSr6fglc4zsenbbaKjEFWILDoAWbyTu87hhbZv4OLJy6KjENkMlmWyCxdPXsaLbV7nanxk1XScKozK4HZCEiZ3moldazhfPJEpsCyTzTv2z0m83Oktjk8mq1eQy2njqGzycwowf8QifD/3V9FRiKweyzLZtC0rduCNfu8gNzNPdBSiSsvOyBUdgayILMv4/u1f8eHTi3nhH1ElsCyTzfph7q/4YNzn0BbxlwTZhkyu3kcVsGnZdswa/H/Iy8kXHYXIKrEsk83RaXX48KmvsGLWatFRiEzGSaNGXjbLDlXMoY3H8VqPuUhP4kwZROXFskw2JS87D2898h42fsMJ+sm2ePhw9T6qnJgj8ZjcaSZuxN8SHYXIqrAsk81IuZmGKZ1n4fCmaNFRiEzOlav3kQnciLuFyZ1m4cKReNFRiKwGyzLZhMtnr+Kldm8g7vgl0VGIzELtohYdgWxEemIGpvZ4G4c3R4uOQmQVWJbJ6sUcicfLnWbi9uUk0VGIzEal4up9ZDr5OQWYOfADbFmxQ3QUIovHskxW7ez+GEzr+TayUrNFRyEyL0l0ALI1Oq0OC59ajD++2Cw6CpFFY1kmq3Vq9znM6DMfOZx7luyAjlMgkhnIsozPXlqG3xb9JToKkcViWSardHzbKbz+0HzkZnGxEbIP+Vy9j8zoq6nfYfUH60THILJILMtkdY5sOYG3Hn4P+TksD2Q/cjP5CgqZ1zev/4Qf5q8RHYPI4rAsk1U5sP4oZg5YgIK8QtFRiKpURjIXkyDz+272L1jOBZ2IjLAsk9XYs/Yg5gz5AEUFRaKjEFUptYsj8rK4eh9VjR/fWYulM1aKjkFkMViWySrsWL0X8x79CFpe5ER2iKv3UVX7+f/+xJevrBAdg8gisCyTxfvnh114d9Qn0GlZlMk+aTxdRUcgO7T2k434/KVlomMQCceyTBZtx+q9+GDsZ9Dr9KKjEAmjdnEUHYHs1LovNmPJdA7JIPvGskwW6+Bfx7Bg9KfQ62XRUYiEUjmqREcgO/bLwj/xwzzOkkH2i2WZLNKJnWcwd9hCjlEmIrIA3835BWs+3iA6BpEQLMtkcWIOx2HmI5wejugurt5HlmDxq99j6497RMcgqnIsy2RRLp+9itcfeocr8xH9R2EeF+Ah8Rp3jMD7Yz/H7jUHRUchqlIsy2QxEq8kYXrvechMyRIdhcii5HD1PhJIkiREdozAiZ1nodfp8e4TnyJ6+2nRsYiqDMsyWYTMlCxM7zMfyddTRUchsjiZKdmiI5CdUigVaNA2DCd3njXcVlRQhFmD/g+xxy4KTEZUdViWSbi8nHy80e8dXD1/XXQUIovj6OyInAyeWaaqp3JUISyqLk7vOV/svtysPLze7z1cj7slIBlR1WJZJqG0RVq8PfT/cP5QnOgoRBbJw5er91HVU7s4IrhBDZw7GFvqNumJGZjeZz5SbqZVYTKiqseyTEJ9+PRXOLL5hOgYRBZL4+EiOgLZGVcPFwTUqYbYY5ceuO2tS4mY0fcdZKfnVEEyIjFYlkmYVe+txd8rdoqOQWTRnFzVoiOQHfHwdYOHnzsSTl0t82MunbqCdx7/BHo9V1ol28SyTELsW3cY377xk+gYRBZP5aAUHYHshE+QF9TOaly/cLPcjz28ORpLp/9ohlRE4rEsU5WLP5GA9574BLLMZayJHkSSJNERyA4E1KkGvU6P25eTKryPXxb+ib+/32XCVESWgWWZqlTa7XTMHLAAedn5oqMQWQWtlqv3kXnVrB+EnPQcpN5Mr/S+Pn72a8Qc5gXbZFtYlqnKFBYUYdag95F4JVl0FCKrwWXfyZzqRNZC8vVUk83lXZhfhFmD/48zZJBNYVmmKvPhhC9x7kDp0xARUXG5XL2PzKReVF1cv3ATuZl5Jt1vyo00zB7yfygsKDLpfolEYVmmKvHjO79h68rdomMQWZ2sZC7/TqYX0boe4qMvme2Vi/MH4/Dxs0vMsm+iqsayTGa3Z+1BLH9rlegYRFbH0ckB2Vy9j0ysUfv6OHcwFjqtead6+/u7nVjz8QazHoOoKrAsk1nFHb+EBaM/5cwXRBXg7sPV+8i0IjtG4NTu85D1VfMz+evXfsDRv09WybGIzEWS2WLITLLSsvFc1GuVmoqIyNKlyUm4jAvIRBoKkY/GaItqUnXD/Y06RODMAePZAfSyDhf1p3FTn4AC5EMNZ9RVNkR1RQgAIEV/E+d1R1GkKICvHIgGipZQSHfmWy6SC3FI9zeilF3gLLlW3RMlqxfZMQInd56t8uO6ebni0wPvoHpoQJUfm8gUeGaZzOaDcZ+zKJPN00ELDTwQjmZlfsxJ3V6kyrfRQNka7VX9EKlsB1e4AwBkWcYp3X7UUIRiWJNxyJRTcU2+aHhsnP4kaihCWZSpzCRJQmSHcCFFGQCy0nIwa9AHyM0y7YWERFWFZZnM4tcP/8T+P46IjkFkdr5SIEKlRkZnk+8nWX8DaXIimik7w0cRAGdJA0+FLzwVfgCAIhSgCAWooaiHAM8g+EnVkSNnAgDS5WRkyKmoJdUz2/Mh26JUKRHRph5O7jonNMfls9fw7qhPuSQ2WSWWZTK5cwdj8c2MlaJjEFmkJPk63CVvJOjPYVfR79hbtB4XdMehk7UAAAeo4QhnpMg3UaQvRJqcBDfJA3pZj3O6I2igbAFJ4o9uejAHtQNCmwbjzN4Y0VEAAAfWH8WKWT+LjkFUbirRAci2ZKVlY/5jH0FbxFXHiEqSJ2cjXU6CAko0UXZEIQpwXncERXIBGqraQJIkNFa2xwX9MVw6cAruki+CpLpIkM/BW6oGBZQ4pP0HRShETUU91FLwLDMV56RxQlCIP84fsqzV9H5693c06dIQUd0jRUchKjOeniCT4jhlovu7c0W1hEbKtvBQ+MBPEYQwZTPckC8Zzi57KfzQWtUbo5o8iwhlc+QhBzf0CQhRROK07gBqKELQUtkNF/VnkCWnC3w2ZIk0ni6oVtMH8ccTREcpRpZlfDDuC2SmmmbFQKKqwLJMJsNxykQPpoYT1HCGg+RouM1VunNxXz6ML4DKybjz/jn9EYQpmgIAspAOf6kmHCUneEl+SJMTqyY4WQXPah5w83bD5TPXREcpVfL1VHz09GLRMYjKjGWZTILjlInKxlPhhwLkQSv/byngXDkLgAQnOBttm5majev6i3CAI6opqkP+97y0HncukpL//Y8IAHxreMPBUYkbcbdER3mgPWsPYdO320XHICoTlmWqNI5TJnumlbXIktMNwyHykIMsOR358p2V9/Zc2orT2v2G7QOk2nCAGmd0B5EtZyBNn4hYXTSqS3WhlP53GYnKUYXU1GRc1J9FfUUUAMBBcoQr3HFFvoB0ORmp8m14Sr5V92TJYgXW9Ye2QIvEKymio5TZFy8vx3UrKPZELMtUaRynTPYsE6k4iH9wEP8AAGJxEgfxD+JxBgCQU5iNfPxvyWqV5IDmqq7QohAHtZtxSrcfvoog1FdGGe3X088d5/XHUVtRH07S/844N1S2wm39FUTrdqO2Ihwekk8VPEuyZLUiqiMrJRtptzNERymXvOx8vPfEp9BpeaKFLBtX8KNKWff5Jnz24jeiYxBZrJJW8CuL2g1q4PKZK2ZIRLakbuPauBF3C3nZ+aKjVNjINwZj7NuPio5BVCqeWaYKuxF/C0un/yA6BpFNctY4iY5AFi6sRQiunLtm1UUZAH5673ec3ntedAyiUrEsU4Xo9Xp8MO5z5OcUiI5CZJMcHJWiI5AFa9AmDLFHL6KoQCs6SqXpdXosGP0ZcjJzH7wxkQAsy1Qhaxf9hdN7eCaAyFwkhSQ6AlmoRh3CcfbABeh1trN09K2EJHz6wreiYxCViGWZyu3ahRtY9uZPomMQ2TS91naKEJlO404ROLXrHGS97V1utHXlbmz7aa/oGETFcLlrKhedTof3x36GgrxC0VGIbJro77E0OREJ+hhkyqkoRD6aKNqjmqKG4f7b+mu4JschS05DEQrRRtkLbpJXmfd/S38Fp/T74SdVR1NlB8PtCfrzSNDfedUqWBGOYEW44b4MOQXndEfRStkDCsn+zvVEdozAiR1nRccwq0+eX4pG7eujWi1OiUiWw/5+2lCl/LpwPc4diBUdg8jm5WaJHb+pk3VwgyciFM1Lvh9aeEp+CFU0Lve+8+QcXNBHwxN+RrdnyemI159GY0VbRCraIl5/2jB/tV7W45zuCCKUze2uKCsUEhq1r4+TO227KANATkYu3hvzGfR6vrJClsO+fuJQpVw+exUrZq0WHYPILmSmZAs9vq8iEKHKSKOzyf8VpAhGiKIhfKSAcu1XlvU4pduPEEUjOEuuRvflyJlwgwe8Ff7wUfhDA49/VzcELsvn4Sn52d280kqVEvVbheLUbvu5RuTUrnNY89EG0TGIDFiWqUx0Wh3eH/s5igqKHrwxEVWKykGJrLQc0THM4qL+LBwlJ1RX1C12n0byRA6ykSfnIE/OQS6y4Cp5IFfOxg39JYQqIgUkFsfR2REhjWvj7L4LoqNUue/m/ILEK8miYxABYFmmMlq14HdcOBIvOgaRXfDwdQdscL2oNDkJ1+WLaKBoWeL9GskdoYpIHNPtxDHdToQqGkMjueOc/gjqKZogRb6FfdqNOKDdjDQ5sYrTVy1njROqhwYgxk5/7ubnFOCLyctFxyACwLJMZXDp9BWsnPur6BhEdkPj5frgjayMVi7Cad1BNFC0hKOkLnW7mopQtFc9hPaqh1BTEYob+ktQQgUPyRdn9YfRRNkBYYqmOKnbD71sm8sku3lr4FPdGxdPXBYdRai96w7jwPqjomMQcTYMuj9ZlvHJxCUoKrT+ie+JrIWTa+ll0lrlIRv5yEG0fjfw77VbMu6cPf9H+zPaKR+Ci6QxekyhXICL+jNooeyGDDkFLnCDq3TnTdbLyEEW3OBZxc/EvLwDPOHo5ICr566LjmIRPp+8HM26R0Lt7Cg6CtkxlmW6r7+/28nFR4iqmKPaQXQEk3OBO9oqexvdFqc/DR2KUF/RDE5wLvaYC/rjqKUIg5Pkgkw5FTL+N0PCnX/b1lCVarV8odfqcPOibQ8xKY9blxKxcv5vGD/vMdFRyI5xGAaVKicjB0um/SA6BpH9sYDF+7RyEbLkNGTJaQCAPOQgS05DnnznwsMiuQBZchqy5QwAQI6chSw5DQVynmEfp3UHEKs7CQBQSkpoJE+jNxUcoIQDNJInFJLx8t4p+lvIkbNQU6oHAHCXvJGDLCTrb+KaPh4SJLjAzewfh6pSPTQABTkFSLqWKjqKxfl14Z+4cp5n2kkcnlmmUi1/azXSEzNExyCyO5awjHGmnIaj+u2G9y/oowEAgVIwGilbI0m+gTP6Q4b7T+n3AwDqSg0RomwEAMiXcwGp/M1fJ2txXn8MjZVtIf37eCfJBfUVzXBGfwgKKNBQ0RpKyTZ+hdVuUAPJ11KQnS52bm1LVVSoxacvfIMP/pkpOgrZKUmWbfCSa6q0+BMJmNhimkX80iayZo06RODMgbhyPaZeVDBij140UyKyJKFNg3E15gbycwpER7F40797Ad1HdhQdg+wQh2FQMbIs49MXlrIoEwmSm5n34I3I6oW3DMWl01dZlMto8avfIyeDZ9+p6rEsUzFbVuzAmb0xomMQ2a2sNLGr95H5NWwXhvOH46DlTENllnY7A9++uUp0DLJDLMtkJDs9B0unrxQdg8huKVVK4Utdk3lFdgzHmb0XIOs5CrK81n+1BRc4RImqGMsyGVn+1ipe1EckkIefm02u3kd3RHaMwMmd58DLhSpGr5exaOIS6PUcJkhVh2WZDOKiL+HPr7aIjkFk1zSetrd6H90R2TEcJ3eeFR3D6l04chHrF/8tOgbZEZZlMvjsxW94UR+RYM4aJ9ERyMQUCgkN29XHyZ3nREexGcveXI30pEzRMchOsCwTAGDv74d4UR+RBXBwtI25g+kOlaMKYS1CuBKqiWWn52DVe7+LjkF2gmWZoNPpsOzNn0THICIACqUFLN9HJqF2cURww5o4dyBWdBSb9OdXW5B0LUV0DLIDLMuEv7/bhctnr4mOQUSwjNX7qPJc3J0RWMefi8uYUWF+EVbOWyM6BtkBlmU7V1hQhO/n/Cw6BhH9qzCvSHQEqiQPXzd4+3vi0qkroqPYvE3LduBG/C3RMcjGsSzbuT8+34TEK8miYxDRv/KyuHqfNfMJ9ILaRY2rMTdER7ELOq0OK2bxhA+ZF8uyHcvJzMVP764VHYOI/iMzNUt0BKog/2A/yLKM2wlJoqPYlR2r9+HSaZ7FJ/NhWbZjv3zwBzJT+IuZyFIolAqu3melaoQFIjczDyk30kRHsTt6vYzlb60WHYNsGMuynUpLzMCaj9eLjkFE/+Hh68aV3axQnUY1kXIjDZnJPPkgyr4/juD8oTjRMchGsSzbqZVzf0V+ToHoGET0H25eGtERqJzqRdXB9dhbyM3kWHPRvuUUqGQmLMt26Oal29jwNZcKJbI0zhq16AhUDhGt6+HiicsoyCsUHYUAHN96GtHbT4uOQTaIZdkOrZi1GtoinegYRHQPB7WD6AhURg3b18e5g7H8WWphlnHsMpkBy7KduRF/C9t/2is6BhGVQKHg6n3WILJjBM7siYGs5/hyS3N2/wXs//Oo6BhkY1iW7czPH/zBFcKILJRez+9NSxfZKQInd57lhZgWbPms1fz8kEmxLNuR1Ftp2LJih+gYRFSKwnyu3mepJElCZIdwnNxxVnQUeoCLJy5jx+p9omOQDWFZtiO/fbwBRQX8ZUxkqXK5ep9FUigViGhTDyd3nRMdhcro+7d/5dllMhmWZTuRk5GDP7/aIjoGEd1HdlqO6Ah0Dwe1A+pF1cGZvTGio1A5XI25gUN/HRcdg2wEy7Kd+PPLLZwHlMiCKZQKZHBRC4vi5KpGrfAgnD/IxS6s0W+L/hIdgWwEy7IdKMwvxNpP+EODyJK5+7hB5gV+FkPj6QL/2n6IO54gOgpV0LGtp3Dp9BXRMcgGsCzbgc3LdyD1VrroGER0H25erqIj0L88q7nD3ccNCaevio5ClcSzy2QKLMs2TqfT4deFf4iOQUQP4OzmJDoCAfCt4Q0HtQOux94SHYVMYNuPe5CelCk6Blk5lmUbt+uXA7gRf1t0DCJ6AEe1SnQEuxdYtxq0hTokXk4WHYVMpDC/COsX/y06Blk5lmUbt/r930VHIKIyUCj541ikmuHVkZWagzQOWbM5f365BUWFWtExyIrxp7MNO7b1FOKjE0THIKIy0Os4J6wodRvXQtLVZGSlZouOQmaQeisdO1btFR2DrBjLsg1b/9Vm0RGIqIwKuWCQEGHN6+Lq+RvIy8oXHYXM6DfOCEWVwLJso1JupmHfuiOiYxBRGeVz9b4qF9GmHuKOX+Iy43Yg7ngCTuzkUuVUMSzLNmrj0q3QaXWiYxBRGWWmcQhAVWrUPhznDsRCp+Xc1vZiLaeRowpiWbZBOp0Ofy39R3QMIiojhUJCRhJX76sqkZ0icGr3Och6jhO3J/v/PIKbFzk7FJUfy7INOvTXcSRdTREdg4jKyI2r91WZyI4ROLmDL8fbI71extpPN4qOQVaIZdkGrV+8RXQEIioHd2+u3mdukiShUYdwnOS4Vbu2edkO5GTmio5BVoZl2cbcSkjEkU3RomMQUTk4a7h6nzkpVUpEtA7FqV3nREchwXKz8rB5+Q7RMcjKsCzbmA1f/wM9x+ERWRVHJ0fREWyWo5MDQprUxpl9F0RHIQuxZcVO0RHIyrAs2xBtkRabl20THYOIykmhlERHsEnOGifUCAtEzOF40VHIgsRHJyDhzFXRMciKsCzbkL1rDyHtdoboGERUTnodL+4zNTdvDfxqeCM++rLoKGSB/vlht+gIZEVYlm0IL+wjsk5FhVrREWyKl78HNB4uuHz2uugoZKG2/bQHsswhi1Q2LMs24ual24jefkZ0DCKqAC61bDp+NX2gVCpxI57z6VLpkq6mcGYUKjOWZRuxbeUe0RGIqIKy0rl6nykEhQagMK8ISdc4zzw9GIdiUFmxLNuIrT/ym57IGkmShIzETNExrF7tBjWQkZiJ9ERet0Fls/u3gyjMLxQdg6wAy7INuHA0HlfPc2wekTVy99HwAr9KCmkajFuXEpGdniM6ClmRnIxc7P/zqOgYZAVYlm3AVr6URGS13Lw0oiNYtfotQ5Bw+irycwpERyErtJVDGKkMWJatnE6nw47Ve0XHIKIKcnHn6n0V1aBtGC4cuQgtZxOhCjq86TgyU7JExyALx7Js5U7sOIvUW+miYxBRBTmoHURHsEqRHcNxdt8FDmGhStEW6bDj532iY5CFY1m2cjt5VpnIqilV/DFcXpGdInBy5znOk0smwaEY9CD8KW3FdFod9qw9JDoGEVWCrGfhK4/IjhE4uYPz45LpnN1/ATfib4mOQRaMZdmKHdt6imOtiKxcYUGR6AhWQaGQ0LB9fS4kQWaxdSUvlKfSsSxbsZ2rOc6KyNrlZ3P1vgdROShRv2UoTu8+LzoK2aitP3JII5WOZdlKaYu02LeOQzCIrF1WGucGvh9HZ0fUaVQLZ/dfEB2FbNj12Ju4cPSi6BhkoViWrdTJnWf5S5bIykmShIwkrjhXGhd3ZwSF+LPEUJU4tPG46AhkoViWrdTBDcdERyCiStJ4uUKn5dRnJXH3cYO3vycunbwiOgrZicObokVHIAvFsmylDv7Fskxk7dx9uHpfSXwCveCsccLVmBuio5AdOX8wFpmp2aJjkAViWbZC12Jv4nrsTdExiKiSXNycRUewOP61/SDLMm5dShQdheyMXi/j6JYTomOQBWJZtkKHeFaZyCY4OnH1vv+qERaIvOw8pNxIEx2F7BSHYlBJWJatEIdgENkGrt73P8GNaiL1Zjoykjh3PIlzePMJrgxJxfAntZXJy8nHqV3nRMcgIhPg6n13hDargxtxt5CTkSs6Ctm59MQMxB67JDoGWRiWZStz/J9TKOKKX0Q2oahQKzqCcOGtQnHp5GUU5BaKjkIEADi8iVPIkTGWZSvD8cpEtiMvy75X72vYrj7OH4qDtkgnOgqRwaGN0aIjkIVhWbYynDSdyHbkZNjvNFWRHSNwZm8Mh6KQxeEUcnQvlmUrcvHkZSRdSxEdg4hMJD0xU3QEIRp3isDJnWd5IRVZJE4hR/diWbYiXLWPyHa4ebna3fADSZIQ2TEcJ3acFR2F6L44hRz9F8uyFTn6N//SJbIVbt72tXqfQqlAg7b1cHInZ/Mhy8cp5Oi/WJathLZIi/MHY0XHICITcfWwn9X7VI4q1Iuqg9N7YkRHISoTTiFH/8WybCUuHL2IgjxOrURkKxzVjqIjVAknVzVqN6iB8wfjREchKhdOIUd3sSxbidO7+dIlkS1ROtj+j1+Npwv8a/shjmfoyAod2XJSdASyELb/09pGnN57XnQEIjIhWS86gXl5+LnDw9cNCaevio5CVCEXjsRz4SACwLJsFWRZxpm9HOtHZEuKCm13WJVvdW+onRxx7cIt0VGIKqwwvwixxy6KjkEWgGXZClw5dw2ZKVmiYxCRCeXnFIiOYBYBdapBp9Xj9uUk0VGIKu3cAV5YTyzLVuHUbg7BILI12Wk5oiOYXM36QchJz0HqzTTRUYhM4sw+vqpLLMtW4fReXtxHZGvSk2xr9b66kbWQdC0FmSlcJphsB88sE8CybBVO88wykU3ReLpAa0MXDoU1r4urMTeQl5UvOgqRSSVfT0XilWTRMUgwlmULl3QthWP/iGyMu4+b6AgmE9G6HuKOX0JhfpHoKERmwaEYxLJs4U5xfmUim+PiZhur9zVqH45zB2Oh09r4PHhk185yKIbdY1m2cGf5Fy2RzVG7WP/qfZGdInBq9znIell0FCKzunA0XnQEEoxl2cLFHufKV0S2Rqmy7h+9kR0jcHLHWdExiKrExejL0On46ok9s+6f2DZOlmUknLoiOgYRmZi1no2VJAmNOoTj5E4WZbIf+bkFuHL2mugYJBDLsgW7dSkRuVl5omMQkYlpi3SiI5SbUqVEROtQnNrF6yjI/lw4ypX87BnLsgWLP5EgOgIRmUFetnVNseagdkBI02Cc2XdBdBQiIViW7ZtKdAAq3aWTHIJBZItyMqxn9T4njROq1/VHzKE40VGIhOFFfvaNZdmCxZ9MEB2BiMwgw0pW79N4ucLb3xNx0QmioxAJdfHEZei0OihVStFRSAAOw7BgF09cFh2BiEzM1cPFKhbw8PL3gJuXKy7zwiYiFOYX8XvBjrEsW6jcrDzcupQoOgYRmZi7j0Z0hAfyq+EDpUqFG3G3RUchshgsy/aLZdlCXTp1BbJsndNLEVHpXN1dREe4r6AQfxQVFCHparLoKEQW5XrcLdERSBCWZQt1kTNhENkkR2cH0RFKVSuiOjKTs5F2O0N0FCKLcz32pugIJAjLsoWK53hlIpukcrDMC4RCmtRG4uVkZKVli45CZJFuxHNYkr1iWbZQl06xLBPZIkscXlW/RQgun71mdfM/E1Ulnlm2XyzLFurq+euiIxCRGWgLtaIjGGnQNgwXjl5EUYFl5SKyNBnJWcjJyBUdgwRgWbZA2ek5yEqznkULiKjs8nMKREcwiOwQjrP7LkCv04uOQmQVrvHssl1iWbZAnDKOyHZZypmpyI4ROLnrnEUOCyGyVDc4I4ZdYlm2QDdZlolsVroFrN4X2TECJ3eeFR2DyOpw+jj7xLJsgXhmmcg2ubg5ozCvUNjxFQoJjdrXZ1EmqiBe5GefWJYt0K1LnJ6GyBa5+7oJO7bKQYn6LUNwavd5YRmIrB2nj7NPKtEBqDgOwyCyTa7uzkKO6+jsiNoRNXB2f6yQ4xPZCp5Ztk88s2yBOAyDyDapXRyr/Jgubs6oHuKPC0fiq/zYRLaG08fZJ5ZlCyPLMm4nsCwT2aKqXr3PzVsD70BPXDx5pUqPS2TLOH2c/WFZtjCpt9JRmF8kOgYRmYGsr7pp2rwDPeHq7oyr529U2TGJ7AGnj7M/LMsWhkMwiGyXVqurkuNUq+ULCRJuXuTPEyJT4/Rx9odl2cLcvMgrbYlsVVWs3le9XiAKcgqQfD3V7Mciskf8PW1/WJYtzO3LSaIjEJGZ5GaYdxn74IY1kX473SIWPiGyVZnJWaIjUBXj1HEWJv12hugIRGQmGWb8JRvaLBhXzl1HQa64RU+I7EFmarboCFTFeGbZwmSk8IwQkS1y1jiZbRhGeKtQXDp1lUWZqApkpvDMsr1hWbYw5jzzRETimGv1vobt6uP8oThoC7Vm2T8RGctM4Zlle8OybGE4ForINmk8XEy+z8iOETizN6ZKp6QjsnfZadnQ6/WiY1AVYlm2MBnJHIZBZIvUzqZdva9xxwic3HkWssyiTFSV9HoZ2elcxc+esCxbGJ5ZJrJNplq9T5IkRHYMx4mdZ02yPyIqP45bti8syxYkP7cABXm8QIeISqZQKtCgbRhO7jwnOgqRXWNZti+cOs6CZHIIBpHN0hZV7gI8laMKoU2CcXrPeRMlIqKKyuJFfnaFZdmCcCYMIttVkFvxaePULo6oGRaEcwdjTZiIiCqKZ5btC8uyBWFZJrJd2RkVuyDI1cMFvjW8EXvskokTEVFFcWES+8KybEE4DIPIdlXk4l0PXze4eroi4dRVMyQioorimWX7wrJsQXhmmcg2OWnUyMvKK9djfIK8oFQqcf3CTTOlIqKK4sIk9oWzYViQnAq+TEtEls3Dp3yr9wXUqQa9To/bl5PMlIiIKoNnlu0Ly7IFKSooEh2BiMzAtRyr99WsH4Sc9Byk3kw3XyAiqhSOWbYvLMsWhGWZyDapXdRl2q5OZC0kX0/lS7xEFo5nlu0Ly7IFKSqs3DysRGSZyrJ6X72ourh+4SZyM8s3tpmIql5+dr7oCFSFeIGfBSkqYFkmskcRresh5nAcdFq96ChEVAZ6vSw6AlUhnlm2IEWFHIZBZIt0RbpS72vUvj7OHYxlUSayJjLLsj1hWbYgWg7DILJJ+aWs3hfZMQKndp+HzLNURFaFZ5btC8uyBeEFfkS2KTez+LSQkR0jcHLnWQFpiKiy+AeufeGYZQvCMctEtinjP6tzSpKERu3rsygTWTGZwzDsCsuyBSnkmWUimyMpJORl3blyXqlSon7LEJzcdU5wKiKqDA7DsC8syxaEY5aJbI8kSQAAB7UD6kbWwpm9MYITEVFlyXpekGtPWJYtCMcsE9keCYCTxglBIf44fyhOdBwiMgGOWbYvvMDPgvDMMpHtkSGjWk0fxB9PEB2FiEyEY5btC8uyJfn35Voish2FeUW4fOaa6BhEZEIcs2xfWJYtiIMjR8UQ2Zr0pAzREYjIxDgMw76wLFsQB7WD6AhEZGKJV5KhVClFxyAiE+IwDPvCsmxBVDyzTGRz9Do9/Gr6iI5BRCbEM8v2hWXZgjioWZaJbJGHr5voCERkQnpOHWdXWJYtCMcsE9kmR2dH0RGIyJR4YtmusJ1ZEI5Zrph4+QwuwXhFNBe4oZ3UG0VyIeJxBqm4jXzkwgFqVEN1hKAhVFLZPt7n5GO4josIQxPUkuoBAPSyDmdxFEm4ATWcUB/N4CP5Gx6TIMcgH7kIl5qZ7omS1ZK1PAtFZEs4Ztm+sCxbEI5ZrjhXuCMKnQzvS7gzDV8B8lCAfNRDY7jCHfnIxXkcQwHy0BhtH7jfRPk6MpACNZyMbr+GS8hCGlqiK1JwC6dxCJ3k/pAkCXlyDm7gElqhu2mfJFmt7Ixs0RGIyIScXNWiI1AV4jAMC+LgwLJcURIkqCUnw5ujdOcHmUbyQBOpLfykILhIGnhL1RCCRkjCTejl+5/ty5fzEINoNEIrSPd8q+QiE74IgkbyQA2EoggFKEIhAOA8jiEUkWU+c022L/laqugIRGRCrh4uoiNQFWI7syAchlFxucjGLnk9lFDCA94IRSScpJJ/mGlRBBVUUEil/60oyzLO4BBqIwwayaPY+DQNPHETl6GTdUjBLTjCCQ5wxE35ChRQoppU3ZRPj6xcdnoO3H09kJmSJToKEZmAq6er6AhUhViWLQiHYVSMB7zREC3hAg0KkY+LOIsj2IE2cs9iZ3cL5QJcwjlUR9377jMBMZAgoSZCS7w/CMHIRgb2YzMcoUZjtIEWRbiIM2iOzoiTT+M2rsIZGjRACzhJziZ7vmSdfIK8WJaJbITGk2eW7QnbmQXh1HEV4ysFGr3vLntjD/7CbVxDddQx3K6VixCNPXCFG+qiQan7y5TTcBWxaI0ekEpZglwhKRCOZgD+dwHfGfkwaiIUWUhHEm6gDXoiATGIQTSalGF8NNk2V3f+wURkK1zdWZbtCduZBXF04vRSpuAgOcJVdkMe/ndRlVYuwnHshgoOaIx29x2CkY5kFKIAe/CXYfiFDBkXcAJX5Fh0kB4q9phUORE5yEQDtEAsTsIXAVBKKvjLNXANO03+HMn6KJS8RITIVmg4DMOusCxbEF4wYBpaWYtcZCMAtf59/05RlqBAE7SDUrr/0sMBqAVvVDO67Th2IwC1EYTgYtvrZB1icBwN0QqSJEGWZcj/tmwZ//s32bf8nHzREYjIRFw5DMOusCxbEI0X/1KtiAvyCfghCE5wQQHycBFnIUFCAGpBKxfhGHZDDx0aoxW00EIrawEAjlAbhlnskzcjFI1QTaoOR0kNRxhPCyTJCqjhBFep+Epsl3AOPgiAu+QFAPCED2JxCkFyMK4iDh7gUscEpCdmiI5ARCbCk1v2xeSvC+7YsQOSJCE9PR0AsHz5cnh6epr6MCZlKRndvTWiI1ilAuThFA5iHzbjFA7CAY5oiW5wlNTIRBoykYpsZGAfNmE31hve8pFr2EcusqBFUbmPnS1n4DauIQQNDbdVQw34IgBHsAPZyEB9NDXF0yQrl3QtlRfxEtkIDsOwLxX6yb1//3506NABffr0wYYNGyodQpIkrF27FgMHDqz0vqyZxotluSIipTal3uctVUMPDH3gPnpI99+mpHHKwJ15nNujj9FtkiQhHFEIR9QDj0v2Q9br4VfTBzfjb4uOQkSVpOGZZbtSoTPL33zzDV588UXs2rULN27cMHUmu+XGM8tENs3Dp/gwHiKyPhyGYV/KXZazs7OxevVqPPfcc+jXrx+WL19uhljGli5dioiICDg5OSE8PBxffPGF4b527dph2rRpRtsnJSXBwcEBu3btAgAUFBRg6tSpqF69OlxdXdG6dWvs2LGj1OOdOHECXbt2hZubG9zd3dG8eXMcOXLELM/tv1iWiWyboxMXHiKyBVyUxL6Uuyz//PPPCA8PR/369TFq1Ch8++23kGXzXe2/cuVKzJw5E/Pnz8e5c+fwzjvv4K233sKKFSsAACNHjsSqVauMMqxevRpBQUHo2LEjAOCFF17A/v37sWrVKpw8eRLDhg1Dnz59EBsbW+IxR44ciRo1auDw4cM4evQopk+fDgcH8/+Sc/fWlDqvLxFZP61WKzoCEZkAFyWxL+Uuy9988w1GjRoFAOjTpw8yMjKwc6f55pGdNWsWFi5ciMGDB6NOnToYPHgwXn75ZSxevBgAMHz4cNy4cQN79uwxPObHH3/EiBEjIEkSrly5gmXLluGXX35Bx44dERISgqlTp6JDhw5YtmxZice8cuUKevTogfDwcNSrVw/Dhg1DkyZNzPYc71KqlJwRg8iGZafmiI5ARCbAYRj2pVxlOSYmBocOHcKIESMAACqVCo8++ii++eYbs4TLyclBfHw8nnzySWg0GsPbvHnzEB8fDwDw8/NDr169sHLlSgDApUuXsH//fowcORIAcOrUKeh0OoSFhRntY+fOnYZ93GvKlCmYMGECevTogffee6/U7czBs5pHlR2LiKpW0rVk0RGIyAQ4G4Z9KddsGN988w20Wi2CgoIMt8myDLVajc8++wweHqYtetnZd1ZgW7JkCVq3bm10n1L5v4UlRo4ciUmTJuHTTz/Fjz/+iMjISERGRhr2oVQqcfToUaPHAIBGU/IY4dmzZ+Pxxx/Hhg0bsHHjRsyaNQurVq3CoEGDTPn0SuRZzR1Xz183+3GIqOrlZeXD098T6YmZoqMQUQVJkgQXLl9vV8p8Zlmr1eK7777DwoULER0dbXg7ceIEgoKC8NNPP5k8nL+/P4KCgnDx4kWEhoYavdWpU8ew3YABA5Cfn49Nmzbhxx9/NJxVBoBmzZpBp9MhMTGx2D4CAgJKPXZYWBhefvllbNmyBYMHDy51yIap8cwykW3zCfQSHYGIKkHj5QqFgsvX25Myn1lev3490tLS8OSTTxY7gzxkyBB88803ePbZZysc5NKlS4iOjja6rV69epgzZw4mTZoEDw8P9OnTBwUFBThy5AjS0tIwZcoUAICrqysGDhyIt956C+fOnTMMEwHulN6RI0di9OjRWLhwIZo1a4akpCRs3boVjRs3Rr9+/YyOmZeXh1dffRVDhw5FnTp1cO3aNRw+fBhDhgyp8HMrD08/lmUiW+bixjNSRNYsINhPdASqYmUuy9988w169OhR4lCLIUOG4P3338fJkycrHORu8f2v3bt3Y8KECXBxccEHH3yAV199Fa6uroiMjMTkyZONth05ciQeeughdOrUCbVq1TK6b9myZZg3bx5eeeUVXL9+Hb6+vmjTpg369+9f7JhKpRIpKSkYPXo0bt++DV9fXwwePBhz5syp8HMrD58gnnUismmc8IbIqgUEVxMdgaqYJJtz3jcqt60rd+O9Jz4RHYOIzKRe87qIPZYgOgYRVdDwqQ/jqQWjRMegKsRBNxYmoA7/YiWyZWm300VHIKJK4Jll+8OybGFYlolsW8r1NKidHUXHIKIK4u9p+8OybGG8Azy5JC6RDZNlGb41fETHIKIKYlm2PyzLFkaSJPjzJR4im+bhU/Ic70Rk2e78juZsGPaGZdkC8a9WItumcizXelBEZCG8Az3hqOarv/aGZdkCBbIsE9k0bWGR6AhEVAGBdf1FRyABWJYtUEAdfjMS2bKstGzREYioArggiX1iWbZAHIZBZNsSryRDkrg6CZG14e9n+8SybIE4DIPIthXkFsIrgEvbE1kbzrFsn1iWLRD/ciWyfd4BXNqeyNrw97N9Ylm2QBpPV2g8XUXHICIzctaoRUcgonLiK7/2iWXZQtVqUEN0BCIyJ1kWnYCIykHloIRvDW/RMUgAlmULVTeylugIRGRGeTn5oiMQUTlUq+0HhYK1yR7xs26h6jYJFh2BiMwo9Ua66AhEVA51GtYUHYEEYVm2UHUb1xYdgYjMKPV2Opw1TqJjEFEZ1WteR3QEEoRl2ULVbVyL87AS2TJZ5vhHIitSL6qu6AgkiEp0ACqZs8YZAXWq4ebF26KjEJGZuHlx1htrd02OwzU5HnnIAQBo4IE6UgP4SoFG28myjGh5N1JwC42l9qgmVS91n2f0h3ATCUa3+SAAzRSdAAB6WYez8hEk4TrUcEJ9qTl8pP+t/Jogn0e+nItwRZSJniUBQL3mLMv2imXZgtVtUptlmciGqRz4I9jaqeGCUKkxXKCBDOCmnIAT8l60Rk9opP8tPHMFF8q1Xx8EoIHU0vC+AkrDv6/hIrKQhpZSd6TgJk7LB9AJj0CSJOTJ2bghX0QrqWelnxv9j291b3hV40JC9orDMCxYSONg0RGIyIyKCotER6BK8pOC4CsFwkVyg6vkhlBFJJRQIQMphm2y5DRckS8Yld8HUUABteRseHOQHA335cqZ8EUQNJIHaiAURShAEQoAAOflYwiVGkMlOZjuSRKHYNg5ntawYHUac/o4IluWmZwlOgKZkCzrcRvXoIMWHvABAOhkLU7LB1FfioJacgbKOL12GpKwU78ODnCEF6ohRGoER+nOQjYayRM35cvQyVqk4DYc4QQHqHFTvgwFFKgmcZ5+U+PFffaNZdmChXD6OCKblnQ1GQqFBL2eC5RYs2w5HYflbdBDByVUaCK1NwzBuCBHwwM+9x2jfC8fKQDVUB3OcEUuchAvn0K0vBst0Q2SpEAQ6iAb6dgvb4YjHNFYagstCnFRPo3mUlfE6U/hNq7CGa5oILWEk+RirqduN8J4ZtmusSxbsIA61eDi5ozcrDzRUYjIDArzi+Bb0xfJ11JFR6FKcIEbWks9oUUREuVrOCMfQnN0QR6ykYpEtC7n+OEA6X+vKmrgCQ08sE/+C2lIgjf8oZAUCJeaGz3mjP4Qakr1kIU0JOE62ki9kCCfR4x8HE2k9iZ5nvaMF/fZN5ZlCyZJEoIja+HsvhjRUYjITLyqebAsWzmFpIQL3AAA7pI3MvWpuCrHQgEl8pCNnfLvRsMvTsr74Cn7ooWia5n27yJp4CCrkYtseMO/2P2pciJykIkGaIFY+SR8EQilpII/auKaHGeKp2jXfIK84B3gKToGCcSybOHqNavDskxkw5xcuTCJrZEB6KFHXakhqsP4jOQBeTPCpCbwQ1CZ95cv56IIBVCj+NeKTtYhRj6GhlJrSJICsixD/reZy9Ab/k0Vx4v7iLNhWLiG7cNFRyAic5L1ohNQJcTpTyJNTkKenINsOf3O+0hEgFQLaskZGsnD6A0AnOAKZ0lj2Mc+/UYkytcAAFq5CLH6E8iQU5An5yBVvo0T8l64QAMfBBQ7/iX5LHwQAHfJCwDgKfkiCdeRJafjqhwHD/hWwUfBtoXx4j67xzPLFi6yI8sykS3LzeQ1CdasEAU4Ix9EAfKhggPc4IFmUif4SMWLbWlykQUt7kwjKEFCFtJxQ06AFkVQwwk+CEBdqREUktLocdlyBm7jKtpIvQy3VUMNpCERR+TtcIUbGkmtTfNE7VhoM55ZtneSLMt8jcbCPVF3Im4lJImOQURm4OnnjvTkbNExiKgUP139Er5BXJrennEYhhVo2IFnl4lsVXpSJlzcnUXHIKISeAd4sigTy7I1aNQ+QnQEIjIjvxo+oiMQUQl4cR8BLMtWgeOWiWybxpOLRhBZoog2oaIjkAVgWbYCtSJqwN3HTXQMIjIThUr54I2IqMpF9WgsOgJZAJZlKyBJEhq0CxMdg4jMpCi/UHQEIrqHxtMVYS1CRMcgC8CybCUiO3DcMpGtykjOFB2BiO7RtGtDKJWsScSybDUacUYMIpuVdCUZCv5SJrIoHIJBd/Gns5Wo17wu1M6OomMQkRloi3Twq8HpqYgsSYteLMt0B8uylXBwdEB463qiYxCRmXj4uYuOQET/Cqzrj8C6/qJjkIVgWbYiLXo1ER2BiMzEyVktOgIR/SuqR6ToCGRBWJatSKuHokRHICIz0ev1oiMQ0b+a9+QQDPoflmUrUrdxba70RWSjcjJyREcgIgAKpQLNujUSHYMsCMuylWnVt5noCERkBsnXU0VHICIAYS3qQuPpKjoGWRCWZSvDoRhEtikrNRsaL/6CJhKtOaeMo3uwLFuZZj0i4aB2EB2DiMzAtzqnjyMSjeOV6V4sy1bG2dUJkZ24mh+RLXL1cBEdgciuOWucENGG07SSMZZlK9S6L4diENkiLq1LJFaTzg2gclCJjkEWhj+ZrVCrfizLRLaoIK9AdAQiuxbFIRhUApZlK1SjXiCCQgNExyAiE0tPzBAdgciutezNxb+oOJZlK9Was2IQ2ZykqylQOShFxyCyS3Uia6FGWJDoGGSBWJatVGsOxSCyOXqdHr5ceIhIiE5D24iOQBaKZdlKNenSEG7eGtExiMjEPHzdREcgskudh7UVHYEsFMuylVI5qNBpCP8KJrI1amdH0RGI7E6dyFqoWZ9DMKhkLMtWrOuIDqIjEJGJ6bQ60RGI7A6HYND9sCxbschOEfAJ8hIdg4hMKDs9R3QEIrvDskz3w7JsxRQKBboMbyc6BhGZUMq1FNERiOxKcKOaqBVeXXQMsmAsy1aOQzGIbEt2Ri7cfXiRH1FV4YV99CAsy1aufstQLlBCZGN8q3N4FVFV6f44TzrR/bEs24Cuj7YXHYGITMjF3UV0BCK70KBtGALr+ouOYVJdunTB5MmTRcewaJIk4ffffy/z9izLNqDrCJZlIlsiSaITENmHblV0Vnns2LGQJMnw5uPjgz59+uDkyZMmP9Zvv/2GuXPnmny/pjJ27FgMHDhQdIxyYVm2AbUb1ETdxrVFxyAiEynILRAdgcjmqRyU6DK86sYr9+nTBzdv3sTNmzexdetWqFQq9O/f3+TH8fb2hpub+OseCgsLRUcwGZZlG9H1MZ5dJrIV6YkZoiMQ2bwWvZrAw9e9yo6nVqsREBCAgIAANG3aFNOnT8fVq1eRlJRk2Obq1asYPnw4PD094e3tjQEDBiAhIcFwv1arxaRJk+Dp6QkfHx9MmzYNY8aMMTpTe+8wjODgYLzzzjsYP3483NzcUKtWLXz99deG+xMSEiBJEn777Td07doVLi4uaNKkCfbv32+Uf8+ePejYsSOcnZ1Rs2ZNTJo0CTk5OUbHmTt3LkaPHg13d3c8/fTTFfo4nT59Gn379oVGo4G/vz+eeOIJJCcnAwC+/vprBAUFQa/XGz1mwIABGD9+vOH9devWISoqCk5OTqhbty7mzJkDrVZboTwAy7LN6PJYe0h87ZbIJiRdS4WD2kF0DCKbVlVDMEqSnZ2NH374AaGhofDx8QEAFBUVoXfv3nBzc8Pu3buxd+9eaDQa9OnTx3CWdsGCBVi5ciWWLVuGvXv3IjMzs0xjbxcuXIgWLVrg+PHjmDhxIp577jnExMQYbfPGG29g6tSpiI6ORlhYGEaMGGEomPHx8ejTpw+GDBmCkydPYvXq1dizZw9eeOEFo3383//9H5o0aYLjx4/jrbfeKvfHJT09Hd26dUOzZs1w5MgRbNq0Cbdv38bw4cMBAMOGDUNKSgq2b99ueExqaio2bdqEkSNHAgB2796N0aNH46WXXsLZs2exePFiLF++HPPnzy93nrtYlm1EQHA1NO3WSHQMIjIBWa+HXw1v0TGIbJaLmzPaDWhZpcdcv349NBoNNBoN3Nzc8Mcff2D16tVQKO5UsdWrV0Ov12Pp0qWIjIxEREQEli1bhitXrmDHjh0AgE8//RQzZszAoEGDEB4ejs8++wyenp4PPPZDDz2EiRMnIjQ0FNOmTYOvr69R4QSAqVOnol+/fggLC8OcOXNw+fJlxMXFAQDeffddjBw5EpMnT0a9evXQrl07fPLJJ/juu++Qn59v2Ee3bt3wyiuvICQkBCEhIeX+GH322Wdo1qwZ3nnnHYSHh6NZs2b49ttvsX37dly4cAFeXl7o27cvfvzxR8Njfv31V/j6+qJr164AgDlz5mD69OkYM2YM6tati549e2Lu3LlYvHhxufPcxbJsQ/o/01N0BCIyEQ9f8WMOiWxVp2FtoHZ2rNJjdu3aFdHR0YiOjsahQ4fQu3dv9O3bF5cvXwYAnDhxAnFxcXBzczOUam9vb+Tn5yM+Ph4ZGRm4ffs2WrVqZdinUqlE8+bNH3jsxo0bG/4tSRICAgKQmJhY6jaBgYEAYNjmxIkTWL58uSGXRqNB7969odfrcenSJcPjWrRoUYGPzP+cOHEC27dvNzpOeHg4gDtntwFg5MiRWLNmDQoK7lzbsXLlSjz22GOGPzpOnDiBt99+22gfTz31FG7evInc3NwK5VJV6lmRRWk3oCW8AzyReitddBQiqiQOwyAynwHP96nyY7q6uiI0NNTw/tKlS+Hh4YElS5Zg3rx5yM7ORvPmzbFy5cpij/Xz86vUsR0cjH+eSJJUbNzvf7e5O6zz7jbZ2dl45plnMGnSpGL7rlWrluHfrq6ulcqZnZ2Nhx9+GAsWLCh2390C//DDD0OWZWzYsAEtW7bE7t278dFHHxntY86cORg8eHCxfTg5OVUoF8uyDVE5qNB7XFf89O5a0VGIqJK0RRW/GIWIStewfX2ENg0WHQOSJEGhUCAvLw8AEBUVhdWrV6NatWpwdy/5wkN/f38cPnwYnTp1AgDodDocO3YMTZs2NWvWqKgonD171qjsm+s4a9asQXBwMFSqkiuqk5MTBg8ejJUrVyIuLg7169dHVFSU0T5iYmJMmpXDMGxMv6d7QqHghX5E1i47PefBGxFRuQ2Y2FvIcQsKCnDr1i3cunUL586dw4svvmg4kwrcGV7g6+uLAQMGYPfu3bh06RJ27NiBSZMm4dq1awCAF198Ee+++y7WrVuHmJgYvPTSS0hLSzP7Bf7Tpk3Dvn378MILLyA6OhqxsbFYt25dsQv8yiojI8MwJOXu29WrV/H8888jNTUVI0aMwOHDhxEfH4/Nmzdj3Lhx0Ol0hsePHDkSGzZswLfffmu4sO+umTNn4rvvvsOcOXNw5swZnDt3DqtWrcKbb75Z4efPsmxj/Gv7oUWfpqJjEFElJV1NFh2ByOZ4B3qh45DWQo69adMmBAYGIjAwEK1bt8bhw4fxyy+/oEuXLgAAFxcX7Nq1C7Vq1cLgwYMRERGBJ598Evn5+YYzzdOmTcOIESMwevRotG3b1jB2uKLDC8qqcePG2LlzJy5cuICOHTuiWbNmmDlzJoKCgiq0vx07dqBZs2ZGb3PmzEFQUBD27t0LnU6HXr16ITIyEpMnT4anp6dhTDJw50JCb29vxMTE4PHHHzfad+/evbF+/Xps2bIFLVu2RJs2bfDRRx+hdu2Kr0chybIsV/jRZJH2/3kEMwcUH+9DRNbF09+Lcy4TmdDoWUPxxMxhomOYjF6vR0REBIYPH27Rq/ZZO55ZtkGt+0WhWi1f0TGIqJJ8grxERyCyGSoHJfo9bd2zRl2+fBlLlizBhQsXcOrUKTz33HO4dOlSsbOrZFosyzZIoVCg75PdRccgokpy0Zj3pVUie9JxSBt4B3iKjlEpCoUCy5cvR8uWLdG+fXucOnUK//zzDyIiIkRHs2kchmGjUm6mYWTt56DT6h68MRFZpMhODXBq93nRMYhswse730bDdvVFxyArxDPLNson0AttH6nc5OBEJFZ+Tv6DNyKiB6oXVYdFmSqMZdmGPfycmOlxiMg00rjAEJFJPCJoujiyDSzLNiyqeyTqRdURHYOIKij5RlqVL8lLZGvcfdzQbUR70THIirEs27jhrw4QHYGIKkqW4VfTR3QKIqvWZ3xXODrxj06qOJZlG9dxaBsEhQaIjkFEFeTmrREdgchqKZQKPPJcL9ExyMqxLNs4pVKJYa88IjoGEVWQg6NKdAQiq9WmXxT8a/uJjkFWjmXZDvQa28Xq55YkslfaIq3oCERWa+CLfUVHIBvAsmwHHNUOGDTpIdExiKgCMlOyREcgskoN2oahWbdGomOQDWBZthMPP9cLLu7OomMQUTklXU2GJEmiYxBZndGzhomOQDaCZdlOuHq4ov8zvMiByNoU5BbCO9BTdAwiq9KoQzia92wsOgbZCJZlOzLk5X5wUDuIjkFE5eTl7yE6ApFV4VllMiWWZTviHeCFXqM7i45BROXkrHESHYHIajTu3IBjlcmkWJbtzLBXH4FCwfGPRNZElkUnILIePKtMpsaybGeqhwai64gOomMQUTnkZ+eJjkBkFZp2a4QmnRuIjkE2hmXZDo2ePRxKlVJ0DCIqo5SbaaIjEFmFMTyrTGbAsmyHgkIC0GdcV9ExiKiM0m6lc9wy0QNEdY9Eow7homOQDWJZtlMj3xrKmTGIrIhfDR/REYgs2pg5w0VHIBvFsmyn/Gr44OFnOe8ykbXQeLmKjkBksVr0aoIGbcNExyAbxbJsx0a8Pogv7RJZCZUDrzMgKg3PKpM5sSzbMU8/Dwyd8rDoGERUBkWFRaIjEFmkVn2bIbxVqOgYZMNYlu3csKkPc3UwIiuQmZwpOgKRRRo9mzNgkHmxLNs5Z40znpjJHzREli7xSjIXFCK6R7tHWqB+ixDRMcjGsSwTHnqqB2qEBYqOQUT3UVSghU91b9ExiCyGg9oBz/zfE6JjkB1gWSYoVUqMn/+46BhE9ACe1ThkiuiuYa/0R1BIgOgYZAdYlgkA0HFIGzRsX190DCK6DycXR9ERiCxCtVq+GDFjkOgYZCdYlsngxc8mQKHklwSRpZJlWXQEIovwzAdPwMlFLToG2Qk2IzIIaRKMR57rLToGEZUiNzNXdAQi4aK6R6LT0DaiY5AdYVkmI2PnPspxkUQWKuV6qugIREKpHJSYuGis6BhkZ1iWyYirhyueWjBKdAwiKkFGchZc3J1FxyASZuCLfVE7ooboGGRnWJapmJ6jO/NiPyIL5VfDR3QEIiG8A73wxMyhomOQHWJZpmIkSeLFfkQWSuPpIjoCkRBPvTcSLm58ZYWqHtsQlYgX+xFZJqVKKToCUZWL7BiOHqM6io5BdoplmUrFi/2ILE9hfqHoCERVSqFU4PlF40THIDvGskyl4sV+RJYnIylDdASiKtX/mZ4IaRIsOgbZMZZlui9e7EdkWZKupvB6ArIbnn7uGPv2cNExyM7xJy7dlyRJeOnLp+HgqBIdhYgAaIt08K3hLToGUZUYP38E3Lw0omOQnWNZpgeq06gWRs0cJjoGEf3L04/XEpDti+oeiT7ju4qOQcSyTGXz6LQBqN8yRHQMIgLg5OIoOgKRWWk8XTH12+cgSZLoKEQsy1Q2SqUSry5/AQ5qB9FRiOyeTqcTHYHIrJ5fNI4L8JDFYFmmMqsdUQNj5jwqOgaR3cvJyBUdgchsOg5pzTmVyaKwLFO5DJv6MBq0DRMdg8iupVxPFR2ByCy8Azzx0hcTRMcgMsKyTOWiUCjw6rLnoXbmmEkiUbJSs+HmzRkCyPZM+foZePi6i45BZIRlmcqtRlgQxs0bIToGkV3zCfISHYHIpPo+2Q2t+0WJjkFUDMsyVciglx5CZMcI0TGI7JbGw0V0BCKTCazrj+c+HCM6BlGJWJapQhQKBaZ+OxFOLmrRUYjskkLBKbXINigUEl5bNhHOGifRUYhKxLJMFRYUEoAJC0aJjkFkl/LzCkVHIDKJoa88jEYdwkXHICoVyzJVyoDn+6DdgJaiYxDZnYykDNERiCqtTmQtjH2bU5KSZWNZpkqb+u1EBAT7iY5BZFeSrqZA5aAUHYOowhwcVZi24nk4OKpERyG6L5ZlqjQ3Lw3eWPUyf3ETVSG9Tg9frnBGVmz07GEIaRIsOgbRA7Esk0mEt6qHCe9x/DJRVfL043y0ZJ0adQjH8FcfER2DqExYlslkhrzcn+OXiaqQo5OD6AhE5eYd6IU3V02GQsEKQtaBX6lkUhy/TFR1dFqd6AhE5aJyUGLmzy/DJ5CL6pD1YFkmk+L4ZaKqk5OeIzoCUblM/GgsGrarLzoGUbmwLJPJcfwyUdVIvpYiOgJRmfUe2wUPP9dLdAyicmNZJrPg+GUi88vOyIWHr5voGEQPFNaiLiZ9MUF0DKIKYVkms+H4ZSLz8wnyFh2B6L48/dwx69dX4KjmBalknViWyWzcvDSYvfY1OLmqRUchslku7k6iIxCVSqlS4s1Vk1Gtpq/oKEQVxrJMZhXSJBjTv58ESZJERyGySfzeIkv21IKRaNKloegYRJXCskxm135gK4ybN0J0DCKbVJBbIDoCUYm6PtYeQyb3Ex2DqNJYlqlKjJgxCD2e6CQ6BpHNSbudIToCUTF1m9TGlCXPiI5BZBKSLMuy6BBkHwoLivBqt9k4u/+C6ChENkOSJKjUjigqKBIdhQgA4OatwecH30FgXX/RUYhMgmeWqco4qh0w+7dXUa0WL/QgMhVZluFX00d0DCIAgEIhYcYPL7Iok01hWaYq5eXvibfXTeMMGUQm5O6jER2BCAAwbt5jaNm7qegYRCbFskxVjjNkEJkW568lS/Dwc73w2LSBomMQmRzLMgnBGTKITEer1YqOQHau09A2eOGTcaJjEJkFyzIJM2LGIPQc3Vl0DCKrl52aIzoC2bFm3Rth+vcvQqFgpSDbxK9sEuqVpc+hdb8o0TGIrFrS1WTREchO1WteF7PXTIWDo0p0FCKzYVkmoZQqJd76eQoiO0aIjkJktfKy8+Hl7yE6BtmZ6vUCMX/9dLi4OYuOQmRWLMsknNpZjbl/TENI02DRUYislk+gl+gIZEe8A73w3qbX4VWNf6SR7WNZJovg6uGKdze+gaDQANFRiKySs8ZJdASyE64eLnj3rxkICK4mOgpRlWBZJovh5e+JBVvegk8Qz5AREVkiRycHzF33Guo2ri06ClGVYVkmixIQXA3vbX4Lbt5cZIGoPPJz80VHIBunUCrwxo8v8RoTsjssy2RxghvWxLz1M7jKH1E5pN5MEx2BbNzkL59CuwEtRccgqnIsy2SRGrQJw6w1r3I6IqIySrmZDrWLo+gYZKPGz38MfZ/sJjoGkRAsy2SxWvRqgmnfT4JCwWWxiR5IluFX00d0CrJBgyb1xYjpg0THIBKGZZksWudhbTHtuxehUPJLlehB3Lw41p9M6+Fne+K5D8eIjkEkFBsIWbxuj3fE6z9OhlKlFB2FyKJx2BKZ0rBXHsakzydAkvjqHtk3lmWyCp2HtcVbP09hGSC6j6IiregIZCNGvTUET78/SnQMIovAskxWo/3AVpi1Zioc1A6ioxBZpKzkLNERyAZMeO9xjJk9XHQMIoshybIsiw5BVB5HtpzA7EHvoyCvUHQUIouidnZEYYEO/LFOFSFJEiYuGouBz/cRHYXIovDMMlmdFr2aYO6f0+HkwnmYif6rIK8Q3oGeomOQFVIoJEz5+hkWZaISsCyTVWrWLRLvbHwDzhon0VGILIqXv6foCGRllColpn//IvqM7yo6CpFFYlkmqxXZMQLvbX4TLu7OoqMQWQxnDV9xobJzcFThrdUvo+tj7UVHIbJYLMtk1Rq0rY/3/54JN2/OL0sEAOBwZSojtbMj5vz+KtoP5BLWRPfDskxWr37LUHy8Zx4Cgv1ERyESLjcrV3QEsgLOGifM3zADLXs3FR2FyOKxLJNNqBVeHYv2zUe95nVFRyESKuVmmugIZOE0nq54b/MbaNK5gegoRFaBU8eRTcnLycfc4R/i8MbjoqMQCePs7oK8rHzRMcgCeVbzwLt/zUBoszqioxBZDZ5ZJpvi7OqEueumoe+T3UVHIRLGt7qP6AhkgWo3qIFP989jUSYqJ5ZlsjlKlRJTljyLMXMeFR2FSAg3L1fREcjCRHWPxKI9cxEQXE10FCKrw7JMNmvUW0Px6rLnoXJQio5CVKX4NU//9dCE7njnrxlw9XARHYXIKrEsk03rNaYL5q2fwbmYya4UFhSJjkAWQJIkPLVgJF5e/DSUKv4BRVRRLMtk85r3bIIPd74NnyAv0VGIqkRmcqboCCSY2tkRb/38MoZPfUR0FCKrx9kwyG4kXUvB7MEf4MKReNFRiMzKQa2CTitDr+ePd3vkV8MHs3+bijBOpUlkEjyzTHbDr4YPPtr1NnqO7iw6CpFZFRVo4RPkLToGCdCgXRg+O/gOizKRCbEsk11xdHLEa8tfwHMfjuUYPrJpXv4eoiNQFeszriv+b+sseAd4io5CZFNYlskuDZ7cD+9uegPuPm6ioxCZhZOrWnQEqiJKlRITPx6LV5Y+CwdHleg4RDaHZZnsVrNukfj88HtcIptskl6nFx2BqoCbtwbv/DUDg17sKzoKkc1iWSa7FhBcDR/vmYc+47uJjkJkUjmZuaIjkJnVi6qDzw++g6jukaKjENk0zoZB9K+N32zFZy9+g8J8zlFL1s/Dzw0ZyTmiY5AZSJKEwZMfwpPvPM5hF0RVgGWZ6D9ij13E20P/D7cSkkRHIao0V08NcjJ4htmWePl74NVlE9Gyd1PRUYjsBodhEP1Hvai6+PLYB+g8vK3oKESV5lud08fZkuY9G2Px8fdZlImqGMsy0T00nq54c9UUvLrsebi4cZlssl4aL1fREcgEVA5KPP3+KLy78XV4+XuKjkNkd1iWiUrRa0wXfHnsfYS3ric6ClGFKJX8EW/tgkID8PGeuRj2ysOQJEl0HCK7xJ+kRPcRFBKAj3fPxcg3h0DB4kFWpjCvQHQEqoQeozriq6MLUL9FiOgoRHaNF/gRldHpveex4IlPePEfWY3AutVw81Ky6BhUTi5uzpj0+ZPoPrKj6ChEBJZlonLJycjBJ88vxbYf94iOQvRAKgclZCig0+pER6Eyqt8yBK+vnISgkADRUYjoXyzLRBWwdeVufPL8EuRm5omOQnRf/sH+uH2Zr4ZYOkmSMGzqwxg391GoHDh3MpElYVkmqqBbCYn48KmvcHzrKdFRiEpVv1U9xByOFx2D7qN6vUBM/nICmnZtJDoKEZWAZZmokjYv347FU79DVmq26ChExTTu3BAnd50THYNK4OCowvDXBuDx1wfBUe0gOg4RlYJlmcgE0hIz8OXLy7D9p72ioxAZadQ+HKf3XRAdg+7RqEM4Jn/1FGpH1BAdhYgegGWZyIQObTyOTyYu4RhRshh1Imvh0ulromPQv9y8XDHhvZHo+2Q3zptMZCVYlolMLC8nHyveWoW1n26EXqcXHYfsnMZLg+z0XNExCEC3Ee3x7Idj4FXNQ3QUIioHlmUiM4k5Eo8Pn/oSF09cFh2F7JybjzvH1AsUWNcfL342Hi17NxUdhYgqgGWZyIx0Wh1+Wfgnfnj7FxTkFYqOQ3aqTuNgXDp1RXQMu6NUKTHslf4Y9dZQqJ0dRcchogpiWSaqAjcv3sbiV7/D3rWHREchO9SwQwTO7I0RHcOuRLSph5e/ehp1ImuJjkJElcSyTFSFTuw4g69eWYG445dERyE70rhTA5zcfV50DLvg6uGCJ+ePQL9nekChUIiOQ0QmwLJMVMX0ej22rNiJZW/+hNSbaaLjkB2o3yoUMYcvio5h01QOSjz0VA+MenMwvPw9RcchIhNiWSYSJC87D6sXrMOvH/7J8cxkVtVq+yHxSoroGDZJkiR0Ht4W4+Y+iqCQANFxiMgMWJaJBEu8koSlM1ZyQRMyG4VSAYVKBW2hVnQUmxLVozEmvDsC9aLqio5CRGbEskxkIc4euICvpizHuQOxoqOQDQoMCcTNi7dFx7AJYS3q4sl3HkdU90jRUYioCrAsE1mY7av24rvZq3Htwk3RUciGhLeuh/OH4kXHsGpBoQEYP/cxdBrWhqvvEdkRlmUiC6TT6bDtxz34cf4almYyicadG+LkrnOiY1gl7wBPjHpzCB56qjuUKqXoOERUxViWiSwYSzOZSsP24Tiz74LoGFbFxd0Zw6c+jMGT+8HZ1Ul0HCIShGWZyArcLc0r563B9ViWZiq/2g1r4vLZ66JjWAUHtQMefrYnHn99EDx83UXHISLBWJaJrIhOp8O2lXuwcj5LM5WPq4cLcjLzRcewaG5eruj3dA8MfLEvfAK9RMchIgvBskxkhViaqSI8qnkiIylTdAyLE1CnGga/9BD6jO/K4RZEVAzLMpEV0+l02LPmIH5btAFn93M8Kt1f3aZ1cPHEZdExLEZ4q1AMfbk/OgxpDaWSS1MTUclYlolsxLmDsfht0Qbs/vUAdFqd6DhkgRp1bIDTe86LjiGUJElo3S8Kw17pj8adGoiOQ0RWgGWZyMYkX0/Bus82YcOSf5CVmi06DlmQyE4NcGq3fZZlRycH9HyiE4a83B816weJjkNEVoRlmchG5ecW4J/vd2HtJxtw5RxnQSCgXosQxB69JDpGlfLwdcPDz/XCgOf7wNOPM1sQUfmxLBPZOFmWcWRzNH5btAFHt5wEv+Xtl28NHyRfTxMdo0rUCAvE4EkPodfYLlA7O4qOQ0RWjGWZyI5cOX8dm7/dhn9W7kbqTfsoTfQ/kiTBwckRhflFoqOYhauHCzoPa4teYzqjYbv6ouMQkY1gWSayQzqdDkc2RWPz8u048OdRFBVqRUeiKlI9LAjXY2+JjmEyCoWEZt0j0WtMF7Qf2JJnkYnI5FiWiexcZkoWtv24B5uXb0fccfsaz2qPItrUx7mDsaJjVFrN8CD0Gt0ZPUZ1gm91b9FxiMiGsSwTkUH8iQRsWb4DW1fuQkZylug4ZAaNOzfEyV3nRMeoEI2nK7o82g49R3dCgzZhouMQkZ1gWSaiYrRFWhxYfxT/fL8ThzdF2+wYV3vUsF19nNlvPWeWFUoFmvdsjF6jO6PdgBZwdOIwCyKqWizLRHRfeTn5OPTXcexZexCHNhxDblae6EhUCTXDq+NqjGUvkS5JEkKj6qDzsDboMaoTfAK9REciIjvGskxEZVZYUITj/5zEnt8OYv+fRzhUwwo5uaqRn2t5rxQ4uajRrHsk2vSLQqt+zeAbxHHIRGQZWJaJqEJ0Oh1O7z6PPb8dxN7fDyHpWoroSFRG3oHeSL2VLjoGqtXyReuHmqF1v+Zo1q0hh1gQkUViWSaiSpNlGTGH47B37SEc3hyNiycuc/ETCxbSrC7ioxOq/LgKhYT6rULRul8U2vZvjrqNa1d5BiKi8mJZpv9v715+ojrDAA6/WBBmLEXAC9eIFTAMtamXNGJSN003Tf9jk9amTZrUKFW8gI4liIPSKqg4MFbALmhsqnkbTYQBfZ7NWZyZc96zOfnlW5wP3rnFPx7HpXNX4uK5y3Hx3BUboGwzx74qxcTPk1tyr2JrIU5+83mc/u5kfPntcVtOAzuOWAY23fTETIx/fzUun78WV368Hk8fVes90gft2NlSTPy0ObHcXNgdw6c+jdLY0Tjx9Wdx7GwpmnY3bsq9ALaCWAa21Pr6epTHp+PyD9fit/NX48YvN2NpUTxvpcETh6M8PvNOrrW/rzNKY8NROjMco2PDceSLgWhsEsfA+0MsA3V399a9uHmhHJO/lmPqQjnK49O+7byJOrrbY+H+47f+X2PTRzF4/HCMnB6K0bGjUTozHPv7OjdhQoDtQywD287a6lpMT9x5Gc9TF8oxc/1urK+t13u090NDQzQXm+PZ8l//+7O9B9qidHooRsY2Vo2HTx2J5oIvVgAfFrEM7Agr1VqUL03HrUu/x50blZidqsTsZCUW599+hZSIvqO9cffmxuYkLcXm6B/pjUMjvXFotD8GSn1xaLQ/ug8fqPOUAPUnloEd7emjatyZ3Ajn2clKzE7NxexkJeZuz8fa6lq9x9tW2g+2Rd9wT/QOdsXgqSNxsH9fHBrtj66B/dHQ0FDv8QC2JbEMvJdWn6/G3O35mJ2sxPzMn/GwshAP7y3Gg8pCPKgsxMO5hahVn9V7zHemaXdjtHftjX29HdHZ0x6d3RvHgwMHoneoK3qHumPPJ8V6jwmw44hl4INVfVz9J5z/G9EL9x/F8pPlWH6yEstLKy+Ptae1WF/fmldmy57mKLYWotBaiGJrSxRaC7GnrRgdXe0bMdzT8W8Y97RH275PrA4DbAKxDPCGXrx4EbVqLZaXarGytBLVJyuxsrQR0s9rz1/btfDVt+ur51uKzVFobXktigsft8SuXbs2+3EAeANiGQAAEpYuAAAgIZYBACAhlgEAICGWAQAgIZYBACAhlgEAICGWAQAgIZYBACAhlgEAICGWAQAgIZYBACAhlgEAICGWAQAgIZYBACAhlgEAICGWAQAgIZYBACAhlgEAICGWAQAgIZYBACAhlgEAICGWAQAgIZYBACAhlgEAICGWAQAgIZYBACAhlgEAICGWAQAgIZYBACAhlgEAICGWAQAgIZYBACAhlgEAICGWAQAgIZYBACAhlgEAICGWAQAgIZYBACAhlgEAICGWAQAgIZYBACAhlgEAICGWAQAgIZYBACAhlgEAICGWAQAgIZYBACAhlgEAICGWAQAgIZYBACAhlgEAICGWAQAgIZYBACAhlgEAICGWAQAgIZYBACAhlgEAICGWAQAgIZYBACAhlgEAICGWAQAgIZYBACAhlgEAICGWAQAgIZYBACAhlgEAICGWAQAgIZYBACAhlgEAICGWAQAg8TdddXxWDyLA9AAAAABJRU5ErkJggg==",
      "text/plain": [
       "<Figure size 800x800 with 1 Axes>"
      ]
     },
     "metadata": {},
     "output_type": "display_data"
    }
   ],
   "source": [
    "# PIE CHART\n",
    "\n",
    "level_counts = data['level'].value_counts()\n",
    "\n",
    "# Crear el gráfico de pastel\n",
    "plt.figure(figsize=(8, 8))\n",
    "plt.pie(level_counts, labels=level_counts.index, autopct='%1.1f%%', startangle=90, colors=plt.cm.viridis.colors)\n",
    "plt.title(\"Distribución de Cursos por Nivel ('level')\")\n",
    "plt.show()"
   ]
  },
  {
   "cell_type": "code",
   "execution_count": 9,
   "metadata": {},
   "outputs": [
    {
     "data": {
      "text/plain": [
       "count     3678.000000\n",
       "mean       156.259108\n",
       "std        935.452044\n",
       "min          0.000000\n",
       "25%          4.000000\n",
       "50%         18.000000\n",
       "75%         67.000000\n",
       "max      27445.000000\n",
       "Name: num_reviews, dtype: float64"
      ]
     },
     "execution_count": 9,
     "metadata": {},
     "output_type": "execute_result"
    }
   ],
   "source": [
    "data['num_reviews'].describe()"
   ]
  },
  {
   "cell_type": "code",
   "execution_count": 22,
   "metadata": {},
   "outputs": [
    {
     "data": {
      "text/plain": [
       "<Axes: xlabel='price', ylabel='num_subscribers'>"
      ]
     },
     "execution_count": 22,
     "metadata": {},
     "output_type": "execute_result"
    },
    {
     "data": {
      "image/png": "iVBORw0KGgoAAAANSUhEUgAAAlYAAAGwCAYAAABrUCsdAAAAOXRFWHRTb2Z0d2FyZQBNYXRwbG90bGliIHZlcnNpb24zLjkuMiwgaHR0cHM6Ly9tYXRwbG90bGliLm9yZy8hTgPZAAAACXBIWXMAAA9hAAAPYQGoP6dpAABZ3ElEQVR4nO3deXgUVboG8LcTshI6CWSXQBJA9h0TIwooGQKDCqMzauQODCIoEgVRBhlHUIcrXhiXERHunVFwRWRGXIBBISSgEEAIkT0CCQQhK5A0IUC2c/9w0nQl3V1dTXV3VfL+nqefJ13npHOqq1P19TnfOWUQQggQERER0Q3z8nQDiIiIiFoKBlZEREREKmFgRURERKQSBlZEREREKmFgRURERKQSBlZEREREKmFgRURERKSSNp5uQGvS0NCAc+fOoV27djAYDJ5uDhERETlACIFLly4hJiYGXl72+6QYWLnRuXPnEBsb6+lmEBERkRPOnDmDjh072q3DwMqN2rVrB+CXA2M0Gj3cGiIiInKEyWRCbGys+TpuDwMrN2oc/jMajQysiIiIdMaRNB4mrxMRERGphIEVERERkUoYWBERERGphIEVERERkUoYWBERERGphIEVERERkUoYWBERERGphIEVERERkUoYWBERERGphIEVERERkUp4S5sWIr+sCqcvVCOuQ1vEh7X1dHOIiIhaJQZWOldRXYOnVudi+/Ey87Zh3cKxNG0gggN9PNgyIiKi1odDgTr31Opc7DhRLtm240Q5nly930MtIiIiar0YWOlYflkVth8vQ70Qku31QmD78TIUlF/2UMuIiIhaJwZWOnb6QrXd8lPnGVgRERG5EwMrHevcPtBueVwHJrETERG5EwMrHUsID8KwbuHwNhgk270NBgzrFs7ZgURERG7GwErnlqYNxNCuYZJtQ7uGYWnaQA+1iIiIqPXicgs6Fxzogw+mJKKg/DJOnb/MdayIiIg8iIFVCxEfxoCKiIjI0zgUSERERKQSBlZEREREKmFgRURERKQSBlZEREREKmFgRURERKQSBlZEREREKmFgRURERKQSBlZEREREKmFgRURERKQSBlZEREREKmFgRURERKQSBlZEREREKmFgRURERKQSBlZEREREKvFoYLVo0SLccsstaNeuHSIiIjB+/Hjk5eVJ6owYMQIGg0HyePzxxyV1CgsLMXbsWAQGBiIiIgJz5sxBXV2dpE5WVhYGDRoEPz8/dO3aFatWrWrWnmXLliEuLg7+/v5ISkrCnj17JOVXr17FjBkz0KFDBwQFBeH+++9HSUmJOm8GERER6Z5HA6tt27ZhxowZ2LVrFzZv3oza2lqMGjUKly9fltSbOnUqioqKzI/Fixeby+rr6zF27FjU1NRg586deP/997Fq1SrMnz/fXKegoABjx47FnXfeidzcXMyaNQuPPvoovvnmG3OdNWvWYPbs2ViwYAFycnLQv39/pKamorS01Fzn6aefxtdff421a9di27ZtOHfuHO677z4XvkNERESkK0JDSktLBQCxbds287bhw4eLmTNn2vydjRs3Ci8vL1FcXGzetnz5cmE0GsW1a9eEEEL88Y9/FL1795b83oMPPihSU1PNzxMTE8WMGTPMz+vr60VMTIxYtGiREEKIiooK4ePjI9auXWuuc/ToUQFAZGdnO7R/lZWVAoCorKx0qD4RERF5npLrt6ZyrCorKwEA7du3l2z/+OOPERYWhj59+mDevHmorq42l2VnZ6Nv376IjIw0b0tNTYXJZMLhw4fNdVJSUiSvmZqaiuzsbABATU0N9u3bJ6nj5eWFlJQUc519+/ahtrZWUqdHjx7o1KmTuU5T165dg8lkkjyIiIio5Wrj6QY0amhowKxZszB06FD06dPHvP3hhx9G586dERMTgwMHDmDu3LnIy8vD559/DgAoLi6WBFUAzM+Li4vt1jGZTLhy5QouXryI+vp6q3WOHTtmfg1fX1+EhIQ0q9P4d5patGgRXnrpJYXvBBEREemVZgKrGTNm4NChQ/j+++8l26dNm2b+uW/fvoiOjsbIkSNx8uRJdOnSxd3NVGTevHmYPXu2+bnJZEJsbKwHW0RERESupImhwPT0dKxfvx6ZmZno2LGj3bpJSUkAgBMnTgAAoqKims3Ma3weFRVlt47RaERAQADCwsLg7e1ttY7la9TU1KCiosJmnab8/PxgNBolDyIiImq5PBpYCSGQnp6OdevWYevWrYiPj5f9ndzcXABAdHQ0ACA5ORkHDx6UzN7bvHkzjEYjevXqZa6TkZEheZ3NmzcjOTkZAODr64vBgwdL6jQ0NCAjI8NcZ/DgwfDx8ZHUycvLQ2FhobkOERERtXKuz6W3bfr06SI4OFhkZWWJoqIi86O6uloIIcSJEyfEyy+/LPbu3SsKCgrEl19+KRISEsSwYcPMr1FXVyf69OkjRo0aJXJzc8WmTZtEeHi4mDdvnrlOfn6+CAwMFHPmzBFHjx4Vy5YtE97e3mLTpk3mOp9++qnw8/MTq1atEkeOHBHTpk0TISEhktmGjz/+uOjUqZPYunWr2Lt3r0hOThbJyckO7y9nBRIREemPkuu3RwMrAFYfK1euFEIIUVhYKIYNGybat28v/Pz8RNeuXcWcOXOa7dipU6fEmDFjREBAgAgLCxPPPPOMqK2tldTJzMwUAwYMEL6+viIhIcH8NywtXbpUdOrUSfj6+orExESxa9cuSfmVK1fEE088IUJDQ0VgYKD4zW9+I4qKihzeXwZWRERE+qPk+m0QQghP9Za1NiaTCcHBwaisrGS+FRERkU4ouX5rInmdiIiIqCVgYEVERESkEgZWRERERCphYEVERESkEgZWRERERCphYEVERESkEgZWRERERCphYEVERESkEgZWRERERCphYEVERESkEgZWRERERCphYEVERESkEgZWRERERCphYEVERESkEgZWRERERCphYEVERESkEgZWRERERCphYEVERESkEgZWRERERCphYEVERESkEgZWRERERCphYEVERESkEgZWRERERCphYEVERESkEgZWRERERCphYEVERESkEgZWRERERCphYEVERESkEgZWRERERCphYEVERESkEgZWRERERCphYEVERESkEgZWRERERCphYEVERESkEgZWRERERCphYEVERESkEgZWRERERCphYEVERESkEgZWRERERCphYEVERESkEgZWRERERCphYEVERESkEgZWRERERCphYEVERESkEgZWRERERCphYEVERESkEgZWRERERCphYEVERESkEgZWRERERCphYEVERESkEgZWRERERCrxaGC1aNEi3HLLLWjXrh0iIiIwfvx45OXlSepcvXoVM2bMQIcOHRAUFIT7778fJSUlkjqFhYUYO3YsAgMDERERgTlz5qCurk5SJysrC4MGDYKfnx+6du2KVatWNWvPsmXLEBcXB39/fyQlJWHPnj2K20JEREStl0cDq23btmHGjBnYtWsXNm/ejNraWowaNQqXL18213n66afx9ddfY+3atdi2bRvOnTuH++67z1xeX1+PsWPHoqamBjt37sT777+PVatWYf78+eY6BQUFGDt2LO68807k5uZi1qxZePTRR/HNN9+Y66xZswazZ8/GggULkJOTg/79+yM1NRWlpaUOt4WIiIhaOaEhpaWlAoDYtm2bEEKIiooK4ePjI9auXWuuc/ToUQFAZGdnCyGE2Lhxo/Dy8hLFxcXmOsuXLxdGo1Fcu3ZNCCHEH//4R9G7d2/J33rwwQdFamqq+XliYqKYMWOG+Xl9fb2IiYkRixYtcrgtciorKwUAUVlZ6VB9IiIi8jwl129N5VhVVlYCANq3bw8A2LdvH2pra5GSkmKu06NHD3Tq1AnZ2dkAgOzsbPTt2xeRkZHmOqmpqTCZTDh8+LC5juVrNNZpfI2amhrs27dPUsfLywspKSnmOo60palr167BZDJJHkRERNRyaSawamhowKxZszB06FD06dMHAFBcXAxfX1+EhIRI6kZGRqK4uNhcxzKoaixvLLNXx2Qy4cqVKygvL0d9fb3VOpavIdeWphYtWoTg4GDzIzY21sF3g4iIiPRIM4HVjBkzcOjQIXz66aeebopq5s2bh8rKSvPjzJkznm4SERERuVAbTzcAANLT07F+/Xps374dHTt2NG+PiopCTU0NKioqJD1FJSUliIqKMtdpOnuvcaaeZZ2ms/dKSkpgNBoREBAAb29veHt7W61j+RpybWnKz88Pfn5+Ct4JIiIi0jOP9lgJIZCeno5169Zh69atiI+Pl5QPHjwYPj4+yMjIMG/Ly8tDYWEhkpOTAQDJyck4ePCgZPbe5s2bYTQa0atXL3Mdy9dorNP4Gr6+vhg8eLCkTkNDAzIyMsx1HGkLERERtXKuz6W3bfr06SI4OFhkZWWJoqIi86O6utpc5/HHHxedOnUSW7duFXv37hXJyckiOTnZXF5XVyf69OkjRo0aJXJzc8WmTZtEeHi4mDdvnrlOfn6+CAwMFHPmzBFHjx4Vy5YtE97e3mLTpk3mOp9++qnw8/MTq1atEkeOHBHTpk0TISEhktmGcm2Rw1mBRERE+qPk+u3RwAqA1cfKlSvNda5cuSKeeOIJERoaKgIDA8VvfvMbUVRUJHmdU6dOiTFjxoiAgAARFhYmnnnmGVFbWyupk5mZKQYMGCB8fX1FQkKC5G80Wrp0qejUqZPw9fUViYmJYteuXZJyR9piDwMrIiIi/VFy/TYIIYSnestaG5PJhODgYFRWVsJoNHq6OUREROQAJddvzcwKJCIiItI7BlZEREREKmFgRURERKQSBlZEREREKmFgRURERKQSBlZEREREKmFgRURERKQSBlZEREREKmFgRURERKQSBlZEREREKmFgRURERKQSBlZEREREKmFgRURERKQSBlZEREREKmFgRURERKQSBlZEREREKmFgRURERKQSBlZEREREKmFgRURERKQSBlZEREREKnEqsMrJycHBgwfNz7/88kuMHz8ef/rTn1BTU6Na44iIiIj0xKnA6rHHHsNPP/0EAMjPz8dDDz2EwMBArF27Fn/84x9VbSARERGRXjgVWP30008YMGAAAGDt2rUYNmwYPvnkE6xatQr/+te/1GwfERERkW44FVgJIdDQ0AAA2LJlC379618DAGJjY1FeXq5e64iIiIh0xKnAasiQIVi4cCE+/PBDbNu2DWPHjgUAFBQUIDIyUtUGEhEREemFU4HVm2++iZycHKSnp+P5559H165dAQD//Oc/cdttt6naQCIiIiK9aKP0F+rr61FRUYHt27cjNDRUUrZkyRJ4e3ur1jgiIiIiPVHcY+Xt7Y1Ro0ahoqKiWZm/vz98fHzUaBcRERGR7jg1FNinTx/k5+er3RYiIiIiXXMqsFq4cCGeffZZrF+/HkVFRTCZTJIHERERUWtkEEIIpb/k5XU9HjMYDOafhRAwGAyor69Xp3UtjMlkQnBwMCorK2E0Gj3dHCIiInKAkuu34uR1AMjMzHSqYUREREQtmVOB1fDhw9VuBxEREZHuOZVjBQDfffcd/uu//gu33XYbzp49CwD48MMP8f3336vWOCIiIiI9cSqw+te//oXU1FQEBAQgJycH165dAwBUVlbilVdeUbWBRERERHrh9KzAFStW4O9//7tk3aqhQ4ciJydHtcYRERER6YlTgVVeXh6GDRvWbHtwcLDVhUOJiIiIWgOnAquoqCicOHGi2fbvv/8eCQkJN9woIiIiIj1yKrCaOnUqZs6cid27d8NgMODcuXP4+OOP8eyzz2L69Olqt5EckF9Whcy8UhSUX/Z0U4iIiFotp5ZbeO6559DQ0ICRI0eiuroaw4YNg5+fH5599lk8+eSTareR7KiorsFTq3Ox/XiZeduwbuFYmjYQwYG8byMREZE7ObXyeqOamhqcOHECVVVV6NWrF4KCgtRsW4vjipXXJ767BztOlKPe4jB6GwwY2jUMH0xJVOVvEBERtWZKrt9Or2MFAL6+vmjXrh2io6MZVHlAflkVth8vkwRVAFAvBLYfL+OwIBERkZs5FVjV1dXhhRdeQHBwMOLi4hAXF4fg4GD8+c9/Rm1trdptJBtOX6i2W37qPAMrIiIid3Iqx+rJJ5/E559/jsWLFyM5ORkAkJ2djRdffBHnz5/H8uXLVW0kWde5faDd8rgObd3UEiIiIgKcDKw++eQTfPrppxgzZox5W79+/RAbG4u0tDQGVm6SEB6EYd3CbeZYxYcxsCIiInInp4YC/fz8EBcX12x7fHw8fH19b7RNpMDStIEY2jVMsm1o1zAsTRvooRYRERG1Xk7NCnz55Zdx7NgxrFy5En5+fgCAa9euYcqUKejWrRsWLFigekNbAlfMCmxUUH4Zp85fRlyHtuypIiIiUpGS67fDQ4H33Xef5PmWLVvQsWNH9O/fHwDw448/oqamBiNHjnSiyXSj4sMYUBEREXmaw4FVcHCw5Pn9998veR4bG6tOi4iIiIh0yuHAauXKla5sBxEREZHu3dACoURERER0ncM9VoMGDUJGRgZCQ0MxcOBAGAwGm3VzcnJUaRwRERGRnjjcYzVu3DjzDMDx48dj3LhxNh+O2r59O+655x7ExMTAYDDgiy++kJT/4Q9/gMFgkDxGjx4tqXPhwgVMmDABRqMRISEhmDJlCqqqqiR1Dhw4gDvuuAP+/v6IjY3F4sWLm7Vl7dq16NGjB/z9/dG3b19s3LhRUi6EwPz58xEdHY2AgACkpKTg+PHjDu8rERERtXwO91g1LqFQX1+PO++8E/369UNISMgN/fHLly+jf//+eOSRR5rNOmw0evRoSX5XY3DXaMKECSgqKsLmzZtRW1uLyZMnY9q0afjkk08A/DJFctSoUUhJScGKFStw8OBBPPLIIwgJCcG0adMAADt37kRaWhoWLVqEu+++G5988gnGjx+PnJwc9OnTBwCwePFivPXWW3j//fcRHx+PF154AampqThy5Aj8/f1v6H0gIiKiFkI4wc/PT+Tn5zvzqzYBEOvWrZNsmzRpkhg3bpzN3zly5IgAIH744Qfztn//+9/CYDCIs2fPCiGEeOedd0RoaKi4du2auc7cuXNF9+7dzc8feOABMXbsWMlrJyUliccee0wIIURDQ4OIiooSS5YsMZdXVFQIPz8/sXr1aof3sbKyUgAQlZWVDv8OEREReZaS67dTyet9+vRBfn6+mvGdTVlZWYiIiED37t0xffp0nD9/3lyWnZ2NkJAQDBkyxLwtJSUFXl5e2L17t7nOsGHDJCvCp6amIi8vDxcvXjTXSUlJkfzd1NRUZGdnAwAKCgpQXFwsqRMcHIykpCRzHWuuXbsGk8kkeRAREVHL5VRgtXDhQjz77LNYv349ioqKXBY8jB49Gh988AEyMjLwP//zP9i2bRvGjBmD+vp6AEBxcTEiIiIkv9OmTRu0b98excXF5jqRkZGSOo3P5epYllv+nrU61ixatAjBwcHmB9f6IiIiatmcugnzr3/9awDAvffeK5kdKISAwWAwBz436qGHHjL/3LdvX/Tr1w9dunRBVlaWLlZ4nzdvHmbPnm1+bjKZGFwRERG1YE4FVpmZmWq3wyEJCQkICwvDiRMnMHLkSERFRaG0tFRSp66uDhcuXEBUVBQAICoqCiUlJZI6jc/l6liWN26Ljo6W1BkwYIDN9vr5+TVLticiIqKWy6nAavjw4Wq3wyE///wzzp8/bw5ukpOTUVFRgX379mHw4MEAgK1bt6KhoQFJSUnmOs8//zxqa2vh4+MDANi8eTO6d++O0NBQc52MjAzMmjXL/Lc2b96M5ORkAEB8fDyioqKQkZFhDqRMJhN2796N6dOnu2PXiYiISAecyrFauXIl1q5d22z72rVr8f777zv8OlVVVcjNzUVubi6AX5LEc3NzUVhYiKqqKsyZMwe7du3CqVOnkJGRgXHjxqFr165ITU0FAPTs2ROjR4/G1KlTsWfPHuzYsQPp6el46KGHEBMTAwB4+OGH4evriylTpuDw4cNYs2YN/va3v0mG6GbOnIlNmzbhtddew7Fjx/Diiy9i7969SE9PBwAYDAbMmjULCxcuxFdffYWDBw9i4sSJiImJwfjx4515C4mIiKglcmbaYbdu3cTWrVubbc/KyhI333yzw6+TmZkpADR7TJo0SVRXV4tRo0aJ8PBw4ePjIzp37iymTp0qiouLJa9x/vx5kZaWJoKCgoTRaBSTJ08Wly5dktT58ccfxe233y78/PzETTfdJF599dVmbfnss8/EzTffLHx9fUXv3r3Fhg0bJOUNDQ3ihRdeEJGRkcLPz0+MHDlS5OXlObyvQnC5BSIiIj1Scv02CCGE0mDM398fx44dQ1xcnGT7qVOn0LNnT1y5cuWGA76WyGQyITg4GJWVlTAajZ5uDhERETlAyfXbqaHAiIgIHDhwoNn2H3/8ER06dHDmJYmIiIh0z6nAKi0tDU899RQyMzNRX1+P+vp6bN26FTNnzpQskUBERETUmjg1K/Avf/kLTp06hZEjR6JNm19eoqGhARMnTsQrr7yiagOJiIiI9MKpHKtGx48fR25uLgICAtC3b1907txZzba1OMyxIiIi0h8l12+neqwadevWDd26dUN9fT0OHjwIo9FoXhuKiIiIqLVxKsdq1qxZePfddwEA9fX1GD58OAYNGoTY2FhkZWWp2T4iIiIi3XAqsPrnP/+J/v37AwC+/vpr5Ofn49ixY3j66afx/PPPq9pAIiIiIr1wKrAqLy833z9v48aNeOCBB3DzzTfjkUcewcGDB1VtIBEREZFeOBVYRUZG4siRI6ivr8emTZvwq1/9CgBQXV0Nb29vVRtIREREpBdOJa9PnjwZDzzwAKKjo2EwGJCSkgIA2L17N3r06KFqA4mIiIj0wqnA6sUXX0SfPn1w5swZ/O53v4Ofnx8AwNvbG88995yqDSQiIiLSixtax4qU4TpWRERE+uPyewUCQEZGBu6++2506dIFXbp0wd13340tW7Y4+3JEREREuudUYPXOO+9g9OjRaNeuHWbOnImZM2fCaDTi17/+NZYtW6Z2G4mIiIh0wamhwI4dO+K5555Denq6ZPuyZcvwyiuv4OzZs6o1sCXhUCAREZH+uHwosKKiAqNHj262fdSoUaisrHTmJYmIiIh0z6nA6t5778W6deuabf/yyy9x991333CjiIiIiPTI4eUW3nrrLfPPvXr1wn//938jKysLycnJAIBdu3Zhx44deOaZZ9RvJREREZEOOJxjFR8f79gLGgzIz8+/oUa1VMyxIiIi0h8l12+He6wKCgpuuGFERERELZnT61gRERERkZRTt7R55JFH7Ja/9957TjWGiIiISM+cCqwuXrwoeV5bW4tDhw6hoqICd911lyoNIyIiItIbpwIra0stNDQ0YPr06ejSpcsNN4qIiIhIj1TLsfLy8sLs2bPxxhtvqPWSRERERA7JL6tCZl4pCsove7QdTvVY2XLy5EnU1dWp+ZJERERENlVU1+Cp1bnYfrzMvG1Yt3AsTRuI4EAft7fHqcBq9uzZkudCCBQVFWHDhg2YNGmSKg0jZfLLqnD6QjXiOrRFfFhbTzeHiIjILZ5anYsdJ8ol23acKMeTq/fjgymJbm+PU4HV/v37Jc+9vLwQHh6O1157TXbGIKlLa5E6ERGRu+SXVUmuf43qhcD242UoKL/s9s4GpwKrzMxMtdtBTtJapE5EROQupy9U2y0/dd79gZVTyetXrlxBdfX1nTl9+jTefPNNfPvtt6o1jOQ1Rur1Te5KZBmpExERtVSd2wfaLY/r4P7UGKcCq3HjxuGDDz4AAFRUVCAxMRGvvfYaxo0bh+XLl6vaQLLNkUidiIiopUoID8KwbuHwNhgk270NBgzrFu6RnGOnAqucnBzccccdAIB//vOfiIqKwunTp/HBBx/grbfeUrWBZJsWI3UiIiJ3Wpo2EEO7hkm2De0ahqVpAz3SHqdyrKqrq9GuXTsAwLfffov77rsPXl5euPXWW3H69GlVG0i2NUbqO06US4YDvQ0GDO0axtmBRETU4gUH+uCDKYkoKL+MU+cve3x2vFM9Vl27dsUXX3yBM2fO4JtvvsGoUaMAAKWlpTAajao2kOzTWqRORETkCaJJvrGnONVjNX/+fDz88MN4+umnMXLkSCQnJwP4pfdq4EBe0N1Ja5E6ERGRO2lt2SGDcDLEKy4uRlFREfr37w8vr186vvbs2QOj0YgePXoAAH7++WfExMSYy1s7k8mE4OBgVFZWsmePiIhIBRPf3WMzJUatZYeUXL+djniioqIwcOBASdCUmJhoDqoAoFevXjh16pSzf4KIiIjIJi0uO+TSriStjHcSERFRy6PFZYc4RkdERES6pMVlhxhYERERkS61mAVCiYiIiLRAa8sOObXcgqMMTSJIIiIiIjVpbdkhlwZWTF4nIiIid4gP08Y6ji4NrI4cOYKYmBhX/gkiIiIizXAqsLp69SqWLl2KzMxMlJaWoqGhQVKek5MDAIiNjb3xFhIRERHphFOB1ZQpU/Dtt9/it7/9LRITE5lLRURERAQnA6v169dj48aNGDp0qNrtISIiItItp5ZbuOmmm9CuXTu120JERESka04FVq+99hrmzp2L06dPq90eIiIiIt1yaihwyJAhuHr1KhISEhAYGAgfHx9J+YULF1RpHBEREZGeOBVYpaWl4ezZs3jllVcQGRnJ5HUNyC+rwukL1R5fGI2IiKg1c2oocOfOnVi7di3mzp2LP/zhD5g0aZLk4ajt27fjnnvuQUxMDAwGA7744gtJuRAC8+fPR3R0NAICApCSkoLjx49L6ly4cAETJkyA0WhESEgIpkyZgqqqKkmdAwcO4I477oC/vz9iY2OxePHiZm1Zu3YtevToAX9/f/Tt2xcbN25U3BZPqKiuwcR39+Cu17Zh8sofcOdfszDx3T2orK71dNOIiIhaHacCqx49euDKlSs3/McvX76M/v37Y9myZVbLFy9ejLfeegsrVqzA7t270bZtW6SmpuLq1avmOhMmTMDhw4exefNmrF+/Htu3b8e0adPM5SaTCaNGjULnzp2xb98+LFmyBC+++CL+7//+z1xn586dSEtLw5QpU7B//36MHz8e48ePx6FDhxS1xROeWp2LHSfKJdt2nCjHk6v3e6hFRERErZhwwjfffCNuu+02kZmZKcrLy0VlZaXk4QwAYt26debnDQ0NIioqSixZssS8raKiQvj5+YnVq1cLIYQ4cuSIACB++OEHc51///vfwmAwiLNnzwohhHjnnXdEaGiouHbtmrnO3LlzRffu3c3PH3jgATF27FhJe5KSksRjjz3mcFscUVlZKQA4/R41dbL0kug8d73NR35ZlSp/h4iIqDVTcv12qsdq9OjRyM7OxsiRIxEREYHQ0FCEhoYiJCQEoaGhqgR8BQUFKC4uRkpKinlbcHAwkpKSkJ2dDQDIzs5GSEgIhgwZYq6TkpICLy8v7N6921xn2LBh8PX1NddJTU1FXl4eLl68aK5j+Xca6zT+HUfaYs21a9dgMpkkDzWdvlBtt/zU+cuq/j0iIiKyz6nk9czMTLXb0UxxcTEAIDIyUrI9MjLSXFZcXIyIiAhJeZs2bdC+fXtJnfj4+Gav0VgWGhqK4uJi2b8j1xZrFi1ahJdeekl+Z50kFxW38eKkAiIiIndyKrAaPny42u1okebNm4fZs2ebn5tMJlXvn9ggU17XIFT7W0RERCTPqcBq+/btdsuHDRvmVGMsRUVFAQBKSkoQHR1t3l5SUoIBAwaY65SWlkp+r66uDhcuXDD/flRUFEpKSiR1Gp/L1bEsl2uLNX5+fvDz83Nof53RuX2g3fK4Dlx2gYiIyJ2cyrEaMWJEs8edd95pfqghPj4eUVFRyMjIMG8zmUzYvXs3kpOTAQDJycmoqKjAvn37zHW2bt2KhoYGJCUlmets374dtbXXlx/YvHkzunfvbs4HS05OlvydxjqNf8eRtnhCQngQhnULh3eTdcS8DQYM6xbO9ayIiIjczKnA6uLFi5JHaWkpNm3ahFtuuQXffvutw69TVVWF3Nxc5ObmAvglSTw3NxeFhYUwGAyYNWsWFi5ciK+++goHDx7ExIkTERMTg/HjxwMAevbsidGjR2Pq1KnYs2cPduzYgfT0dDz00EOIiYkBADz88MPw9fXFlClTcPjwYaxZswZ/+9vfJEN0M2fOxKZNm/Daa6/h2LFjePHFF7F3716kp6cDgENt8ZSlaQMxtGuYZNvQrmFYmjbQQy0iIiJqxdScjpiVlSUGDRrkcP3MzEwBoNlj0qRJQohfljl44YUXRGRkpPDz8xMjR44UeXl5ktc4f/68SEtLE0FBQcJoNIrJkyeLS5cuSer8+OOP4vbbbxd+fn7ipptuEq+++mqztnz22Wfi5ptvFr6+vqJ3795iw4YNknJH2iJH7eUWLOWXVYmtx0q4xAIREZHKlFy/DUII1TKcjx07hiFDhjRb+Zx+YTKZEBwcjMrKShiNRk83h4iIiByg5PrtVPL6gQMHJM+FECgqKsKrr75qN5mbiIiIqCVzKrAaMGAADAYDmnZ23XrrrXjvvfdUaRgRERGR3jgVWBUUFEiee3l5ITw8HP7+/qo0ioiIiEiPnAqsOnfujIyMDGRkZKC0tBQNDdKlKtlrRURERK2RU4HVSy+9hJdffhlDhgxBdHQ0DAbeOoWIiIjIqcBqxYoVWLVqFX7/+9+r3R4iIiIi3XJqgdCamhrcdtttareFiIiISNecCqweffRRfPLJJ2q3hYiIiEjXnBoKvHr1Kv7v//4PW7ZsQb9+/eDj4yMpf/3111VpHJEz8suqcPpCNeI6tOX9EomIyK2cXiC0cSHQQ4cOScqYyO4ZDCaAiuoaPLU6F9uPl5m3DesWjqVpAxEc6GPnN4mIiNSh6i1tyD5X3NKGwcR1E9/dgx0nylFv8ZH2NhgwtGsYPpiS6MGWERGRnim5fjuVY0Xa8dTqXOw4US7ZtuNEOZ5cvd9DLfKM/LIqbD9eJgmqAKBeCGw/XoaC8sseahkREbUmDKx0jMHEdacvVNstP3W+9bwXRETkOQysdIzBxHWd2wfaLY/r0DrzzoiIyL0YWOkYg4nrEsKDMKxbOLybTJ7wNhgwrFt4q03oJyJqlF9Whcy80lY1muEJTs0KJG1oDCZsJWy3tmBiadpAPLl6vySRf2jXMCxNG+jBVhEReRYnObkXZwW6kStmBVZW1zYLJlr7P0xB+WWcOn+5VS89QUTUiDOmb5yS6zd7rHQuONAHH0xJZDBhIT6M7wEREXB9klNTlpOceL5UFwOrFoLBBBERNeXIJCdeO9TF5HUiIqIWipOc3I+BFRERUQvVmmZMa2XWI4cCiYiIWrCWPmNaa7MeOSvQjVwxK5CIiMgRWpnklF9WhdMXqlVrhztmPXJWYCu0La8UuT9XYFCnUNzRLdzTzSEiIo3x9CQnV/QsaXHWIwMrnTt9/jLGL9uBi9W15m2hgT74asbtiO1gP2mRiIjIXZ5anYsdJ8ol23acKMeTq/c73bOkxVmPTF7XuaZBFQBcrK7Fvcu+91CLiIiIpBp7luqbZB9Z9iw5Q4uzHhlY6di2vNJmQVWji9W1+M5K9ygREZG7OdKz5AwtznpkYKVjuT9X2C3PKbzonoYQkS5pZXo6tXyu7FlamjYQQ7uGSbZ5ctYjc6x0LKqdv93ymOAAN7WEiPREa9PTqeVr7FmyNXvvRnqWtHZrN/ZY6VhEsP3AKqydn5taQkR6Yi+JmMhVXN2zFB/WFnd2j/D4oqfssdIxLSbtEZG2aXF6OrUOWutZchX2WOmYFpP2iEjbXJVETOQorfQsuQoDK53TWtIeEWkbe7qJXIuBlc4J8I5EROQ49nQTuRYDK51jEioRKcWebiLXYfK6jjEJlYic0VqSiIk8gYGVjmnxHklEpB+evikvUUvEoUAdkzt4bbwMMjWIiIhITQysdKxBpryugYntRERE7sTASsc4bZqIiEhbGFjpWEJ4EJITOlgtS07owNwJIiIy40233YPJ6zpnsJFGZWs7ERG1Lnq+6XZ+WRVOX6jW1cxVBlY6ll9WhZ0nz1st23nyPJdbICIiu+sdfjAl0UOtsk/PwSCHAnWM9/wiIiJ7Gtc7rBfSyUyW6x1q0RMf5zRbp3H78TJM/3ifh1rkOAZWOsbkdSIiskePX8AdGY3RMgZWOpYQHoRQG12ioYE+HAYkImrl9PgFfHeB9aDKXJ5vv9zTGFjpWH5ZFS5W11otu1hdq/monoiIXEufN922P/tK6ys0MrDSMT128RIRkXvp7abbSfHt7ZbfamOZIa3grEAd02MXLxERuRdvuu1eDKx0rDHHytpwIHOsiIjIkl5uuu3IaIyW94NDgTrGHCsiItu40rjzPPne6X00hj1WOqb3qJ6IyBX0vLikp2nhvWtMuN9xolyy/pa3wYChXcM0f13TfI/Viy++CIPBIHn06NHDXH716lXMmDEDHTp0QFBQEO6//36UlJRIXqOwsBBjx45FYGAgIiIiMGfOHNTV1UnqZGVlYdCgQfDz80PXrl2xatWqZm1ZtmwZ4uLi4O/vj6SkJOzZs8cl++wovUf1RESuYG+lcbJPK++d3hLuLemix6p3797YsmWL+XmbNteb/fTTT2PDhg1Yu3YtgoODkZ6ejvvuuw87duwAANTX12Ps2LGIiorCzp07UVRUhIkTJ8LHxwevvPIKAKCgoABjx47F448/jo8//hgZGRl49NFHER0djdTUVADAmjVrMHv2bKxYsQJJSUl48803kZqairy8PERERLjx3SAiIlsaVxpvynKlca33eHiKlt47PSfca77HCvglkIqKijI/wsJ+iWIrKyvx7rvv4vXXX8ddd92FwYMHY+XKldi5cyd27doFAPj2229x5MgRfPTRRxgwYADGjBmDv/zlL1i2bBlqamoAACtWrEB8fDxee+019OzZE+np6fjtb3+LN954w9yG119/HVOnTsXkyZPRq1cvrFixAoGBgXjvvfdstvvatWswmUySh5q43ELLwVwQInXwvOg8Lb538WFtcWf3CN0EVYBOAqvjx48jJiYGCQkJmDBhAgoLCwEA+/btQ21tLVJSUsx1e/TogU6dOiE7OxsAkJ2djb59+yIyMtJcJzU1FSaTCYcPHzbXsXyNxjqNr1FTU4N9+/ZJ6nh5eSElJcVcx5pFixYhODjY/IiNjb3Bd0KKQ4H6V1Fdg4nv7sFdr23D5JU/4M6/ZmHiu3tQaWNSAhHZx/Oi8/jeqUPzgVVSUhJWrVqFTZs2Yfny5SgoKMAdd9yBS5cuobi4GL6+vggJCZH8TmRkJIqLiwEAxcXFkqCqsbyxzF4dk8mEK1euoLy8HPX19VbrNL6GNfPmzUNlZaX5cebMGafeA2q5tJLPQNRS6HOlcW3ge6cOzQdWY8aMwe9+9zv069cPqamp2LhxIyoqKvDZZ595ummy/Pz8YDQaJQ81rT9wzm75Bply8iy93nWeSOv0nPjsaXzvbpwuktcthYSE4Oabb8aJEyfwq1/9CjU1NaioqJD0WpWUlCAqKgoAEBUV1Wz2XuOsQcs6TWcSlpSUwGg0IiAgAN7e3vD29rZap/E1PEHuwptfVuWmlpAzuFwGkWvoOfHZ0/je3TjN91g1VVVVhZMnTyI6OhqDBw+Gj48PMjIyzOV5eXkoLCxEcnIyACA5ORkHDx5EaWmpuc7mzZthNBrRq1cvcx3L12is0/gavr6+GDx4sKROQ0MDMjIyzHU8Qe7DnhAe5KaWkDOYz0DkWnpMfNYKrbx3epzYo/keq2effRb33HMPOnfujHPnzmHBggXw9vZGWloagoODMWXKFMyePRvt27eH0WjEk08+ieTkZNx6660AgFGjRqFXr174/e9/j8WLF6O4uBh//vOfMWPGDPj5+QEAHn/8cbz99tv44x//iEceeQRbt27FZ599hg0bNpjbMXv2bEyaNAlDhgxBYmIi3nzzTVy+fBmTJ0/2yPsCAHf3i8Hrm4/bLB/bL8aNrSGl9L4InlLb8kqR+3MFBnUKxR3dwj3dHCLSMC0sVOoszQdWP//8M9LS0nD+/HmEh4fj9ttvx65duxAe/suJ+Y033oCXlxfuv/9+XLt2DampqXjnnXfMv+/t7Y3169dj+vTpSE5ORtu2bTFp0iS8/PLL5jrx8fHYsGEDnn76afztb39Dx44d8Y9//MO8hhUAPPjggygrK8P8+fNRXFyMAQMGYNOmTc0S2t0pITwIRv82MF2ta1Zm9G/T4i7MLdHStIF4cvV+ycmjpeUznD5/GeOX7ZDcfik00AdfzbgdsR3s99oRUetkb2LPB1MSPdQqxxiEaJI5Sy5jMpkQHByMyspKVRLZ88uqcNdr22yWZz47gsGVTrTkfIaBL39r80bh++eP8kCLiEjLtHhtU3L91l2OFV2nxcXcyDlayWdQ27a8Urs3Cv/OyirPRNS66f3axsBKx5j8TFqX+3OF3fKcwovuaQiRA/SYKN0S6f3apvkcKyLSrwEdQ+yWD+oU6p6GENmh50TplkjvE3vYY6Vjeu8upZZvePcIhNq4MIUG+nB2IGkC74CgPXpeqJQ9Vjqm9+5Sah2+mnE77l32vdVZgUSe1ngHhKYs74Cg9R6SlkjPC5UysNIxvXeXUusQ2yEQ++ePwnfHy5BTeJHrWJGm8A4I2qbHhQsYWOlca1gHiVqGO7qFM6AizWHPvzY5k/eWX1aF0xeqPd67xcBK5wT0F81Tc1o5IRC1Nuz51yYlC4RqbfIBk9d1jkmX+lZRXYOJ7+7BXa9tw+SVP+DOv2Zh4rt7UGlj7SciUp+eE6Vbosa8t/omw4CWeW+WtHYdZI+Vjuk96ZK9NPq+bQNRS6HnROmWSEnemxavgwysdEyvSZda67b1FC2eEIhaEqVf3uLDGFBpgZK8Ny1eBxlY6Zheky7ZS/MLLZ4QiFoCfnnTt4TwIAQH+KDySvOUiOAAH8l5UYvXQeZY6VhCeBBu69LBatltXTpo8qKsdOy8JdPiCYGoJdBazg0pk19WZTWoAoDKK7Wav04wsNI5W0t8aHXpD64Wf13jbCRvg0Gy3dtgwLBu4ZoMjIm0jl/e9G93wXn75fnXy7V4TWFgpWP5ZVXIzrf+AczOP6/JEwh7aaQ4G4lIXVq80JJSBrulliGzFq8pzLHSMebo6B9nIxGpS4sXWlImJtjfbnnH0ADzz1pch4w9VjpWWnnVbnn5pWtuaonj+G3SuviwtrizewSDqv/IL6tCZl6pJntdSds4xK5/DTLldQ3SYd6F43vDGCDtJzIGtMF/j++jcsscw8BKx44Wm+yWHzlnv9wT+G2S7OGCqaQGDrHrm1xg0sZLGjT/+YvDMF2pk2wzXanD818cUrlljuFQoI61b+tnvzzI100tcVzjTMadJ5vnhml1JiO5j56X4uCCt9rh7BA7j6E2nKu8Yrf87MXr5VpcD5CBlY7d3S8ar2/+yU55jBtb47i6eusdvba2U+ugxROkI7hmknY5uuAnj6G2lF2qsV9edT3NRYu5xhwK1LGE8CB425g84W2AJi9C+WVV2HPqotWyPacuMqemFdNr/h3XTNI/HkNtCW9nf7QlPOj6aI0W00sYWOnYtrxS1NtYr6peAN9Z+fbvaUrWJ6HWRYsnSLkkeq6ZpH88htqTFG994WtzecL18oTwICTGhVqtlxjXnrMCSZncnyvslucUWu8Z8qQfCi7YLd97yn45tVxams3laBK9XnvZ6DoeQ/3LK7lkY7tnJnAxsNKxqHb21/qICQ6wW+4Jpqt1dssrbNzGgPTPkSUUtDKby9GhIS32srV0ai/FoXQGGrne+gPn7JZvsCjflleKyivWryuVV+o8MnLD5HUdU7rWhxYM6BiCLUdLbZYP6mS9S5f0S0lisBYWTFWSRM9Zru7jqgRzPZ5HW7oLl+0nr5dbJK87MnJzR7dwNZrlMPZY6VjZJfsLhJ6v0t4Cob07Btst7xljdFNLyF2mf5TTLFDZfrwMj3+0z+bveHLBVKVDQ3q7X6deuSrBnL2O7ifX69gzyv51oHfM9euIFkdu2GNFbsWTWOviyP0stdaro2RoSI/7p0euXIpDi7dEaakc7XVsgP1vJfUWvYgRMre/CWtnf71HV2CPlY6dKrf/zVqLs1nckaCsx9uh6LHNjtgtM1lhlwZngSoZGmLis3u4+n3WSm5fS+d4r6PjN2HW4q3d2GOlY0eLKu2Xn7Nf7ikLx/fBuGXf46LFDCs17uukx0X+9NhmZex/89RiWrCSXlX2wLqHq9/nxty+7T+VYv+ZCgzqFOr2vJyWTkmvY1J8e7uvdavFcgvFMikxcqu4uwJ7rHTskswMu0vX6t3UEmWe+/yAJKgCgIvVtZj7+YEbel09LvKnxzY3cqSXTcl6NFqhpFc1ITwIyTb2ITlB+8nreukpdXVPd+PyGhPf+wFvbD6O37+7h/eoVJmSXkcl/1dazLFiYKVjQf72OxyD/LTXIZlfVmV1BhUA7Dx53ukTvB4X+XNXm7flleJvGT+pNu1YyY2SE8KDcIvNxftCNRt4KBkaqmuwPnhYb2O7FujxZteuHK5zZoIFKaO01/H5X/dsttRFGy8DXhjbU7JNizlW2rvyksN6RQfjWHGV7XINzrBzZOV1Zy627rpflJo3aXV1m0+fv4zxy3ZIegdDA33w1YzbEdvB/knOHqU3Sq63MV1dy9PYHV32Ib+sCj/I3KJJi8GjHm927aqlODgBwT0SwoMQGujTbLQC+OW81PQ9/q93dzc7R9Q1CDz8j93IXTDKvE2LOVbssWrBtJi/ouTmmko4m4Ph6FCIK77huzpvpGlQBfwy5Hrvsu+dfk2lvWz5ZVXIKayw+lo5hRWa7Em0JGTWTNBjcr4We3eVDEmqvRSHHo+hHuWXVVkNqoBfzkuWx35bXqnNxaIrrtRKet+1mGPFHisdK5L5wJyrcP8HSp5rkpmVTplWmjTuim/4Z2R6rH6+WO30xWNbXqndk9h3x8ucSs5V2svmyArK6Xd1U9wOV3P086HHteTc1bvrCG1M3tDfBAs9UvK5y8yzvYg0AGw9Wmo+fzHHilQVLTO2HBOivVvahMuMd4cFOT8eriQHQ0nSuKu+4bvyXo+uem2lvWxKVlC2pHZemFKOfj7CZU7qHW7g8+wqWprJqIXJG3qcYKFHSj53Bplw1nIOQ4nMl5sSk/1yV2CPlY4Vy4wty5V7gitPYkryYpQsNuiqb/gDOobYLb+R2/s4+y1OLodMac+gkhWUAdflhSnhqmnhWqE018VVXLnopxIJ4UEw+rexeh9To3+bFpVfpWaOqFJKPnc3RwXZfa2bI9uZf95lYzJUo+yT5W7vFWdgpWP5Mj0lJ8psJ7Z7ysYDRXbL/32wCE/c2fWG/kZ8mP2ThtJAyVU3aR3ePcLuieZG1tFROlNGyZDM0rSBeHL1fkldWz2DSlZQBoB73/6+2Q1VL1bX4u63v8OPC1LtvpZatDRU5gqO5Lq4Y/+08j7nl1XZvDm86Wpdi0he18KQq5LPnZIv4HJTYDwxRYZDgTomd0H38dbe4d1xstxuuRpDP3KJsEqHQlx5k9Yl9/ezuv2vv+1v9/fU3kclQzKNPYOZz47Aysm3IPPZEfhgSqLVE7SSyQpauUu9kvfOkVmuWqOV1eK1MiTpSB6g3mlhyFXpOlZGG8sFGf2kvYjjB9xk93V/M7Cjglaqgz1WOlYrs05Obb321tGRSyTsGOr8cI+j38qUDoW48gLwmI11cqZ9uBcnF41ttl3JPjo6ZOfskIxczyAAnJLpVT1tUS6XsJpxtOSGV8NWfyjE8VtvuIvcPrqqB1Ypd9yjz5HjXSBza7D8Mm3PXJXj7P+32v8rSs6j+WVVMF2z0Yt4TdqLeIvMcPyQOPvlrqC9Lg1yWHmVc4nBntQuwLlFTR2Zjv3Ex9YX+Zv+sTR4UTLtF3Ddqs9r9hSi3saVt14Aa/eeabZdyTfPheP7wNjk/bZ26yBX9mCYrtpfjsJySnX7tr52697IxAYly2UoeT+0EqQAju+jK3tglXLVop9Kjnd8mP0LfkL4jS3V4mpy7VD6/+2qxWOVnEeV9CJ+mH3Kbt2PZMpdgYGVjsl1SNVpr8MKJhtDPebyJhdiR//Jlazo7kwg4cwFQO6Et2rnKbvtWPl9QbPXUzI78c9fHGr2fpuu1OH5Lw5JtrmyR05Jgv7d/WLs1h1ro9yRC5ySgFRJsHS02GS37pFz9ssdpeY+amUIDlA2rKyEkuPdX+Yz2j9WWq6VVesdbYfS4+3KVegdPY8e+Nn+fW4PnLlebmtx10a2rguuxKFAHfOC/W+fWoyaC2S61ZuWO7p+lJIV3Z25sAgFgzqODtddqLbfo9i0XEmyr5Lu/4TwINzWpYPVE9BtXW7sfncd2tnvhbLspUoID0JiXHvsOdV8wcbEuPZOr0WmdCjkR5mlKn48U2Eekmzf1n4vWvsg6/vv6DCLK/bR2SE4V84oc2RY2dF2KD3ecgtInr0oLdfKqvXTP8ppFlQ0BkCrp91q3qY0LcDZVegd+Xw4OnNbrp9XGK7vx2WZe+ZWXXNvwAto89pLDvKSOXpy5Z5wouyS/fLS6+XKemgcz3VxZmjP0WFGwPFvy6EBMkFHoPSirSQgVNorZ2uBcXsLjzs2FKIsB+nvE4dgWJM8qmHdwvH3iUOa/a6j77PS90LJt+X+HYPt1AQG3GBvh6v2UUkPrN56aJS+Fz8V2z8nHS9x9pzkPLn/LUcCIEuOHm9nVqF35vNxo6vne1mcV4QGV3Blj5WOyQ31aXEosE5m/NIy4V5JD43S9YSULBngyDCjMz1Fse0DcazE9pIYHdtLE/2VfPNUcv8spd9SlUzdjpFZ9qFjqHQfHe0ZVPI+K+2hlD1PW3xb/jLXfi7IF/vPShLulfR2uHIfG3sOtv9Uhv1nLmJQp1CbEwO00kPjaDuUvhdnLtrvsTpz4Xq5q5eIcPR/y5EAyLIdjt9nUfkq9M58PuR6t+RubVZqcf7ylelB8PX2tlvuChrs06CWTO5O45YrWSvJdUkID0KQr/V/oHa+3s3+eRtPNP9zf1+MHxiDJb/tZzO3Q8mUejUTwa2tPuzoN08luT9K26wkf8WRYTVnXtuVCfft/O3n9xgtyvPL7a8Vl2+xlpzS3g6l09NDbeQlWZvp2tjLMPG9PXhj83H8/t09NnMXtXBfQSXtUNojfdnG7DNzec31clfnpzn+v+XcbXjkeoqULuCs9PPhaO+WQeb7leX+BQfY/3+VK3cFBlbkVjUy3Wg1Fj1W52R6XX62+KaZX1aFqpp6q/Uu1dQ3v2idv4yBL3+Luf86iC/2n8Ocfx7AwJe/xZnzzS9mSoYKlJx4T8os4HqitHm5o8m+Sm4JoXQatJITqZJhNSWv7cphUbl7cFqWt/Wx/23Ycpar0nYo+WKhdKarFgJYJVw51Bkl06saabxe7qoZwoCyz7+zd7CQG2JszLe0xlq+pdLj4mhifFy4/ZXX4yza8VOJ/fNznsyXTFdgYEVuJbdgZKnpehevkhvcKp1ye+/bO5pdiH5Z4fv7Zr9bITOT0dYFTY6SILOpwvOXceDnCvx80fqJTcktIZRQeiJt5y+zvIb/9cBEaQ+Noxc4pb0MFdX2P6OW9z88L1PXckkUpUszKFkWQcl7p+QCrpXlJJS2o/ELyAeP3IKnf9UNH05JtNkj3SXM/v9K1whpuStmCAPKP/9KAiAleVDLJwy2mue4fMLgZnWVfilzNC9M7nh7Wxzvy7X2/1Pkyl2BOVbkVnIfcWf/BY7J9CodLbr+reWXFb6tB0OVV2rx3fEySb6J3KXD8pyuJAejztYiVv9RbyWwcvReekq+0Spps9Ig5db4Dli333YeUnKX6xcopa/taJ5cQngQQgJ8JGtmNQoJaD5M5i/TC+Xvc/20WSNz0rYMnpWuH6UkT05J4KHkeCvpNXYlpe+dkjzAkzLDuU17jpXkpylph9LP//IJg5t9/htfu6knPs5plifaOPnmk6m3SrYrmQGthJK8sP0yN4nfd9r5G9S7A3usSMMcn1Em18tgGUhl5jVPCLaUcVS6AnjTRTabCrLolVFyMZRbwNUyQbORoz1tZ2QunpY9XUrarDSXR+5kapmfpqTNgLJEd2tBFfDLAqVNexFsBd2NTBblcsfQstdV6YVTSZ6cksBDSTvkhsFPyAzDqEXpe6dkFq8D0xUkHM1PA5TlIyodZnS0V07JGn8AMHnlHqvv3eSVu5v9vrIebMfzwi7InM8vXtbe4teWGFiRZmUeLbFbnmURAMl9c7a8aJtkLpxVTRYp9ZI58baxmJVSLDN8ablmTp1MXNC03JGetkZf5J61+9rrcq6XK2mz0lyeI0X2c6wOn7teniuT6J7T5FusoxdPpffzq5RZLb7y6vWT/mUbeX3WypUGpa7Kk/tBJtjda7GOmFzw2nQ40VmO5P44+t4pDSS6yORFNR0KdDRYcibxf+H43g7dLQGwDPB+sBvgKfn855dVYf8Z6/+zOWcqm7VZyedOSS/61Vr76RdXZMo9jYEVadbBs/YvypYzzuQuAJbf6I+cs/+6TVfL3ilz4+gdJ65f3A/LJGsfvYGVuJX0tJVU2v9GV2K6Hkx5y1zAfSwCR7UTsL0sogMlq7QruXgquRE0ANTLDtFeL2/jLRN0ezufYK4kT+6XWbHW3+0gXy9J4LH6h0K7r/vJ7uvlPaOMduv2jrG9jpcjeUVK7qzg6HunNJD+cNcpu/Ut8zeVBEvOJP4/s/ZHqz3Sz6zNbVbX8d4wx3v+leaqKgl4E8KD0M7BGyvXyMRNcuWexsBKoWXLliEuLg7+/v5ISkrCnj17PN2kFktJj46Pl/28GB/v6x/1MzYSvhs1PSH+ZGV2nqU8i7Wosn6yfyPhrcfs98LZ85PM0JDlsEy1zJnnikVPilxPUW7h9XIlw4aAI2sE2T8Wtii7eCqbmi47WcGivFYmCLPMo1N6oVXyDf+XWbHWBwSrahokF/ymx6gpy+HNCJkZc9aWT1GSKO2K2YlKeuQAoEQm8C6ymFCjpB1K/1fyy6rwwynruUN7Tl2UHENXTUCQz1WVlisJePPLqnBJ5sbKjVyVi+suDKwUWLNmDWbPno0FCxYgJycH/fv3R2pqKkpL7V9MyfUuygzvWf7zV9u4AF0vlw7vyN2T1rJcZmRIttyeH2100Tfab7Em1GGZXrmDFuXHiuwHbJa5Pp/usd/bsXr3acnzS9fs77DJovzNLT/ZrfvGt9fLtx61/z+Xeex6+UG5JR9kyu2R+2xYxl2unGH39tbjdsuXWZRXyazbZDkUvl5mAdSNB4qabZv6wV6rQ7RTP/hBsk1JcKAkSJHrYf7+hP1ye5QMfSkZYgeU3XhYSYCnJFevh0wPZY9o6WxiJe1Qsn96x8BKgddffx1Tp07F5MmT0atXL6xYsQKBgYF47733PN00UkAuK8Q1c2JuXHWt/SDFMiCUm2Fs2dNy8bLM8gIWPRhHZIKwwzcw1FkgsyZSwfnrPYOWgZM1GRY9g8dkLixHZfLA1CK3SvuX+6V5cUouWtt+sh8sZP10PdBR0iO38VDzwMlS04ulkl4XJfu3RSbfcvORYvPPxSb7n+dik/OJz0oSzJUMbQOQXWw13+I+qkoCPCU3vpfrFT/eZLKCki8LFy7b//JruTSJ3jGwclBNTQ327duHlJQU8zYvLy+kpKQgOzvb6u9cu3YNJpNJ8iBylqsCwmqZKMyy/JrM0JdcuT2mavsXgEqLctlhYotdkrunnbvuebdHbviySbmSi9ZVuaFfmV4qm78n89loWq6kV2L1rtN2agJrLHpHZfPkZMrV5Og6VrEywU/HUGl5iMy9Q0MscpmUzKAtllnwttiiN/CATF5rbpM7JSi5s0LPKPtr5/WOsd9bpidcx8pB5eXlqK+vR2RkpGR7ZGQkjh07ZvV3Fi1ahJdeeskdzSNyCwPsB3A3slykq/IqvGSG2LzdtMil7GKpTRJ7lSyhEBnsj/xy2xdby9XF2xjsB6ZtbuDtUNIrcUSmd+SQxXD1wE7BdnMBB3UKMf/czs/b7hC00e/G7h3n6H33lN5XUMlkBUdm0DaurSX/hex6jYh2/rh0zXbPWYRRmnOn5Hg7k6+nV+yxcqF58+ahsrLS/Dhz5oyqr98r0v4/Yp9o+98QSF+i2tn/RhtjdPzEZHnt7CnzOept8Tka2NH2LDAAGGxxgQMAuWuYxcLriA2xf+LtbHHDZiV1R/aItFMTSOkVZbdcLX+4Ld5u+SO3J0ieKxnueWxYF7t1Hx/R1fzzrJSb7dadPaq7+ecuHey3oVu4NKC4s7v1hTIbjewZYf45Kc5+cn5ywvVeod8nx9mt+18W5X8e28tu3Rfu6S15LhdoBdsol7vvntK1t5RMVlAyzDh+wE126/5mYEfzz/Pvsf/evXiv9L1TcryVvB8BMtF94I1E/27AwMpBYWFh8Pb2RkmJdKy/pKQEUVHWT8x+fn4wGo2Sh5o2Pj3cbvn6mcNU/XtqOPXqWIfLtVBXS+3Y9fyv7Nbf+afrw9Ryr11gUa7kc/R5+u126/7ziaGS53n/bb8dxyzKv3tupN262+be5VTd1x4cYLfukt/1lzx31TF8MLGTzROuF4DfDYmVbFOSz/NgYiebvYWGJq+dPrKb3TY/cef1ICxjzp12625+ZoTk+fDuETZvehsc4CNZoVzJcUkID8KgWOtB/aDY4GbvhT1N3+cDL422W/9HmXJblC74qeQ2NcO7R9hd5sDyfX4wsRNsrQribZC+H8O7RyDQx/qnNNDHq9kK80qOt5L34+jCX1tv8H8csShXeh51BwZWDvL19cXgwYORkZFh3tbQ0ICMjAwkJyd7rF1P3mn9m6qt7eR60e2sn2hsbVfiwSHWv31a296lQ4CVmta3K/kczRllvcfD1vZb46xfEK1tn3hrrJWa1rcrqfuWjYu4re22+v6sbQ+wcRa1tn39k7c3m/3XxsuA9U9aD1iV3Jdug43X3mDltdc0uY2Jve1Tb4+zWtfW9vXptze76IcG+mC9laBcyXFZOTnJ6j3sVk5OalZ3o433YqON93lUT+s9L7a2O0rpfQWV3KfvqxnW3+evZjTfx6/Trb8fX1s5Jt/MGm71db+ZZf0LmJLjreT9uL1LaLNt9rZriUEIlZbObQXWrFmDSZMm4X//93+RmJiIN998E5999hmOHTvWLPfKGpPJhODgYFRWVqree3X337bjp9Iq3BwRpMmeKmvinttg/lnuW4UW6mqpHbe9sgVFpmuINvpJeqqsiX9uAwR+6bkokHltJZ+j376zA4eLTOgdbWzWU2VNj+c34Gr9L8N/x2R6sob/z1acqbiC2JAASe/Tjdads/ZHZOeXIzkhrFlPlTWuOoZr957BjpPlGNolrFkPijVy+TzOvvY7mSfM98a07Kmy5levZaHg/GXEd2jbrKfKmu+OlyGn0P699BopOS6uei8AoP+CTai8Vo9gP2+ne6qsUdJmpfWVvM9K3g8lr6u0vpL96/XnjaiuEwhsY5D0VFmj9DyqhJLrNwMrhd5++20sWbIExcXFGDBgAN566y0kJTX/xmSNKwMrIiIicg0GVhrFwIqIiEh/lFy/mWNFREREpBIGVkREREQqYWBFREREpBIGVkREREQqYWBFREREpBIGVkREREQqYWBFREREpBIGVkREREQqYWBFREREpJI2nm5Aa9K4yL3JZPJwS4iIiMhRjddtR25Ww8DKjS5dugQAiI2VvxkoERERaculS5cQHBxstw7vFehGDQ0NOHfuHNq1aweDwaDqa5tMJsTGxuLMmTMt8j6E3D/9a+n7yP3Tv5a+j9w/5wkhcOnSJcTExMDLy34WFXus3MjLywsdO3Z06d8wGo0t8h+mEfdP/1r6PnL/9K+l7yP3zzlyPVWNmLxOREREpBIGVkREREQqYWDVQvj5+WHBggXw8/PzdFNcgvunfy19H7l/+tfS95H75x5MXiciIiJSCXusiIiIiFTCwIqIiIhIJQysiIiIiFTCwIqIiIhIJQysWoBly5YhLi4O/v7+SEpKwp49ezzdJKcsWrQIt9xyC9q1a4eIiAiMHz8eeXl5kjojRoyAwWCQPB5//HEPtVi5F198sVn7e/ToYS6/evUqZsyYgQ4dOiAoKAj3338/SkpKPNhiZeLi4prtn8FgwIwZMwDo7/ht374d99xzD2JiYmAwGPDFF19IyoUQmD9/PqKjoxEQEICUlBQcP35cUufChQuYMGECjEYjQkJCMGXKFFRVVblxL+yzt4+1tbWYO3cu+vbti7Zt2yImJgYTJ07EuXPnJK9h7bi/+uqrbt4T6+SO4R/+8IdmbR89erSkjp6PIQCr/5MGgwFLliwx19HqMXTkuuDIebOwsBBjx45FYGAgIiIiMGfOHNTV1bmkzQysdG7NmjWYPXs2FixYgJycHPTv3x+pqakoLS31dNMU27ZtG2bMmIFdu3Zh8+bNqK2txahRo3D58mVJvalTp6KoqMj8WLx4sYda7JzevXtL2v/999+by55++ml8/fXXWLt2LbZt24Zz587hvvvu82Brlfnhhx8k+7Z582YAwO9+9ztzHT0dv8uXL6N///5YtmyZ1fLFixfjrbfewooVK7B79260bdsWqampuHr1qrnOhAkTcPjwYWzevBnr16/H9u3bMW3aNHftgix7+1hdXY2cnBy88MILyMnJweeff468vDzce++9zeq+/PLLkuP65JNPuqP5suSOIQCMHj1a0vbVq1dLyvV8DAFI9q2oqAjvvfceDAYD7r//fkk9LR5DR64LcufN+vp6jB07FjU1Ndi5cyfef/99rFq1CvPnz3dNowXpWmJiopgxY4b5eX19vYiJiRGLFi3yYKvUUVpaKgCIbdu2mbcNHz5czJw503ONukELFiwQ/fv3t1pWUVEhfHx8xNq1a83bjh49KgCI7OxsN7VQXTNnzhRdunQRDQ0NQgh9Hz8AYt26debnDQ0NIioqSixZssS8raKiQvj5+YnVq1cLIYQ4cuSIACB++OEHc51///vfwmAwiLNnz7qt7Y5quo/W7NmzRwAQp0+fNm/r3LmzeOONN1zbOBVY279JkyaJcePG2fydlngMx40bJ+666y7JNr0cw6bXBUfOmxs3bhReXl6iuLjYXGf58uXCaDSKa9euqd5G9ljpWE1NDfbt24eUlBTzNi8vL6SkpCA7O9uDLVNHZWUlAKB9+/aS7R9//DHCwsLQp08fzJs3D9XV1Z5ontOOHz+OmJgYJCQkYMKECSgsLAQA7Nu3D7W1tZLj2aNHD3Tq1EmXx7OmpgYfffQRHnnkEclNx/V+/BoVFBSguLhYcryCg4ORlJRkPl7Z2dkICQnBkCFDzHVSUlLg5eWF3bt3u73NaqisrITBYEBISIhk+6uvvooOHTpg4MCBWLJkicuGWVwhKysLERER6N69O6ZPn47z58+by1raMSwpKcGGDRswZcqUZmV6OIZNrwuOnDezs7PRt29fREZGmuukpqbCZDLh8OHDqreRN2HWsfLyctTX10s+LAAQGRmJY8eOeahV6mhoaMCsWbMwdOhQ9OnTx7z94YcfRufOnRETE4MDBw5g7ty5yMvLw+eff+7B1jouKSkJq1atQvfu3VFUVISXXnoJd9xxBw4dOoTi4mL4+vo2u2BFRkaiuLjYMw2+AV988QUqKirwhz/8wbxN78fPUuMxsfb/11hWXFyMiIgISXmbNm3Qvn17XR7Tq1evYu7cuUhLS5Pc5Papp57CoEGD0L59e+zcuRPz5s1DUVERXn/9dQ+21jGjR4/Gfffdh/j4eJw8eRJ/+tOfMGbMGGRnZ8Pb27vFHcP3338f7dq1a5ZioIdjaO264Mh5s7i42Or/aWOZ2hhYkSbNmDEDhw4dkuQfAZDkNfTt2xfR0dEYOXIkTp48iS5duri7mYqNGTPG/HO/fv2QlJSEzp0747PPPkNAQIAHW6a+d999F2PGjEFMTIx5m96PX2tWW1uLBx54AEIILF++XFI2e/Zs88/9+vWDr68vHnvsMSxatMjjtxeR89BDD5l/7tu3L/r164cuXbogKysLI0eO9GDLXOO9997DhAkT4O/vL9muh2No67qgNRwK1LGwsDB4e3s3m/1QUlKCqKgoD7XqxqWnp2P9+vXIzMxEx44d7dZNSkoCAJw4ccIdTVNdSEgIbr75Zpw4cQJRUVGoqalBRUWFpI4ej+fp06exZcsWPProo3br6fn4NR4Te/9/UVFRzSaS1NXV4cKFC7o6po1B1enTp7F582ZJb5U1SUlJqKurw6lTp9zTQBUlJCQgLCzM/JlsKccQAL777jvk5eXJ/l8C2juGtq4Ljpw3o6KirP6fNpapjYGVjvn6+mLw4MHIyMgwb2toaEBGRgaSk5M92DLnCCGQnp6OdevWYevWrYiPj5f9ndzcXABAdHS0i1vnGlVVVTh58iSio6MxePBg+Pj4SI5nXl4eCgsLdXc8V65ciYiICIwdO9ZuPT0fv/j4eERFRUmOl8lkwu7du83HKzk5GRUVFdi3b5+5ztatW9HQ0GAOKrWuMag6fvw4tmzZgg4dOsj+Tm5uLry8vJoNoenBzz//jPPnz5s/ky3hGDZ69913MXjwYPTv31+2rlaOodx1wZHzZnJyMg4ePCgJkBu/IPTq1csljSYd+/TTT4Wfn59YtWqVOHLkiJg2bZoICQmRzH7Qi+nTp4vg4GCRlZUlioqKzI/q6mohhBAnTpwQL7/8sti7d68oKCgQX375pUhISBDDhg3zcMsd98wzz4isrCxRUFAgduzYIVJSUkRYWJgoLS0VQgjx+OOPi06dOomtW7eKvXv3iuTkZJGcnOzhVitTX18vOnXqJObOnSvZrsfjd+nSJbF//36xf/9+AUC8/vrrYv/+/eYZca+++qoICQkRX375pThw4IAYN26ciI+PF1euXDG/xujRo8XAgQPF7t27xffffy+6desm0tLSPLVLzdjbx5qaGnHvvfeKjh07itzcXMn/ZeNsqp07d4o33nhD5ObmipMnT4qPPvpIhIeHi4kTJ3p4z35hb/8uXboknn32WZGdnS0KCgrEli1bxKBBg0S3bt3E1atXza+h52PYqLKyUgQGBorly5c3+30tH0O564IQ8ufNuro60adPHzFq1CiRm5srNm3aJMLDw8W8efNc0mYGVi3A0qVLRadOnYSvr69ITEwUu3bt8nSTnALA6mPlypVCCCEKCwvFsGHDRPv27YWfn5/o2rWrmDNnjqisrPRswxV48MEHRXR0tPD19RU33XSTePDBB8WJEyfM5VeuXBFPPPGECA0NFYGBgeI3v/mNKCoq8mCLlfvmm28EAJGXlyfZrsfjl5mZafUzOWnSJCHEL0suvPDCCyIyMlL4+fmJkSNHNtvv8+fPi7S0NBEUFCSMRqOYPHmyuHTpkgf2xjp7+1hQUGDz/zIzM1MIIcS+fftEUlKSCA4OFv7+/qJnz57ilVdekQQmnmRv/6qrq8WoUaNEeHi48PHxEZ07dxZTp05t9sVUz8ew0f/+7/+KgIAAUVFR0ez3tXwM5a4LQjh23jx16pQYM2aMCAgIEGFhYeKZZ54RtbW1Lmmz4T8NJyIiIqIbxBwrIiIiIpUwsCIiIiJSCQMrIiIiIpUwsCIiIiJSCQMrIiIiIpUwsCIiIiJSCQMrIiIiIpUwsCIiIiJSCQMrIqIbcOrUKRgMBvN9D4modePK60REN6C+vh5lZWUICwtDmzZtPN0cIvIwBlZERE6qqamBr6+vp5tBRBrCoUAiov8YMWIE0tPTkZ6ejuDgYISFheGFF15A4/fPuLg4/OUvf8HEiRNhNBoxbdo0q0OBhw8fxt133w2j0Yh27drhjjvuwMmTJ83l//jHP9CzZ0/4+/ujR48eeOedd9y9q0TkIuy3JiKy8P7772PKlCnYs2cP9u7di2nTpqFTp06YOnUqAOCvf/0r5s+fjwULFlj9/bNnz2LYsGEYMWIEtm7dCqPRiB07dqCurg4A8PHHH2P+/Pl4++23MXDgQOzfvx9Tp05F27ZtMWnSJLftJxG5BocCiYj+Y8SIESgtLcXhw4dhMBgAAM899xy++uorHDlyBHFxcRg4cCDWrVtn/p1Tp04hPj4e+/fvx4ABA/CnP/0Jn376KfLy8uDj49Psb3Tt2hV/+ctfkJaWZt62cOFCbNy4ETt37nT9ThKRS3EokIjIwq233moOqgAgOTkZx48fR319PQBgyJAhdn8/NzcXd9xxh9Wg6vLlyzh58iSmTJmCoKAg82PhwoWSoUIi0i8OBRIRKdC2bVu75QEBATbLqqqqAAB///vfkZSUJCnz9va+8cYRkccxsCIisrB7927J8127dqFbt24OBz79+vXD+++/j9ra2ma9VpGRkYiJiUF+fj4mTJigWpuJSDs4FEhEZKGwsBCzZ89GXl4eVq9ejaVLl2LmzJkO/356ejpMJhMeeugh7N27F8ePH8eHH36IvLw8AMBLL72ERYsW4a233sJPP/2EgwcPYuXKlXj99dddtUtE5EbssSIisjBx4kRcuXIFiYmJ8Pb2xsyZMzFt2jSHf79Dhw7YunUr5syZg+HDh8Pb2xsDBgzA0KFDAQCPPvooAgMDsWTJEsyZMwdt27ZF3759MWvWLBftERG5E2cFEhH9x4gRIzBgwAC8+eabnm4KEekUhwKJiIiIVMLAioiIiEglHAokIiIiUgl7rIiIiIhUwsCKiIiISCUMrIiIiIhUwsCKiIiISCUMrIiIiIhUwsCKiIiISCUMrIiIiIhUwsCKiIiISCX/D6urowOhJmEWAAAAAElFTkSuQmCC",
      "text/plain": [
       "<Figure size 640x480 with 1 Axes>"
      ]
     },
     "metadata": {},
     "output_type": "display_data"
    }
   ],
   "source": [
    "# Visualizamos dos variables en ScatterPlot\n",
    "data.plot(x='price', y='num_subscribers', kind='scatter')\n"
   ]
  },
  {
   "cell_type": "markdown",
   "metadata": {},
   "source": []
  },
  {
   "cell_type": "code",
   "execution_count": 3,
   "metadata": {},
   "outputs": [
    {
     "data": {
      "text/html": [
       "<div>\n",
       "<style scoped>\n",
       "    .dataframe tbody tr th:only-of-type {\n",
       "        vertical-align: middle;\n",
       "    }\n",
       "\n",
       "    .dataframe tbody tr th {\n",
       "        vertical-align: top;\n",
       "    }\n",
       "\n",
       "    .dataframe thead th {\n",
       "        text-align: right;\n",
       "    }\n",
       "</style>\n",
       "<table border=\"1\" class=\"dataframe\">\n",
       "  <thead>\n",
       "    <tr style=\"text-align: right;\">\n",
       "      <th></th>\n",
       "      <th>course_id</th>\n",
       "      <th>course_title</th>\n",
       "      <th>url</th>\n",
       "      <th>is_paid</th>\n",
       "      <th>price</th>\n",
       "      <th>num_subscribers</th>\n",
       "      <th>num_reviews</th>\n",
       "      <th>num_lectures</th>\n",
       "      <th>level</th>\n",
       "      <th>content_duration</th>\n",
       "      <th>published_timestamp</th>\n",
       "      <th>subject</th>\n",
       "    </tr>\n",
       "  </thead>\n",
       "  <tbody>\n",
       "    <tr>\n",
       "      <th>0</th>\n",
       "      <td>1070968</td>\n",
       "      <td>Ultimate Investment Banking Course</td>\n",
       "      <td>https://www.udemy.com/ultimate-investment-bank...</td>\n",
       "      <td>True</td>\n",
       "      <td>200</td>\n",
       "      <td>2147</td>\n",
       "      <td>23</td>\n",
       "      <td>51</td>\n",
       "      <td>All Levels</td>\n",
       "      <td>1.5</td>\n",
       "      <td>2017-01-18T20:58:58Z</td>\n",
       "      <td>Business Finance</td>\n",
       "    </tr>\n",
       "    <tr>\n",
       "      <th>1</th>\n",
       "      <td>1113822</td>\n",
       "      <td>Complete GST Course &amp; Certification - Grow You...</td>\n",
       "      <td>https://www.udemy.com/goods-and-services-tax/</td>\n",
       "      <td>True</td>\n",
       "      <td>75</td>\n",
       "      <td>2792</td>\n",
       "      <td>923</td>\n",
       "      <td>274</td>\n",
       "      <td>All Levels</td>\n",
       "      <td>39.0</td>\n",
       "      <td>2017-03-09T16:34:20Z</td>\n",
       "      <td>Business Finance</td>\n",
       "    </tr>\n",
       "    <tr>\n",
       "      <th>2</th>\n",
       "      <td>1006314</td>\n",
       "      <td>Financial Modeling for Business Analysts and C...</td>\n",
       "      <td>https://www.udemy.com/financial-modeling-for-b...</td>\n",
       "      <td>True</td>\n",
       "      <td>45</td>\n",
       "      <td>2174</td>\n",
       "      <td>74</td>\n",
       "      <td>51</td>\n",
       "      <td>Intermediate Level</td>\n",
       "      <td>2.5</td>\n",
       "      <td>2016-12-19T19:26:30Z</td>\n",
       "      <td>Business Finance</td>\n",
       "    </tr>\n",
       "    <tr>\n",
       "      <th>3</th>\n",
       "      <td>1210588</td>\n",
       "      <td>Beginner to Pro - Financial Analysis in Excel ...</td>\n",
       "      <td>https://www.udemy.com/complete-excel-finance-c...</td>\n",
       "      <td>True</td>\n",
       "      <td>95</td>\n",
       "      <td>2451</td>\n",
       "      <td>11</td>\n",
       "      <td>36</td>\n",
       "      <td>All Levels</td>\n",
       "      <td>3.0</td>\n",
       "      <td>2017-05-30T20:07:24Z</td>\n",
       "      <td>Business Finance</td>\n",
       "    </tr>\n",
       "    <tr>\n",
       "      <th>4</th>\n",
       "      <td>1011058</td>\n",
       "      <td>How To Maximize Your Profits Trading Options</td>\n",
       "      <td>https://www.udemy.com/how-to-maximize-your-pro...</td>\n",
       "      <td>True</td>\n",
       "      <td>200</td>\n",
       "      <td>1276</td>\n",
       "      <td>45</td>\n",
       "      <td>26</td>\n",
       "      <td>Intermediate Level</td>\n",
       "      <td>2.0</td>\n",
       "      <td>2016-12-13T14:57:18Z</td>\n",
       "      <td>Business Finance</td>\n",
       "    </tr>\n",
       "    <tr>\n",
       "      <th>...</th>\n",
       "      <td>...</td>\n",
       "      <td>...</td>\n",
       "      <td>...</td>\n",
       "      <td>...</td>\n",
       "      <td>...</td>\n",
       "      <td>...</td>\n",
       "      <td>...</td>\n",
       "      <td>...</td>\n",
       "      <td>...</td>\n",
       "      <td>...</td>\n",
       "      <td>...</td>\n",
       "      <td>...</td>\n",
       "    </tr>\n",
       "    <tr>\n",
       "      <th>3673</th>\n",
       "      <td>775618</td>\n",
       "      <td>Learn jQuery from Scratch - Master of JavaScri...</td>\n",
       "      <td>https://www.udemy.com/easy-jquery-for-beginner...</td>\n",
       "      <td>True</td>\n",
       "      <td>100</td>\n",
       "      <td>1040</td>\n",
       "      <td>14</td>\n",
       "      <td>21</td>\n",
       "      <td>All Levels</td>\n",
       "      <td>2.0</td>\n",
       "      <td>2016-06-14T17:36:46Z</td>\n",
       "      <td>Web Development</td>\n",
       "    </tr>\n",
       "    <tr>\n",
       "      <th>3674</th>\n",
       "      <td>1088178</td>\n",
       "      <td>How To Design A WordPress Website With No Codi...</td>\n",
       "      <td>https://www.udemy.com/how-to-make-a-wordpress-...</td>\n",
       "      <td>True</td>\n",
       "      <td>25</td>\n",
       "      <td>306</td>\n",
       "      <td>3</td>\n",
       "      <td>42</td>\n",
       "      <td>Beginner Level</td>\n",
       "      <td>3.5</td>\n",
       "      <td>2017-03-10T22:24:30Z</td>\n",
       "      <td>Web Development</td>\n",
       "    </tr>\n",
       "    <tr>\n",
       "      <th>3675</th>\n",
       "      <td>635248</td>\n",
       "      <td>Learn and Build using Polymer</td>\n",
       "      <td>https://www.udemy.com/learn-and-build-using-po...</td>\n",
       "      <td>True</td>\n",
       "      <td>40</td>\n",
       "      <td>513</td>\n",
       "      <td>169</td>\n",
       "      <td>48</td>\n",
       "      <td>All Levels</td>\n",
       "      <td>3.5</td>\n",
       "      <td>2015-12-30T16:41:42Z</td>\n",
       "      <td>Web Development</td>\n",
       "    </tr>\n",
       "    <tr>\n",
       "      <th>3676</th>\n",
       "      <td>905096</td>\n",
       "      <td>CSS Animations: Create Amazing Effects on Your...</td>\n",
       "      <td>https://www.udemy.com/css-animations-create-am...</td>\n",
       "      <td>True</td>\n",
       "      <td>50</td>\n",
       "      <td>300</td>\n",
       "      <td>31</td>\n",
       "      <td>38</td>\n",
       "      <td>All Levels</td>\n",
       "      <td>3.0</td>\n",
       "      <td>2016-08-11T19:06:15Z</td>\n",
       "      <td>Web Development</td>\n",
       "    </tr>\n",
       "    <tr>\n",
       "      <th>3677</th>\n",
       "      <td>297602</td>\n",
       "      <td>Using MODX CMS to Build Websites: A Beginner's...</td>\n",
       "      <td>https://www.udemy.com/using-modx-cms-to-build-...</td>\n",
       "      <td>True</td>\n",
       "      <td>45</td>\n",
       "      <td>901</td>\n",
       "      <td>36</td>\n",
       "      <td>20</td>\n",
       "      <td>Beginner Level</td>\n",
       "      <td>2.0</td>\n",
       "      <td>2014-09-28T19:51:11Z</td>\n",
       "      <td>Web Development</td>\n",
       "    </tr>\n",
       "  </tbody>\n",
       "</table>\n",
       "<p>3678 rows × 12 columns</p>\n",
       "</div>"
      ],
      "text/plain": [
       "      course_id                                       course_title  \\\n",
       "0       1070968                 Ultimate Investment Banking Course   \n",
       "1       1113822  Complete GST Course & Certification - Grow You...   \n",
       "2       1006314  Financial Modeling for Business Analysts and C...   \n",
       "3       1210588  Beginner to Pro - Financial Analysis in Excel ...   \n",
       "4       1011058       How To Maximize Your Profits Trading Options   \n",
       "...         ...                                                ...   \n",
       "3673     775618  Learn jQuery from Scratch - Master of JavaScri...   \n",
       "3674    1088178  How To Design A WordPress Website With No Codi...   \n",
       "3675     635248                      Learn and Build using Polymer   \n",
       "3676     905096  CSS Animations: Create Amazing Effects on Your...   \n",
       "3677     297602  Using MODX CMS to Build Websites: A Beginner's...   \n",
       "\n",
       "                                                    url  is_paid  price  \\\n",
       "0     https://www.udemy.com/ultimate-investment-bank...     True    200   \n",
       "1         https://www.udemy.com/goods-and-services-tax/     True     75   \n",
       "2     https://www.udemy.com/financial-modeling-for-b...     True     45   \n",
       "3     https://www.udemy.com/complete-excel-finance-c...     True     95   \n",
       "4     https://www.udemy.com/how-to-maximize-your-pro...     True    200   \n",
       "...                                                 ...      ...    ...   \n",
       "3673  https://www.udemy.com/easy-jquery-for-beginner...     True    100   \n",
       "3674  https://www.udemy.com/how-to-make-a-wordpress-...     True     25   \n",
       "3675  https://www.udemy.com/learn-and-build-using-po...     True     40   \n",
       "3676  https://www.udemy.com/css-animations-create-am...     True     50   \n",
       "3677  https://www.udemy.com/using-modx-cms-to-build-...     True     45   \n",
       "\n",
       "      num_subscribers  num_reviews  num_lectures               level  \\\n",
       "0                2147           23            51          All Levels   \n",
       "1                2792          923           274          All Levels   \n",
       "2                2174           74            51  Intermediate Level   \n",
       "3                2451           11            36          All Levels   \n",
       "4                1276           45            26  Intermediate Level   \n",
       "...               ...          ...           ...                 ...   \n",
       "3673             1040           14            21          All Levels   \n",
       "3674              306            3            42      Beginner Level   \n",
       "3675              513          169            48          All Levels   \n",
       "3676              300           31            38          All Levels   \n",
       "3677              901           36            20      Beginner Level   \n",
       "\n",
       "      content_duration   published_timestamp           subject  \n",
       "0                  1.5  2017-01-18T20:58:58Z  Business Finance  \n",
       "1                 39.0  2017-03-09T16:34:20Z  Business Finance  \n",
       "2                  2.5  2016-12-19T19:26:30Z  Business Finance  \n",
       "3                  3.0  2017-05-30T20:07:24Z  Business Finance  \n",
       "4                  2.0  2016-12-13T14:57:18Z  Business Finance  \n",
       "...                ...                   ...               ...  \n",
       "3673               2.0  2016-06-14T17:36:46Z   Web Development  \n",
       "3674               3.5  2017-03-10T22:24:30Z   Web Development  \n",
       "3675               3.5  2015-12-30T16:41:42Z   Web Development  \n",
       "3676               3.0  2016-08-11T19:06:15Z   Web Development  \n",
       "3677               2.0  2014-09-28T19:51:11Z   Web Development  \n",
       "\n",
       "[3678 rows x 12 columns]"
      ]
     },
     "execution_count": 3,
     "metadata": {},
     "output_type": "execute_result"
    }
   ],
   "source": [
    "data"
   ]
  },
  {
   "cell_type": "markdown",
   "metadata": {},
   "source": [
    "CONTRASTE HIPÓTESIS\n"
   ]
  },
  {
   "cell_type": "code",
   "execution_count": null,
   "metadata": {},
   "outputs": [],
   "source": []
  },
  {
   "cell_type": "markdown",
   "metadata": {},
   "source": [
    " # ESTIMACIONES\n"
   ]
  },
  {
   "cell_type": "code",
   "execution_count": null,
   "metadata": {},
   "outputs": [],
   "source": [
    "# estimar si la media de subscribers de una asignatura es la misma que la media de subscribers de todas las asignaturas"
   ]
  },
  {
   "cell_type": "code",
   "execution_count": 26,
   "metadata": {},
   "outputs": [
    {
     "data": {
      "text/plain": [
       "subject\n",
       "Business Finance       1563.774895\n",
       "Graphic Design         1763.097844\n",
       "Musical Instruments    1245.130882\n",
       "Web Development        6650.476667\n",
       "Name: num_subscribers, dtype: float64"
      ]
     },
     "execution_count": 26,
     "metadata": {},
     "output_type": "execute_result"
    }
   ],
   "source": [
    "data.groupby('subject')['num_subscribers'].mean()"
   ]
  },
  {
   "cell_type": "code",
   "execution_count": 29,
   "metadata": {},
   "outputs": [
    {
     "data": {
      "text/plain": [
       "3197.150625339859"
      ]
     },
     "execution_count": 29,
     "metadata": {},
     "output_type": "execute_result"
    }
   ],
   "source": [
    "data['num_subscribers'].mean()"
   ]
  },
  {
   "cell_type": "code",
   "execution_count": 32,
   "metadata": {},
   "outputs": [
    {
     "name": "stdout",
     "output_type": "stream",
     "text": [
      "Media de Graphic Design: 1763.10\n",
      "Media general: 3197.15\n",
      "Estadístico t: -7.1528\n",
      "Valor p: 0.0000\n",
      "La media de 'Graphic Design' es significativamente diferente de la media general.\n"
     ]
    }
   ],
   "source": [
    "from scipy.stats import ttest_1samp\n",
    "\n",
    "# Definir el nombre de la categoría específica que deseas analizar\n",
    "categoria_especifica = 'Graphic Design'\n",
    "\n",
    "# Filtrar los datos de la categoría específica\n",
    "grupo_especifico = data[data['subject'] == categoria_especifica]['num_subscribers']\n",
    "\n",
    "# Calcular la media general de num_subscribers\n",
    "media_general = data['num_subscribers'].mean()\n",
    "\n",
    "# Realizar el test t para una muestra\n",
    "stat, p_value = ttest_1samp(grupo_especifico, popmean=media_general)\n",
    "\n",
    "# Mostrar resultados\n",
    "print(f\"Media de {categoria_especifica}: {grupo_especifico.mean():.2f}\")\n",
    "print(f\"Media general: {media_general:.2f}\")\n",
    "print(f\"Estadístico t: {stat:.4f}\")\n",
    "print(f\"Valor p: {p_value:.4f}\")\n",
    "\n",
    "# Interpretación\n",
    "if p_value < 0.05:\n",
    "    print(f\"La media de '{categoria_especifica}' es significativamente diferente de la media general.\")\n",
    "else:\n",
    "    print(f\"No hay evidencia suficiente para decir que la media de '{categoria_especifica}' es diferente de la media general.\")\n"
   ]
  },
  {
   "cell_type": "code",
   "execution_count": 15,
   "metadata": {},
   "outputs": [
    {
     "name": "stderr",
     "output_type": "stream",
     "text": [
      "C:\\Users\\Usuario\\AppData\\Local\\Temp\\ipykernel_21848\\1656741197.py:9: FutureWarning: \n",
      "\n",
      "Passing `palette` without assigning `hue` is deprecated and will be removed in v0.14.0. Assign the `x` variable to `hue` and set `legend=False` for the same effect.\n",
      "\n",
      "  sns.boxplot(data=data, x='subject', y='num_subscribers', palette='Set2')\n"
     ]
    },
    {
     "data": {
      "image/png": "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",
      "text/plain": [
       "<Figure size 800x600 with 1 Axes>"
      ]
     },
     "metadata": {},
     "output_type": "display_data"
    }
   ],
   "source": [
    "import seaborn as sns\n",
    "import matplotlib.pyplot as plt\n",
    "\n",
    "# Configurar el estilo de Seaborn\n",
    "sns.set(style=\"whitegrid\")\n",
    "\n",
    "# Crear el boxplot\n",
    "plt.figure(figsize=(8, 6))\n",
    "sns.boxplot(data=data, x='subject', y='num_subscribers', palette='Set2')\n",
    "\n",
    "# Personalizar el gráfico\n",
    "plt.title('Distribución del Número de Suscriptores por Asignatura', fontsize=14)\n",
    "plt.xlabel('Asignaturas', fontsize=12)\n",
    "plt.ylabel('Número de Suscriptores', fontsize=12)\n",
    "plt.xticks(fontsize=10)\n",
    "plt.yticks(fontsize=10)\n",
    "\n",
    "# Mostrar el gráfico\n",
    "plt.show()\n"
   ]
  },
  {
   "cell_type": "code",
   "execution_count": 23,
   "metadata": {},
   "outputs": [
    {
     "data": {
      "text/plain": [
       "subject\n",
       "Business Finance       1563.774895\n",
       "Graphic Design         1763.097844\n",
       "Musical Instruments    1245.130882\n",
       "Web Development        6650.476667\n",
       "Name: num_subscribers, dtype: float64"
      ]
     },
     "execution_count": 23,
     "metadata": {},
     "output_type": "execute_result"
    }
   ],
   "source": [
    "data.groupby('subject')['num_subscribers'].mean()"
   ]
  },
  {
   "cell_type": "code",
   "execution_count": 17,
   "metadata": {},
   "outputs": [
    {
     "name": "stdout",
     "output_type": "stream",
     "text": [
      "Estadístico de Kruskal-Wallis: 1001.6004591500682\n",
      "Valor p: 8.08991636213762e-217\n",
      "Hay diferencias significativas entre los grupos (rechazamos H0).\n"
     ]
    }
   ],
   "source": [
    "from scipy.stats import kruskal\n",
    "import pandas as pd\n",
    "\n",
    "# Asegúrate de que tu dataset ya está cargado en tu variable (por ejemplo, `tu_dataset`)\n",
    "\n",
    "# Crear listas separadas para cada grupo de subjects\n",
    "groups = [group['num_subscribers'].values for name, group in data.groupby('subject')]\n",
    "\n",
    "# Realizar el test de Kruskal-Wallis\n",
    "stat, p_value = kruskal(*groups)\n",
    "\n",
    "# Mostrar resultados\n",
    "print(\"Estadístico de Kruskal-Wallis:\", stat)\n",
    "print(\"Valor p:\", p_value)\n",
    "\n",
    "# Interpretación\n",
    "if p_value < 0.05:\n",
    "    print(\"Hay diferencias significativas entre los grupos (rechazamos H0).\")\n",
    "else:\n",
    "    print(\"No hay diferencias significativas entre los grupos (no se rechaza H0).\")\n"
   ]
  },
  {
   "cell_type": "markdown",
   "metadata": {},
   "source": [
    "TUKEY test\n"
   ]
  },
  {
   "cell_type": "code",
   "execution_count": null,
   "metadata": {},
   "outputs": [],
   "source": [
    "# Como podemos observar en el Kruskal-Wallis , el pvalor es MUY BAJO, por tanto  RECHAZAMOS  Ho\n",
    "# Por tanto, concluimos con que las SUBJECT no tienen una media similar de NUM_SUBSCRIBERS \n",
    "# Al no seguir una distribución normal la variable (num_subscribers), hemos hecho la prueba KRUSKAL-WALLIS \n",
    "# Hemos visto las medias de num_subscribers en cada subject,  WEB DEVELOPMENT tiene una media bastante más alta\n",
    "\n",
    "# Por tanto todas las subjects tienen una media relativamente similar, excepto WEB DEVELOPMENT que es bastante más grande\n",
    "\n"
   ]
  }
 ],
 "metadata": {
  "kernelspec": {
   "display_name": "Python 3",
   "language": "python",
   "name": "python3"
  },
  "language_info": {
   "codemirror_mode": {
    "name": "ipython",
    "version": 3
   },
   "file_extension": ".py",
   "mimetype": "text/x-python",
   "name": "python",
   "nbconvert_exporter": "python",
   "pygments_lexer": "ipython3",
   "version": "3.12.7"
  }
 },
 "nbformat": 4,
 "nbformat_minor": 2
}
