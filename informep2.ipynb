{
 "cells": [
  {
   "cell_type": "code",
   "execution_count": null,
   "metadata": {
    "vscode": {
     "languageId": "plaintext"
    }
   },
   "outputs": [],
   "source": [
    "#IDENTIFICAR TIPO DISTRIBUCIÓN\n",
    " PRICE : \n",
    "\n",
    " # CALCULAR PROBABILIDADES DE LAS VARIABLES EN FUNCIÓN DE LA DISTRIBUCIÓN QUE SIGUEN\n",
    "\n"
   ]
  },
  {
   "cell_type": "code",
   "execution_count": null,
   "metadata": {
    "vscode": {
     "languageId": "plaintext"
    }
   },
   "outputs": [],
   "source": [
    "pip install fitter\n"
   ]
  }
 ],
 "metadata": {
  "language_info": {
   "name": "python"
  }
 },
 "nbformat": 4,
 "nbformat_minor": 2
}
